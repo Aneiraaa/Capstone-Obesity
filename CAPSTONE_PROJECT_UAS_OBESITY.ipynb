{
  "nbformat": 4,
  "nbformat_minor": 0,
  "metadata": {
    "colab": {
      "provenance": []
    },
    "kernelspec": {
      "name": "python3",
      "display_name": "Python 3"
    },
    "language_info": {
      "name": "python"
    }
  },
  "cells": [
    {
      "cell_type": "markdown",
      "source": [
        "> Nama   : Aneira Vicentiya Kuncoro\n",
        "\n",
        "> NIM    : A11.2022.14226\n",
        "\n",
        "> Kelas  : Bengkel Koding - DS03"
      ],
      "metadata": {
        "id": "D5tHikcK6Gl_"
      }
    },
    {
      "cell_type": "markdown",
      "source": [
        "# **CAPSTONE PROJECT UAS BENGKEL KODING DATA SCIENCE**\n",
        "\n",
        "---\n",
        "\n"
      ],
      "metadata": {
        "id": "RiM8nKTx2A7r"
      }
    },
    {
      "cell_type": "markdown",
      "source": [
        "## **Exploratory Data Analyst (EDA)**\n",
        "\n",
        "---\n",
        "\n"
      ],
      "metadata": {
        "id": "cIA7JAkJ6JoP"
      }
    },
    {
      "cell_type": "markdown",
      "source": [
        "**Exploratory Data Analysis (EDA)** adalah pendekatan untuk menganalisis dan memvisualisasikan data guna memahami pola, hubungan, distribusi, dan anomali dalam dataset. EDA bertujuan untuk memberi wawasan awal sebelum melakukan analisis lebih lanjut atau pembangunan model."
      ],
      "metadata": {
        "id": "IZfnDqZsbkFB"
      }
    },
    {
      "cell_type": "markdown",
      "source": [
        "### **Persiapan Data**\n",
        "\n",
        "---\n",
        "\n"
      ],
      "metadata": {
        "id": "2OQt7WLCb7tz"
      }
    },
    {
      "cell_type": "markdown",
      "source": [
        "**Persiapan data** merupakan tahap awal dalam proses analisis data yang bertujuan untuk menyiapkan segala hal yang dibutuhkan sebelum dilakukan eksplorasi lebih lanjut. Pada tahap ini, dilakukan beberapa hal penting seperti mengimpor library (pustaka) yang diperlukan, memuat dataset ke dalam lingkungan kerja Python, dan melakukan pengecekan awal terhadap isi data."
      ],
      "metadata": {
        "id": "HHD6TiYhlBJm"
      }
    },
    {
      "cell_type": "markdown",
      "source": [
        "#### **Import Library**\n",
        "\n",
        "---\n",
        "\n"
      ],
      "metadata": {
        "id": "TwJc9ubQd3dI"
      }
    },
    {
      "cell_type": "markdown",
      "source": [
        "**Library** adalah sekumpulan fungsi, modul, atau paket yang sudah disediakan oleh Python untuk memudahkan proses pemrograman. Dalam konteks data science dan EDA, library digunakan untuk membaca, mengolah, menganalisis, dan memvisualisasikan data secara efisien."
      ],
      "metadata": {
        "id": "tugnsveLlXgj"
      }
    },
    {
      "cell_type": "code",
      "execution_count": 42,
      "metadata": {
        "id": "NnYv9N8u6DKi"
      },
      "outputs": [],
      "source": [
        "# Import library yang diperlukan\n",
        "import pandas as pd\n",
        "import numpy as np\n",
        "import matplotlib.pyplot as plt\n",
        "import seaborn as sns"
      ]
    },
    {
      "cell_type": "markdown",
      "source": [
        "**Library yang digunakan :**\n",
        "\n",
        "* `pandas`: Untuk memanipulasi dan menganalisis data dalam bentuk tabel (`DataFrame`).\n",
        "\n",
        "* `numpy`: Untuk perhitungan numerik dan manipulasi `array`.\n",
        "\n",
        "* `matplotlib.pyplot`: Untuk membuat visualisasi data seperti grafik dan diagram.\n",
        "\n",
        "* `seaborn`: Untuk membuat visualisasi data yang lebih menarik dan statistik berbasis `matplotlib`.\n",
        "\n",
        "Dengan **mengimpor library**, kita dapat menggunakan berbagai fungsi canggih tanpa harus menulis ulang kodenya dari awal."
      ],
      "metadata": {
        "id": "I5cXYsYXldcF"
      }
    },
    {
      "cell_type": "markdown",
      "source": [
        "#### **Memuat dataset**\n",
        "\n",
        "---\n",
        "\n"
      ],
      "metadata": {
        "id": "54b8Ap83dzFM"
      }
    },
    {
      "cell_type": "markdown",
      "source": [
        "**Memuat dataset** adalah proses mengambil data dari sumber eksternal (seperti file `.csv`, `database`, atau `API`) ke dalam lingkungan kerja Python agar dapat diproses dan dianalisis."
      ],
      "metadata": {
        "id": "3M9_cilxmACV"
      }
    },
    {
      "cell_type": "code",
      "source": [
        "# Load dataset\n",
        "from google.colab import drive\n",
        "drive.mount('/content/drive')\n",
        "import pandas as pd # Import the pandas library and assign it to the alias 'pd'\n",
        "df = pd.read_csv('/content/drive/MyDrive/dataset/ObesityDataSet.csv')"
      ],
      "metadata": {
        "colab": {
          "base_uri": "https://localhost:8080/"
        },
        "id": "9bZ_fRw36kNc",
        "outputId": "33eb00cb-55b3-4da6-9bad-7bda1769f230"
      },
      "execution_count": 43,
      "outputs": [
        {
          "output_type": "stream",
          "name": "stdout",
          "text": [
            "Drive already mounted at /content/drive; to attempt to forcibly remount, call drive.mount(\"/content/drive\", force_remount=True).\n"
          ]
        }
      ]
    },
    {
      "cell_type": "markdown",
      "source": [
        "**Cara yang saya gunakan :**\n",
        "\n",
        "* Dataset disimpan di Google Drive.\n",
        "\n",
        "* Google Colab digunakan, sehingga perlu mount Google Drive terlebih dahulu agar file bisa diakses.\n",
        "\n",
        "* Setelah itu, data dibaca menggunakan `pd.read_csv()` dan dimasukkan ke dalam sebuah objek `DataFrame` bernama `df`.\n",
        "\n",
        "**Dataset** yang dimuat adalah `ObesityDataSet.csv`, yaitu kumpulan data terkait kebiasaan hidup, antropometri, dan status obesitas individu."
      ],
      "metadata": {
        "id": "O7XTkdi7mQr9"
      }
    },
    {
      "cell_type": "markdown",
      "source": [
        "#### **Menampilkan 5 Baris Pertama Dataset**\n",
        "\n",
        "---\n",
        "\n"
      ],
      "metadata": {
        "id": "LjMEFPVicylg"
      }
    },
    {
      "cell_type": "markdown",
      "source": [
        "Menampilkan **5 baris pertama dataset** dengan `df.head()`"
      ],
      "metadata": {
        "id": "rtjxfselmwaw"
      }
    },
    {
      "cell_type": "code",
      "source": [
        "# Tampilkan 5 baris pertama dataset\n",
        "df.head()"
      ],
      "metadata": {
        "colab": {
          "base_uri": "https://localhost:8080/",
          "height": 226
        },
        "id": "A5JG9OBX7A97",
        "outputId": "e6b59023-8665-4369-8254-4b5f086e6846"
      },
      "execution_count": 44,
      "outputs": [
        {
          "output_type": "execute_result",
          "data": {
            "text/plain": [
              "  Age  Gender Height Weight        CALC FAVC FCVC NCP  SCC SMOKE CH2O  \\\n",
              "0  21  Female   1.62     64          no   no    2   3   no    no    2   \n",
              "1  21  Female   1.52     56   Sometimes   no    3   3  yes   yes    3   \n",
              "2  23    Male    1.8     77  Frequently   no    2   3   no    no    2   \n",
              "3  27    Male    1.8     87  Frequently   no    3   3   no    no    2   \n",
              "4  22    Male   1.78   89.8   Sometimes   no    2   1   no    no    2   \n",
              "\n",
              "  family_history_with_overweight FAF TUE       CAEC                 MTRANS  \\\n",
              "0                            yes   0   1  Sometimes  Public_Transportation   \n",
              "1                            yes   3   0  Sometimes  Public_Transportation   \n",
              "2                            yes   2   1  Sometimes  Public_Transportation   \n",
              "3                             no   2   0  Sometimes                Walking   \n",
              "4                             no   0   0  Sometimes  Public_Transportation   \n",
              "\n",
              "            NObeyesdad  \n",
              "0        Normal_Weight  \n",
              "1        Normal_Weight  \n",
              "2        Normal_Weight  \n",
              "3   Overweight_Level_I  \n",
              "4  Overweight_Level_II  "
            ],
            "text/html": [
              "\n",
              "  <div id=\"df-4a4ecfe0-d1b2-4eb2-86fe-2a7be854153a\" class=\"colab-df-container\">\n",
              "    <div>\n",
              "<style scoped>\n",
              "    .dataframe tbody tr th:only-of-type {\n",
              "        vertical-align: middle;\n",
              "    }\n",
              "\n",
              "    .dataframe tbody tr th {\n",
              "        vertical-align: top;\n",
              "    }\n",
              "\n",
              "    .dataframe thead th {\n",
              "        text-align: right;\n",
              "    }\n",
              "</style>\n",
              "<table border=\"1\" class=\"dataframe\">\n",
              "  <thead>\n",
              "    <tr style=\"text-align: right;\">\n",
              "      <th></th>\n",
              "      <th>Age</th>\n",
              "      <th>Gender</th>\n",
              "      <th>Height</th>\n",
              "      <th>Weight</th>\n",
              "      <th>CALC</th>\n",
              "      <th>FAVC</th>\n",
              "      <th>FCVC</th>\n",
              "      <th>NCP</th>\n",
              "      <th>SCC</th>\n",
              "      <th>SMOKE</th>\n",
              "      <th>CH2O</th>\n",
              "      <th>family_history_with_overweight</th>\n",
              "      <th>FAF</th>\n",
              "      <th>TUE</th>\n",
              "      <th>CAEC</th>\n",
              "      <th>MTRANS</th>\n",
              "      <th>NObeyesdad</th>\n",
              "    </tr>\n",
              "  </thead>\n",
              "  <tbody>\n",
              "    <tr>\n",
              "      <th>0</th>\n",
              "      <td>21</td>\n",
              "      <td>Female</td>\n",
              "      <td>1.62</td>\n",
              "      <td>64</td>\n",
              "      <td>no</td>\n",
              "      <td>no</td>\n",
              "      <td>2</td>\n",
              "      <td>3</td>\n",
              "      <td>no</td>\n",
              "      <td>no</td>\n",
              "      <td>2</td>\n",
              "      <td>yes</td>\n",
              "      <td>0</td>\n",
              "      <td>1</td>\n",
              "      <td>Sometimes</td>\n",
              "      <td>Public_Transportation</td>\n",
              "      <td>Normal_Weight</td>\n",
              "    </tr>\n",
              "    <tr>\n",
              "      <th>1</th>\n",
              "      <td>21</td>\n",
              "      <td>Female</td>\n",
              "      <td>1.52</td>\n",
              "      <td>56</td>\n",
              "      <td>Sometimes</td>\n",
              "      <td>no</td>\n",
              "      <td>3</td>\n",
              "      <td>3</td>\n",
              "      <td>yes</td>\n",
              "      <td>yes</td>\n",
              "      <td>3</td>\n",
              "      <td>yes</td>\n",
              "      <td>3</td>\n",
              "      <td>0</td>\n",
              "      <td>Sometimes</td>\n",
              "      <td>Public_Transportation</td>\n",
              "      <td>Normal_Weight</td>\n",
              "    </tr>\n",
              "    <tr>\n",
              "      <th>2</th>\n",
              "      <td>23</td>\n",
              "      <td>Male</td>\n",
              "      <td>1.8</td>\n",
              "      <td>77</td>\n",
              "      <td>Frequently</td>\n",
              "      <td>no</td>\n",
              "      <td>2</td>\n",
              "      <td>3</td>\n",
              "      <td>no</td>\n",
              "      <td>no</td>\n",
              "      <td>2</td>\n",
              "      <td>yes</td>\n",
              "      <td>2</td>\n",
              "      <td>1</td>\n",
              "      <td>Sometimes</td>\n",
              "      <td>Public_Transportation</td>\n",
              "      <td>Normal_Weight</td>\n",
              "    </tr>\n",
              "    <tr>\n",
              "      <th>3</th>\n",
              "      <td>27</td>\n",
              "      <td>Male</td>\n",
              "      <td>1.8</td>\n",
              "      <td>87</td>\n",
              "      <td>Frequently</td>\n",
              "      <td>no</td>\n",
              "      <td>3</td>\n",
              "      <td>3</td>\n",
              "      <td>no</td>\n",
              "      <td>no</td>\n",
              "      <td>2</td>\n",
              "      <td>no</td>\n",
              "      <td>2</td>\n",
              "      <td>0</td>\n",
              "      <td>Sometimes</td>\n",
              "      <td>Walking</td>\n",
              "      <td>Overweight_Level_I</td>\n",
              "    </tr>\n",
              "    <tr>\n",
              "      <th>4</th>\n",
              "      <td>22</td>\n",
              "      <td>Male</td>\n",
              "      <td>1.78</td>\n",
              "      <td>89.8</td>\n",
              "      <td>Sometimes</td>\n",
              "      <td>no</td>\n",
              "      <td>2</td>\n",
              "      <td>1</td>\n",
              "      <td>no</td>\n",
              "      <td>no</td>\n",
              "      <td>2</td>\n",
              "      <td>no</td>\n",
              "      <td>0</td>\n",
              "      <td>0</td>\n",
              "      <td>Sometimes</td>\n",
              "      <td>Public_Transportation</td>\n",
              "      <td>Overweight_Level_II</td>\n",
              "    </tr>\n",
              "  </tbody>\n",
              "</table>\n",
              "</div>\n",
              "    <div class=\"colab-df-buttons\">\n",
              "\n",
              "  <div class=\"colab-df-container\">\n",
              "    <button class=\"colab-df-convert\" onclick=\"convertToInteractive('df-4a4ecfe0-d1b2-4eb2-86fe-2a7be854153a')\"\n",
              "            title=\"Convert this dataframe to an interactive table.\"\n",
              "            style=\"display:none;\">\n",
              "\n",
              "  <svg xmlns=\"http://www.w3.org/2000/svg\" height=\"24px\" viewBox=\"0 -960 960 960\">\n",
              "    <path d=\"M120-120v-720h720v720H120Zm60-500h600v-160H180v160Zm220 220h160v-160H400v160Zm0 220h160v-160H400v160ZM180-400h160v-160H180v160Zm440 0h160v-160H620v160ZM180-180h160v-160H180v160Zm440 0h160v-160H620v160Z\"/>\n",
              "  </svg>\n",
              "    </button>\n",
              "\n",
              "  <style>\n",
              "    .colab-df-container {\n",
              "      display:flex;\n",
              "      gap: 12px;\n",
              "    }\n",
              "\n",
              "    .colab-df-convert {\n",
              "      background-color: #E8F0FE;\n",
              "      border: none;\n",
              "      border-radius: 50%;\n",
              "      cursor: pointer;\n",
              "      display: none;\n",
              "      fill: #1967D2;\n",
              "      height: 32px;\n",
              "      padding: 0 0 0 0;\n",
              "      width: 32px;\n",
              "    }\n",
              "\n",
              "    .colab-df-convert:hover {\n",
              "      background-color: #E2EBFA;\n",
              "      box-shadow: 0px 1px 2px rgba(60, 64, 67, 0.3), 0px 1px 3px 1px rgba(60, 64, 67, 0.15);\n",
              "      fill: #174EA6;\n",
              "    }\n",
              "\n",
              "    .colab-df-buttons div {\n",
              "      margin-bottom: 4px;\n",
              "    }\n",
              "\n",
              "    [theme=dark] .colab-df-convert {\n",
              "      background-color: #3B4455;\n",
              "      fill: #D2E3FC;\n",
              "    }\n",
              "\n",
              "    [theme=dark] .colab-df-convert:hover {\n",
              "      background-color: #434B5C;\n",
              "      box-shadow: 0px 1px 3px 1px rgba(0, 0, 0, 0.15);\n",
              "      filter: drop-shadow(0px 1px 2px rgba(0, 0, 0, 0.3));\n",
              "      fill: #FFFFFF;\n",
              "    }\n",
              "  </style>\n",
              "\n",
              "    <script>\n",
              "      const buttonEl =\n",
              "        document.querySelector('#df-4a4ecfe0-d1b2-4eb2-86fe-2a7be854153a button.colab-df-convert');\n",
              "      buttonEl.style.display =\n",
              "        google.colab.kernel.accessAllowed ? 'block' : 'none';\n",
              "\n",
              "      async function convertToInteractive(key) {\n",
              "        const element = document.querySelector('#df-4a4ecfe0-d1b2-4eb2-86fe-2a7be854153a');\n",
              "        const dataTable =\n",
              "          await google.colab.kernel.invokeFunction('convertToInteractive',\n",
              "                                                    [key], {});\n",
              "        if (!dataTable) return;\n",
              "\n",
              "        const docLinkHtml = 'Like what you see? Visit the ' +\n",
              "          '<a target=\"_blank\" href=https://colab.research.google.com/notebooks/data_table.ipynb>data table notebook</a>'\n",
              "          + ' to learn more about interactive tables.';\n",
              "        element.innerHTML = '';\n",
              "        dataTable['output_type'] = 'display_data';\n",
              "        await google.colab.output.renderOutput(dataTable, element);\n",
              "        const docLink = document.createElement('div');\n",
              "        docLink.innerHTML = docLinkHtml;\n",
              "        element.appendChild(docLink);\n",
              "      }\n",
              "    </script>\n",
              "  </div>\n",
              "\n",
              "\n",
              "    <div id=\"df-30ee9156-1a20-4558-bd84-e8f18d8bc60a\">\n",
              "      <button class=\"colab-df-quickchart\" onclick=\"quickchart('df-30ee9156-1a20-4558-bd84-e8f18d8bc60a')\"\n",
              "                title=\"Suggest charts\"\n",
              "                style=\"display:none;\">\n",
              "\n",
              "<svg xmlns=\"http://www.w3.org/2000/svg\" height=\"24px\"viewBox=\"0 0 24 24\"\n",
              "     width=\"24px\">\n",
              "    <g>\n",
              "        <path d=\"M19 3H5c-1.1 0-2 .9-2 2v14c0 1.1.9 2 2 2h14c1.1 0 2-.9 2-2V5c0-1.1-.9-2-2-2zM9 17H7v-7h2v7zm4 0h-2V7h2v10zm4 0h-2v-4h2v4z\"/>\n",
              "    </g>\n",
              "</svg>\n",
              "      </button>\n",
              "\n",
              "<style>\n",
              "  .colab-df-quickchart {\n",
              "      --bg-color: #E8F0FE;\n",
              "      --fill-color: #1967D2;\n",
              "      --hover-bg-color: #E2EBFA;\n",
              "      --hover-fill-color: #174EA6;\n",
              "      --disabled-fill-color: #AAA;\n",
              "      --disabled-bg-color: #DDD;\n",
              "  }\n",
              "\n",
              "  [theme=dark] .colab-df-quickchart {\n",
              "      --bg-color: #3B4455;\n",
              "      --fill-color: #D2E3FC;\n",
              "      --hover-bg-color: #434B5C;\n",
              "      --hover-fill-color: #FFFFFF;\n",
              "      --disabled-bg-color: #3B4455;\n",
              "      --disabled-fill-color: #666;\n",
              "  }\n",
              "\n",
              "  .colab-df-quickchart {\n",
              "    background-color: var(--bg-color);\n",
              "    border: none;\n",
              "    border-radius: 50%;\n",
              "    cursor: pointer;\n",
              "    display: none;\n",
              "    fill: var(--fill-color);\n",
              "    height: 32px;\n",
              "    padding: 0;\n",
              "    width: 32px;\n",
              "  }\n",
              "\n",
              "  .colab-df-quickchart:hover {\n",
              "    background-color: var(--hover-bg-color);\n",
              "    box-shadow: 0 1px 2px rgba(60, 64, 67, 0.3), 0 1px 3px 1px rgba(60, 64, 67, 0.15);\n",
              "    fill: var(--button-hover-fill-color);\n",
              "  }\n",
              "\n",
              "  .colab-df-quickchart-complete:disabled,\n",
              "  .colab-df-quickchart-complete:disabled:hover {\n",
              "    background-color: var(--disabled-bg-color);\n",
              "    fill: var(--disabled-fill-color);\n",
              "    box-shadow: none;\n",
              "  }\n",
              "\n",
              "  .colab-df-spinner {\n",
              "    border: 2px solid var(--fill-color);\n",
              "    border-color: transparent;\n",
              "    border-bottom-color: var(--fill-color);\n",
              "    animation:\n",
              "      spin 1s steps(1) infinite;\n",
              "  }\n",
              "\n",
              "  @keyframes spin {\n",
              "    0% {\n",
              "      border-color: transparent;\n",
              "      border-bottom-color: var(--fill-color);\n",
              "      border-left-color: var(--fill-color);\n",
              "    }\n",
              "    20% {\n",
              "      border-color: transparent;\n",
              "      border-left-color: var(--fill-color);\n",
              "      border-top-color: var(--fill-color);\n",
              "    }\n",
              "    30% {\n",
              "      border-color: transparent;\n",
              "      border-left-color: var(--fill-color);\n",
              "      border-top-color: var(--fill-color);\n",
              "      border-right-color: var(--fill-color);\n",
              "    }\n",
              "    40% {\n",
              "      border-color: transparent;\n",
              "      border-right-color: var(--fill-color);\n",
              "      border-top-color: var(--fill-color);\n",
              "    }\n",
              "    60% {\n",
              "      border-color: transparent;\n",
              "      border-right-color: var(--fill-color);\n",
              "    }\n",
              "    80% {\n",
              "      border-color: transparent;\n",
              "      border-right-color: var(--fill-color);\n",
              "      border-bottom-color: var(--fill-color);\n",
              "    }\n",
              "    90% {\n",
              "      border-color: transparent;\n",
              "      border-bottom-color: var(--fill-color);\n",
              "    }\n",
              "  }\n",
              "</style>\n",
              "\n",
              "      <script>\n",
              "        async function quickchart(key) {\n",
              "          const quickchartButtonEl =\n",
              "            document.querySelector('#' + key + ' button');\n",
              "          quickchartButtonEl.disabled = true;  // To prevent multiple clicks.\n",
              "          quickchartButtonEl.classList.add('colab-df-spinner');\n",
              "          try {\n",
              "            const charts = await google.colab.kernel.invokeFunction(\n",
              "                'suggestCharts', [key], {});\n",
              "          } catch (error) {\n",
              "            console.error('Error during call to suggestCharts:', error);\n",
              "          }\n",
              "          quickchartButtonEl.classList.remove('colab-df-spinner');\n",
              "          quickchartButtonEl.classList.add('colab-df-quickchart-complete');\n",
              "        }\n",
              "        (() => {\n",
              "          let quickchartButtonEl =\n",
              "            document.querySelector('#df-30ee9156-1a20-4558-bd84-e8f18d8bc60a button');\n",
              "          quickchartButtonEl.style.display =\n",
              "            google.colab.kernel.accessAllowed ? 'block' : 'none';\n",
              "        })();\n",
              "      </script>\n",
              "    </div>\n",
              "\n",
              "    </div>\n",
              "  </div>\n"
            ],
            "application/vnd.google.colaboratory.intrinsic+json": {
              "type": "dataframe",
              "variable_name": "df",
              "summary": "{\n  \"name\": \"df\",\n  \"rows\": 2111,\n  \"fields\": [\n    {\n      \"column\": \"Age\",\n      \"properties\": {\n        \"dtype\": \"string\",\n        \"num_unique_values\": 1394,\n        \"samples\": [\n          \"21.012569\",\n          \"30.577944\",\n          \"30.002029\"\n        ],\n        \"semantic_type\": \"\",\n        \"description\": \"\"\n      }\n    },\n    {\n      \"column\": \"Gender\",\n      \"properties\": {\n        \"dtype\": \"category\",\n        \"num_unique_values\": 3,\n        \"samples\": [\n          \"Female\",\n          \"Male\",\n          \"?\"\n        ],\n        \"semantic_type\": \"\",\n        \"description\": \"\"\n      }\n    },\n    {\n      \"column\": \"Height\",\n      \"properties\": {\n        \"dtype\": \"string\",\n        \"num_unique_values\": 1562,\n        \"samples\": [\n          \"1.817917\",\n          \"1.699793\",\n          \"1.508908\"\n        ],\n        \"semantic_type\": \"\",\n        \"description\": \"\"\n      }\n    },\n    {\n      \"column\": \"Weight\",\n      \"properties\": {\n        \"dtype\": \"string\",\n        \"num_unique_values\": 1518,\n        \"samples\": [\n          \"49.105025\",\n          \"109.900472\",\n          \"104.585783\"\n        ],\n        \"semantic_type\": \"\",\n        \"description\": \"\"\n      }\n    },\n    {\n      \"column\": \"CALC\",\n      \"properties\": {\n        \"dtype\": \"category\",\n        \"num_unique_values\": 5,\n        \"samples\": [\n          \"Sometimes\",\n          \"Always\",\n          \"Frequently\"\n        ],\n        \"semantic_type\": \"\",\n        \"description\": \"\"\n      }\n    },\n    {\n      \"column\": \"FAVC\",\n      \"properties\": {\n        \"dtype\": \"category\",\n        \"num_unique_values\": 3,\n        \"samples\": [\n          \"no\",\n          \"yes\",\n          \"?\"\n        ],\n        \"semantic_type\": \"\",\n        \"description\": \"\"\n      }\n    },\n    {\n      \"column\": \"FCVC\",\n      \"properties\": {\n        \"dtype\": \"category\",\n        \"num_unique_values\": 808,\n        \"samples\": [\n          \"2.535154\",\n          \"2.951591\",\n          \"2.971588\"\n        ],\n        \"semantic_type\": \"\",\n        \"description\": \"\"\n      }\n    },\n    {\n      \"column\": \"NCP\",\n      \"properties\": {\n        \"dtype\": \"category\",\n        \"num_unique_values\": 637,\n        \"samples\": [\n          \"2.812283\",\n          \"2.118153\",\n          \"3.821168\"\n        ],\n        \"semantic_type\": \"\",\n        \"description\": \"\"\n      }\n    },\n    {\n      \"column\": \"SCC\",\n      \"properties\": {\n        \"dtype\": \"category\",\n        \"num_unique_values\": 3,\n        \"samples\": [\n          \"no\",\n          \"yes\",\n          \"?\"\n        ],\n        \"semantic_type\": \"\",\n        \"description\": \"\"\n      }\n    },\n    {\n      \"column\": \"SMOKE\",\n      \"properties\": {\n        \"dtype\": \"category\",\n        \"num_unique_values\": 3,\n        \"samples\": [\n          \"no\",\n          \"yes\",\n          \"?\"\n        ],\n        \"semantic_type\": \"\",\n        \"description\": \"\"\n      }\n    },\n    {\n      \"column\": \"CH2O\",\n      \"properties\": {\n        \"dtype\": \"string\",\n        \"num_unique_values\": 1263,\n        \"samples\": [\n          \"2.395387\",\n          \"1.01378\",\n          \"2.03415\"\n        ],\n        \"semantic_type\": \"\",\n        \"description\": \"\"\n      }\n    },\n    {\n      \"column\": \"family_history_with_overweight\",\n      \"properties\": {\n        \"dtype\": \"category\",\n        \"num_unique_values\": 3,\n        \"samples\": [\n          \"yes\",\n          \"no\",\n          \"?\"\n        ],\n        \"semantic_type\": \"\",\n        \"description\": \"\"\n      }\n    },\n    {\n      \"column\": \"FAF\",\n      \"properties\": {\n        \"dtype\": \"string\",\n        \"num_unique_values\": 1186,\n        \"samples\": [\n          \"1.609801\",\n          \"1.194898\",\n          \"1.34139\"\n        ],\n        \"semantic_type\": \"\",\n        \"description\": \"\"\n      }\n    },\n    {\n      \"column\": \"TUE\",\n      \"properties\": {\n        \"dtype\": \"string\",\n        \"num_unique_values\": 1130,\n        \"samples\": [\n          \"1.89933\",\n          \"0.930836\",\n          \"0.173232\"\n        ],\n        \"semantic_type\": \"\",\n        \"description\": \"\"\n      }\n    },\n    {\n      \"column\": \"CAEC\",\n      \"properties\": {\n        \"dtype\": \"category\",\n        \"num_unique_values\": 5,\n        \"samples\": [\n          \"Frequently\",\n          \"?\",\n          \"Always\"\n        ],\n        \"semantic_type\": \"\",\n        \"description\": \"\"\n      }\n    },\n    {\n      \"column\": \"MTRANS\",\n      \"properties\": {\n        \"dtype\": \"category\",\n        \"num_unique_values\": 6,\n        \"samples\": [\n          \"Public_Transportation\",\n          \"Walking\",\n          \"?\"\n        ],\n        \"semantic_type\": \"\",\n        \"description\": \"\"\n      }\n    },\n    {\n      \"column\": \"NObeyesdad\",\n      \"properties\": {\n        \"dtype\": \"category\",\n        \"num_unique_values\": 7,\n        \"samples\": [\n          \"Normal_Weight\",\n          \"Overweight_Level_I\",\n          \"Obesity_Type_II\"\n        ],\n        \"semantic_type\": \"\",\n        \"description\": \"\"\n      }\n    }\n  ]\n}"
            }
          },
          "metadata": {},
          "execution_count": 44
        }
      ]
    },
    {
      "cell_type": "markdown",
      "source": [
        "**Bertujuan untuk :**\n",
        "\n",
        "* Melihat isi data secara umum.\n",
        "\n",
        "* Mengetahui nama-nama kolom dan tipe data.\n",
        "\n",
        "* Mengidentifikasi kemungkinan adanya nilai yang tidak valid, kosong, atau tidak konsisten.\n",
        "\n",
        "Langkah ini sangat penting untuk memberikan **gambaran awal** tentang **struktur dan kualitas data** sebelum dilakukan analisis lebih lanjut."
      ],
      "metadata": {
        "id": "Wo9W8crSm27J"
      }
    },
    {
      "cell_type": "markdown",
      "source": [
        "### **Pemahaman Data**\n",
        "\n",
        "---\n",
        "\n"
      ],
      "metadata": {
        "id": "5ifJSCN9ecJQ"
      }
    },
    {
      "cell_type": "markdown",
      "source": [
        "Tahapan **Pemahaman Data** bertujuan untuk mengenali struktur, tipe, dan isi dari dataset yang telah dimuat. Hal ini penting agar analis data dapat menentukan langkah-langkah pembersihan, transformasi, dan visualisasi yang tepat di tahap berikutnya."
      ],
      "metadata": {
        "id": "RG4j8Tmpnk7b"
      }
    },
    {
      "cell_type": "markdown",
      "source": [
        "#### **Cek Tipe Data dan Informasi Dataset**\n",
        "\n",
        "---\n",
        "\n"
      ],
      "metadata": {
        "id": "GQmKGCp2dFdc"
      }
    },
    {
      "cell_type": "markdown",
      "source": [
        "Fungsi `df.info()` memberikan **gambaran umum tentang struktur dataset**, meliputi:\n",
        "\n",
        "* Jumlah baris (`entries`),\n",
        "\n",
        "* Nama kolom,\n",
        "\n",
        "* Jumlah `non-null` (nilai yang tidak kosong) di setiap kolom,\n",
        "\n",
        "* Tipe data masing-masing kolom (seperti `int64`, `float64`, atau `object`)."
      ],
      "metadata": {
        "id": "Eh8FNoJEnwaC"
      }
    },
    {
      "cell_type": "code",
      "source": [
        "# Cek tipe data dan informasi dataset\n",
        "df.info()"
      ],
      "metadata": {
        "colab": {
          "base_uri": "https://localhost:8080/"
        },
        "id": "ZVoWulHC7EuI",
        "outputId": "a89b809d-3d73-4a3d-c713-2cc5c467742c"
      },
      "execution_count": 45,
      "outputs": [
        {
          "output_type": "stream",
          "name": "stdout",
          "text": [
            "<class 'pandas.core.frame.DataFrame'>\n",
            "RangeIndex: 2111 entries, 0 to 2110\n",
            "Data columns (total 17 columns):\n",
            " #   Column                          Non-Null Count  Dtype \n",
            "---  ------                          --------------  ----- \n",
            " 0   Age                             2097 non-null   object\n",
            " 1   Gender                          2102 non-null   object\n",
            " 2   Height                          2099 non-null   object\n",
            " 3   Weight                          2100 non-null   object\n",
            " 4   CALC                            2106 non-null   object\n",
            " 5   FAVC                            2100 non-null   object\n",
            " 6   FCVC                            2103 non-null   object\n",
            " 7   NCP                             2099 non-null   object\n",
            " 8   SCC                             2101 non-null   object\n",
            " 9   SMOKE                           2106 non-null   object\n",
            " 10  CH2O                            2105 non-null   object\n",
            " 11  family_history_with_overweight  2098 non-null   object\n",
            " 12  FAF                             2103 non-null   object\n",
            " 13  TUE                             2102 non-null   object\n",
            " 14  CAEC                            2100 non-null   object\n",
            " 15  MTRANS                          2105 non-null   object\n",
            " 16  NObeyesdad                      2111 non-null   object\n",
            "dtypes: object(17)\n",
            "memory usage: 280.5+ KB\n"
          ]
        }
      ]
    },
    {
      "cell_type": "markdown",
      "source": [
        "**Tujuan :**\n",
        "\n",
        "* Untuk mengetahui apakah ada kolom yang memiliki nilai kosong (`missing values`).\n",
        "\n",
        "* Untuk memahami tipe data, sehingga dapat dipersiapkan untuk proses analisis atau konversi tipe data yang diperlukan."
      ],
      "metadata": {
        "id": "Cn7h87yQomUT"
      }
    },
    {
      "cell_type": "markdown",
      "source": [
        "#### **Menampilkan Kolom dalam Dataset**\n",
        "\n",
        "---\n",
        "\n"
      ],
      "metadata": {
        "id": "ASjsdZtXgqXx"
      }
    },
    {
      "cell_type": "markdown",
      "source": [
        "Fungsi ini **menampilkan daftar nama kolom pada dataset**. Ini membantu kita untuk:\n",
        "\n",
        "* Memahami atribut atau fitur apa saja yang tersedia,\n",
        "\n",
        "* Menghindari kesalahan penulisan nama kolom saat melakukan manipulasi data selanjutnya.\n"
      ],
      "metadata": {
        "id": "CaMFmS7jo4KX"
      }
    },
    {
      "cell_type": "code",
      "source": [
        "# Menampilkan kolom dalam dataset\n",
        "df.columns"
      ],
      "metadata": {
        "colab": {
          "base_uri": "https://localhost:8080/"
        },
        "id": "i6Cpqcgg7Rsk",
        "outputId": "48f811db-20ff-402d-d355-25c9fe15ed92"
      },
      "execution_count": 46,
      "outputs": [
        {
          "output_type": "execute_result",
          "data": {
            "text/plain": [
              "Index(['Age', 'Gender', 'Height', 'Weight', 'CALC', 'FAVC', 'FCVC', 'NCP',\n",
              "       'SCC', 'SMOKE', 'CH2O', 'family_history_with_overweight', 'FAF', 'TUE',\n",
              "       'CAEC', 'MTRANS', 'NObeyesdad'],\n",
              "      dtype='object')"
            ]
          },
          "metadata": {},
          "execution_count": 46
        }
      ]
    },
    {
      "cell_type": "markdown",
      "source": [
        "#### **Melihat Jumlah Data**\n",
        "\n",
        "---\n",
        "\n"
      ],
      "metadata": {
        "id": "nouS5js2g0Mv"
      }
    },
    {
      "cell_type": "markdown",
      "source": [
        "Fungsi `df.shape` akan mengembalikan ukuran dataset dalam format (baris, kolom).\n",
        "\n",
        "**Output:** `(2111, 17)` berarti dataset memiliki:\n",
        "\n",
        "`2111` baris data (jumlah observasi/individu),\n",
        "\n",
        "`17` kolom (jumlah fitur/variabel)."
      ],
      "metadata": {
        "id": "GKjkDnKlpENZ"
      }
    },
    {
      "cell_type": "code",
      "source": [
        "# Melihat jumlah data dalam setiap fitur\n",
        "df.shape"
      ],
      "metadata": {
        "colab": {
          "base_uri": "https://localhost:8080/"
        },
        "id": "al1-JMU77c7u",
        "outputId": "13ee1e40-5e2f-4e7e-cf99-4d7947f07eb4"
      },
      "execution_count": 47,
      "outputs": [
        {
          "output_type": "execute_result",
          "data": {
            "text/plain": [
              "(2111, 17)"
            ]
          },
          "metadata": {},
          "execution_count": 47
        }
      ]
    },
    {
      "cell_type": "markdown",
      "source": [
        "**Tujuan :**\n",
        "\n",
        "* Mengetahui seberapa besar data yang akan dianalisis.\n",
        "\n",
        "* Mengantisipasi kebutuhan pembersihan atau segmentasi data."
      ],
      "metadata": {
        "id": "J3yuSIucpVJD"
      }
    },
    {
      "cell_type": "markdown",
      "source": [
        "#### **Statistik Ringkasan Dataset**\n",
        "\n",
        "---\n",
        "\n"
      ],
      "metadata": {
        "id": "0ZdChXzsfJhX"
      }
    },
    {
      "cell_type": "markdown",
      "source": [
        "Fungsi `df.describe()` memberikan **ringkasan statistik dari kolom bertipe numerik**, seperti:\n",
        "\n",
        "* `count`: jumlah data tidak kosong,\n",
        "\n",
        "* `mean`: nilai rata-rata,\n",
        "\n",
        "* `std`: standar deviasi (sebaran data),\n",
        "\n",
        "* `min`: nilai minimum,\n",
        "\n",
        "* `25%`, `50%`, `75%`: nilai kuartil,\n",
        "\n",
        "* `max`: nilai maksimum."
      ],
      "metadata": {
        "id": "3YyD4uERpflG"
      }
    },
    {
      "cell_type": "code",
      "source": [
        "# Statistik ringkasan dataset\n",
        "df.describe()"
      ],
      "metadata": {
        "colab": {
          "base_uri": "https://localhost:8080/",
          "height": 195
        },
        "id": "VZOJl4k57Ofm",
        "outputId": "dfbdd9c1-54c7-4300-cbc6-e9893395aa0d"
      },
      "execution_count": 48,
      "outputs": [
        {
          "output_type": "execute_result",
          "data": {
            "text/plain": [
              "         Age Gender Height Weight       CALC  FAVC  FCVC   NCP   SCC SMOKE  \\\n",
              "count   2097   2102   2099   2100       2106  2100  2103  2099  2101  2106   \n",
              "unique  1394      3   1562   1518          5     3   808   637     3     3   \n",
              "top       18   Male    1.7     80  Sometimes   yes     3     3    no    no   \n",
              "freq     124   1056     58     58       1386  1844   647  1183  1997  2054   \n",
              "\n",
              "        CH2O family_history_with_overweight   FAF   TUE       CAEC  \\\n",
              "count   2105                           2098  2103  2102       2100   \n",
              "unique  1263                              3  1186  1130          5   \n",
              "top        2                            yes     0     0  Sometimes   \n",
              "freq     441                           1705   404   552       1747   \n",
              "\n",
              "                       MTRANS      NObeyesdad  \n",
              "count                    2105            2111  \n",
              "unique                      6               7  \n",
              "top     Public_Transportation  Obesity_Type_I  \n",
              "freq                     1572             351  "
            ],
            "text/html": [
              "\n",
              "  <div id=\"df-dd022c03-2d93-4bf6-b6e2-0b501c6bc0bd\" class=\"colab-df-container\">\n",
              "    <div>\n",
              "<style scoped>\n",
              "    .dataframe tbody tr th:only-of-type {\n",
              "        vertical-align: middle;\n",
              "    }\n",
              "\n",
              "    .dataframe tbody tr th {\n",
              "        vertical-align: top;\n",
              "    }\n",
              "\n",
              "    .dataframe thead th {\n",
              "        text-align: right;\n",
              "    }\n",
              "</style>\n",
              "<table border=\"1\" class=\"dataframe\">\n",
              "  <thead>\n",
              "    <tr style=\"text-align: right;\">\n",
              "      <th></th>\n",
              "      <th>Age</th>\n",
              "      <th>Gender</th>\n",
              "      <th>Height</th>\n",
              "      <th>Weight</th>\n",
              "      <th>CALC</th>\n",
              "      <th>FAVC</th>\n",
              "      <th>FCVC</th>\n",
              "      <th>NCP</th>\n",
              "      <th>SCC</th>\n",
              "      <th>SMOKE</th>\n",
              "      <th>CH2O</th>\n",
              "      <th>family_history_with_overweight</th>\n",
              "      <th>FAF</th>\n",
              "      <th>TUE</th>\n",
              "      <th>CAEC</th>\n",
              "      <th>MTRANS</th>\n",
              "      <th>NObeyesdad</th>\n",
              "    </tr>\n",
              "  </thead>\n",
              "  <tbody>\n",
              "    <tr>\n",
              "      <th>count</th>\n",
              "      <td>2097</td>\n",
              "      <td>2102</td>\n",
              "      <td>2099</td>\n",
              "      <td>2100</td>\n",
              "      <td>2106</td>\n",
              "      <td>2100</td>\n",
              "      <td>2103</td>\n",
              "      <td>2099</td>\n",
              "      <td>2101</td>\n",
              "      <td>2106</td>\n",
              "      <td>2105</td>\n",
              "      <td>2098</td>\n",
              "      <td>2103</td>\n",
              "      <td>2102</td>\n",
              "      <td>2100</td>\n",
              "      <td>2105</td>\n",
              "      <td>2111</td>\n",
              "    </tr>\n",
              "    <tr>\n",
              "      <th>unique</th>\n",
              "      <td>1394</td>\n",
              "      <td>3</td>\n",
              "      <td>1562</td>\n",
              "      <td>1518</td>\n",
              "      <td>5</td>\n",
              "      <td>3</td>\n",
              "      <td>808</td>\n",
              "      <td>637</td>\n",
              "      <td>3</td>\n",
              "      <td>3</td>\n",
              "      <td>1263</td>\n",
              "      <td>3</td>\n",
              "      <td>1186</td>\n",
              "      <td>1130</td>\n",
              "      <td>5</td>\n",
              "      <td>6</td>\n",
              "      <td>7</td>\n",
              "    </tr>\n",
              "    <tr>\n",
              "      <th>top</th>\n",
              "      <td>18</td>\n",
              "      <td>Male</td>\n",
              "      <td>1.7</td>\n",
              "      <td>80</td>\n",
              "      <td>Sometimes</td>\n",
              "      <td>yes</td>\n",
              "      <td>3</td>\n",
              "      <td>3</td>\n",
              "      <td>no</td>\n",
              "      <td>no</td>\n",
              "      <td>2</td>\n",
              "      <td>yes</td>\n",
              "      <td>0</td>\n",
              "      <td>0</td>\n",
              "      <td>Sometimes</td>\n",
              "      <td>Public_Transportation</td>\n",
              "      <td>Obesity_Type_I</td>\n",
              "    </tr>\n",
              "    <tr>\n",
              "      <th>freq</th>\n",
              "      <td>124</td>\n",
              "      <td>1056</td>\n",
              "      <td>58</td>\n",
              "      <td>58</td>\n",
              "      <td>1386</td>\n",
              "      <td>1844</td>\n",
              "      <td>647</td>\n",
              "      <td>1183</td>\n",
              "      <td>1997</td>\n",
              "      <td>2054</td>\n",
              "      <td>441</td>\n",
              "      <td>1705</td>\n",
              "      <td>404</td>\n",
              "      <td>552</td>\n",
              "      <td>1747</td>\n",
              "      <td>1572</td>\n",
              "      <td>351</td>\n",
              "    </tr>\n",
              "  </tbody>\n",
              "</table>\n",
              "</div>\n",
              "    <div class=\"colab-df-buttons\">\n",
              "\n",
              "  <div class=\"colab-df-container\">\n",
              "    <button class=\"colab-df-convert\" onclick=\"convertToInteractive('df-dd022c03-2d93-4bf6-b6e2-0b501c6bc0bd')\"\n",
              "            title=\"Convert this dataframe to an interactive table.\"\n",
              "            style=\"display:none;\">\n",
              "\n",
              "  <svg xmlns=\"http://www.w3.org/2000/svg\" height=\"24px\" viewBox=\"0 -960 960 960\">\n",
              "    <path d=\"M120-120v-720h720v720H120Zm60-500h600v-160H180v160Zm220 220h160v-160H400v160Zm0 220h160v-160H400v160ZM180-400h160v-160H180v160Zm440 0h160v-160H620v160ZM180-180h160v-160H180v160Zm440 0h160v-160H620v160Z\"/>\n",
              "  </svg>\n",
              "    </button>\n",
              "\n",
              "  <style>\n",
              "    .colab-df-container {\n",
              "      display:flex;\n",
              "      gap: 12px;\n",
              "    }\n",
              "\n",
              "    .colab-df-convert {\n",
              "      background-color: #E8F0FE;\n",
              "      border: none;\n",
              "      border-radius: 50%;\n",
              "      cursor: pointer;\n",
              "      display: none;\n",
              "      fill: #1967D2;\n",
              "      height: 32px;\n",
              "      padding: 0 0 0 0;\n",
              "      width: 32px;\n",
              "    }\n",
              "\n",
              "    .colab-df-convert:hover {\n",
              "      background-color: #E2EBFA;\n",
              "      box-shadow: 0px 1px 2px rgba(60, 64, 67, 0.3), 0px 1px 3px 1px rgba(60, 64, 67, 0.15);\n",
              "      fill: #174EA6;\n",
              "    }\n",
              "\n",
              "    .colab-df-buttons div {\n",
              "      margin-bottom: 4px;\n",
              "    }\n",
              "\n",
              "    [theme=dark] .colab-df-convert {\n",
              "      background-color: #3B4455;\n",
              "      fill: #D2E3FC;\n",
              "    }\n",
              "\n",
              "    [theme=dark] .colab-df-convert:hover {\n",
              "      background-color: #434B5C;\n",
              "      box-shadow: 0px 1px 3px 1px rgba(0, 0, 0, 0.15);\n",
              "      filter: drop-shadow(0px 1px 2px rgba(0, 0, 0, 0.3));\n",
              "      fill: #FFFFFF;\n",
              "    }\n",
              "  </style>\n",
              "\n",
              "    <script>\n",
              "      const buttonEl =\n",
              "        document.querySelector('#df-dd022c03-2d93-4bf6-b6e2-0b501c6bc0bd button.colab-df-convert');\n",
              "      buttonEl.style.display =\n",
              "        google.colab.kernel.accessAllowed ? 'block' : 'none';\n",
              "\n",
              "      async function convertToInteractive(key) {\n",
              "        const element = document.querySelector('#df-dd022c03-2d93-4bf6-b6e2-0b501c6bc0bd');\n",
              "        const dataTable =\n",
              "          await google.colab.kernel.invokeFunction('convertToInteractive',\n",
              "                                                    [key], {});\n",
              "        if (!dataTable) return;\n",
              "\n",
              "        const docLinkHtml = 'Like what you see? Visit the ' +\n",
              "          '<a target=\"_blank\" href=https://colab.research.google.com/notebooks/data_table.ipynb>data table notebook</a>'\n",
              "          + ' to learn more about interactive tables.';\n",
              "        element.innerHTML = '';\n",
              "        dataTable['output_type'] = 'display_data';\n",
              "        await google.colab.output.renderOutput(dataTable, element);\n",
              "        const docLink = document.createElement('div');\n",
              "        docLink.innerHTML = docLinkHtml;\n",
              "        element.appendChild(docLink);\n",
              "      }\n",
              "    </script>\n",
              "  </div>\n",
              "\n",
              "\n",
              "    <div id=\"df-f78263a7-29c7-4367-8f86-ce9ede7d2733\">\n",
              "      <button class=\"colab-df-quickchart\" onclick=\"quickchart('df-f78263a7-29c7-4367-8f86-ce9ede7d2733')\"\n",
              "                title=\"Suggest charts\"\n",
              "                style=\"display:none;\">\n",
              "\n",
              "<svg xmlns=\"http://www.w3.org/2000/svg\" height=\"24px\"viewBox=\"0 0 24 24\"\n",
              "     width=\"24px\">\n",
              "    <g>\n",
              "        <path d=\"M19 3H5c-1.1 0-2 .9-2 2v14c0 1.1.9 2 2 2h14c1.1 0 2-.9 2-2V5c0-1.1-.9-2-2-2zM9 17H7v-7h2v7zm4 0h-2V7h2v10zm4 0h-2v-4h2v4z\"/>\n",
              "    </g>\n",
              "</svg>\n",
              "      </button>\n",
              "\n",
              "<style>\n",
              "  .colab-df-quickchart {\n",
              "      --bg-color: #E8F0FE;\n",
              "      --fill-color: #1967D2;\n",
              "      --hover-bg-color: #E2EBFA;\n",
              "      --hover-fill-color: #174EA6;\n",
              "      --disabled-fill-color: #AAA;\n",
              "      --disabled-bg-color: #DDD;\n",
              "  }\n",
              "\n",
              "  [theme=dark] .colab-df-quickchart {\n",
              "      --bg-color: #3B4455;\n",
              "      --fill-color: #D2E3FC;\n",
              "      --hover-bg-color: #434B5C;\n",
              "      --hover-fill-color: #FFFFFF;\n",
              "      --disabled-bg-color: #3B4455;\n",
              "      --disabled-fill-color: #666;\n",
              "  }\n",
              "\n",
              "  .colab-df-quickchart {\n",
              "    background-color: var(--bg-color);\n",
              "    border: none;\n",
              "    border-radius: 50%;\n",
              "    cursor: pointer;\n",
              "    display: none;\n",
              "    fill: var(--fill-color);\n",
              "    height: 32px;\n",
              "    padding: 0;\n",
              "    width: 32px;\n",
              "  }\n",
              "\n",
              "  .colab-df-quickchart:hover {\n",
              "    background-color: var(--hover-bg-color);\n",
              "    box-shadow: 0 1px 2px rgba(60, 64, 67, 0.3), 0 1px 3px 1px rgba(60, 64, 67, 0.15);\n",
              "    fill: var(--button-hover-fill-color);\n",
              "  }\n",
              "\n",
              "  .colab-df-quickchart-complete:disabled,\n",
              "  .colab-df-quickchart-complete:disabled:hover {\n",
              "    background-color: var(--disabled-bg-color);\n",
              "    fill: var(--disabled-fill-color);\n",
              "    box-shadow: none;\n",
              "  }\n",
              "\n",
              "  .colab-df-spinner {\n",
              "    border: 2px solid var(--fill-color);\n",
              "    border-color: transparent;\n",
              "    border-bottom-color: var(--fill-color);\n",
              "    animation:\n",
              "      spin 1s steps(1) infinite;\n",
              "  }\n",
              "\n",
              "  @keyframes spin {\n",
              "    0% {\n",
              "      border-color: transparent;\n",
              "      border-bottom-color: var(--fill-color);\n",
              "      border-left-color: var(--fill-color);\n",
              "    }\n",
              "    20% {\n",
              "      border-color: transparent;\n",
              "      border-left-color: var(--fill-color);\n",
              "      border-top-color: var(--fill-color);\n",
              "    }\n",
              "    30% {\n",
              "      border-color: transparent;\n",
              "      border-left-color: var(--fill-color);\n",
              "      border-top-color: var(--fill-color);\n",
              "      border-right-color: var(--fill-color);\n",
              "    }\n",
              "    40% {\n",
              "      border-color: transparent;\n",
              "      border-right-color: var(--fill-color);\n",
              "      border-top-color: var(--fill-color);\n",
              "    }\n",
              "    60% {\n",
              "      border-color: transparent;\n",
              "      border-right-color: var(--fill-color);\n",
              "    }\n",
              "    80% {\n",
              "      border-color: transparent;\n",
              "      border-right-color: var(--fill-color);\n",
              "      border-bottom-color: var(--fill-color);\n",
              "    }\n",
              "    90% {\n",
              "      border-color: transparent;\n",
              "      border-bottom-color: var(--fill-color);\n",
              "    }\n",
              "  }\n",
              "</style>\n",
              "\n",
              "      <script>\n",
              "        async function quickchart(key) {\n",
              "          const quickchartButtonEl =\n",
              "            document.querySelector('#' + key + ' button');\n",
              "          quickchartButtonEl.disabled = true;  // To prevent multiple clicks.\n",
              "          quickchartButtonEl.classList.add('colab-df-spinner');\n",
              "          try {\n",
              "            const charts = await google.colab.kernel.invokeFunction(\n",
              "                'suggestCharts', [key], {});\n",
              "          } catch (error) {\n",
              "            console.error('Error during call to suggestCharts:', error);\n",
              "          }\n",
              "          quickchartButtonEl.classList.remove('colab-df-spinner');\n",
              "          quickchartButtonEl.classList.add('colab-df-quickchart-complete');\n",
              "        }\n",
              "        (() => {\n",
              "          let quickchartButtonEl =\n",
              "            document.querySelector('#df-f78263a7-29c7-4367-8f86-ce9ede7d2733 button');\n",
              "          quickchartButtonEl.style.display =\n",
              "            google.colab.kernel.accessAllowed ? 'block' : 'none';\n",
              "        })();\n",
              "      </script>\n",
              "    </div>\n",
              "\n",
              "    </div>\n",
              "  </div>\n"
            ],
            "application/vnd.google.colaboratory.intrinsic+json": {
              "type": "dataframe",
              "summary": "{\n  \"name\": \"df\",\n  \"rows\": 4,\n  \"fields\": [\n    {\n      \"column\": \"Age\",\n      \"properties\": {\n        \"dtype\": \"string\",\n        \"num_unique_values\": 4,\n        \"samples\": [\n          1394,\n          \"124\",\n          \"2097\"\n        ],\n        \"semantic_type\": \"\",\n        \"description\": \"\"\n      }\n    },\n    {\n      \"column\": \"Gender\",\n      \"properties\": {\n        \"dtype\": \"string\",\n        \"num_unique_values\": 4,\n        \"samples\": [\n          3,\n          \"1056\",\n          \"2102\"\n        ],\n        \"semantic_type\": \"\",\n        \"description\": \"\"\n      }\n    },\n    {\n      \"column\": \"Height\",\n      \"properties\": {\n        \"dtype\": \"string\",\n        \"num_unique_values\": 4,\n        \"samples\": [\n          1562,\n          \"58\",\n          \"2099\"\n        ],\n        \"semantic_type\": \"\",\n        \"description\": \"\"\n      }\n    },\n    {\n      \"column\": \"Weight\",\n      \"properties\": {\n        \"dtype\": \"string\",\n        \"num_unique_values\": 4,\n        \"samples\": [\n          1518,\n          \"58\",\n          \"2100\"\n        ],\n        \"semantic_type\": \"\",\n        \"description\": \"\"\n      }\n    },\n    {\n      \"column\": \"CALC\",\n      \"properties\": {\n        \"dtype\": \"string\",\n        \"num_unique_values\": 4,\n        \"samples\": [\n          5,\n          \"1386\",\n          \"2106\"\n        ],\n        \"semantic_type\": \"\",\n        \"description\": \"\"\n      }\n    },\n    {\n      \"column\": \"FAVC\",\n      \"properties\": {\n        \"dtype\": \"string\",\n        \"num_unique_values\": 4,\n        \"samples\": [\n          3,\n          \"1844\",\n          \"2100\"\n        ],\n        \"semantic_type\": \"\",\n        \"description\": \"\"\n      }\n    },\n    {\n      \"column\": \"FCVC\",\n      \"properties\": {\n        \"dtype\": \"string\",\n        \"num_unique_values\": 4,\n        \"samples\": [\n          808,\n          \"647\",\n          \"2103\"\n        ],\n        \"semantic_type\": \"\",\n        \"description\": \"\"\n      }\n    },\n    {\n      \"column\": \"NCP\",\n      \"properties\": {\n        \"dtype\": \"string\",\n        \"num_unique_values\": 4,\n        \"samples\": [\n          637,\n          \"1183\",\n          \"2099\"\n        ],\n        \"semantic_type\": \"\",\n        \"description\": \"\"\n      }\n    },\n    {\n      \"column\": \"SCC\",\n      \"properties\": {\n        \"dtype\": \"string\",\n        \"num_unique_values\": 4,\n        \"samples\": [\n          3,\n          \"1997\",\n          \"2101\"\n        ],\n        \"semantic_type\": \"\",\n        \"description\": \"\"\n      }\n    },\n    {\n      \"column\": \"SMOKE\",\n      \"properties\": {\n        \"dtype\": \"string\",\n        \"num_unique_values\": 4,\n        \"samples\": [\n          3,\n          \"2054\",\n          \"2106\"\n        ],\n        \"semantic_type\": \"\",\n        \"description\": \"\"\n      }\n    },\n    {\n      \"column\": \"CH2O\",\n      \"properties\": {\n        \"dtype\": \"string\",\n        \"num_unique_values\": 4,\n        \"samples\": [\n          1263,\n          \"441\",\n          \"2105\"\n        ],\n        \"semantic_type\": \"\",\n        \"description\": \"\"\n      }\n    },\n    {\n      \"column\": \"family_history_with_overweight\",\n      \"properties\": {\n        \"dtype\": \"string\",\n        \"num_unique_values\": 4,\n        \"samples\": [\n          3,\n          \"1705\",\n          \"2098\"\n        ],\n        \"semantic_type\": \"\",\n        \"description\": \"\"\n      }\n    },\n    {\n      \"column\": \"FAF\",\n      \"properties\": {\n        \"dtype\": \"string\",\n        \"num_unique_values\": 4,\n        \"samples\": [\n          1186,\n          \"404\",\n          \"2103\"\n        ],\n        \"semantic_type\": \"\",\n        \"description\": \"\"\n      }\n    },\n    {\n      \"column\": \"TUE\",\n      \"properties\": {\n        \"dtype\": \"string\",\n        \"num_unique_values\": 4,\n        \"samples\": [\n          1130,\n          \"552\",\n          \"2102\"\n        ],\n        \"semantic_type\": \"\",\n        \"description\": \"\"\n      }\n    },\n    {\n      \"column\": \"CAEC\",\n      \"properties\": {\n        \"dtype\": \"string\",\n        \"num_unique_values\": 4,\n        \"samples\": [\n          5,\n          \"1747\",\n          \"2100\"\n        ],\n        \"semantic_type\": \"\",\n        \"description\": \"\"\n      }\n    },\n    {\n      \"column\": \"MTRANS\",\n      \"properties\": {\n        \"dtype\": \"string\",\n        \"num_unique_values\": 4,\n        \"samples\": [\n          6,\n          \"1572\",\n          \"2105\"\n        ],\n        \"semantic_type\": \"\",\n        \"description\": \"\"\n      }\n    },\n    {\n      \"column\": \"NObeyesdad\",\n      \"properties\": {\n        \"dtype\": \"string\",\n        \"num_unique_values\": 4,\n        \"samples\": [\n          7,\n          \"351\",\n          \"2111\"\n        ],\n        \"semantic_type\": \"\",\n        \"description\": \"\"\n      }\n    }\n  ]\n}"
            }
          },
          "metadata": {},
          "execution_count": 48
        }
      ]
    },
    {
      "cell_type": "markdown",
      "source": [
        "**Tujuan :**\n",
        "\n",
        "* Melihat distribusi nilai pada setiap kolom numerik.\n",
        "\n",
        "* Menemukan kemungkinan data ekstrem (outlier) atau nilai yang tidak masuk akal.\n",
        "\n",
        "* Menjadi acuan awal dalam memahami sebaran data yang ada."
      ],
      "metadata": {
        "id": "DPzeIT2Up6TA"
      }
    },
    {
      "cell_type": "markdown",
      "source": [
        "### **Pengecekan Data yang Tidak Konsisten**\n",
        "\n",
        "---\n",
        "\n"
      ],
      "metadata": {
        "id": "KB2gXh-0dcJD"
      }
    },
    {
      "cell_type": "markdown",
      "source": [
        "Dataset sering kali mengandung data yang tidak lengkap (`missing values`), tidak konsisten, atau salah format. Bagian ini bertujuan untuk :\n",
        "\n",
        "* Mengidentifikasi data yang hilang atau tidak sesuai,\n",
        "\n",
        "* Melakukan perbaikan agar data siap dianalisis."
      ],
      "metadata": {
        "id": "ckM3zPzJqWJo"
      }
    },
    {
      "cell_type": "markdown",
      "source": [
        "#### **Cek Jumlah Missing Values di Setiap Kolom**\n",
        "\n",
        "---\n",
        "\n"
      ],
      "metadata": {
        "id": "0Pmdn8eFdUK4"
      }
    },
    {
      "cell_type": "markdown",
      "source": [
        "Fungsi ini digunakan untuk **menghitung jumlah nilai kosong (`NaN`)** di setiap kolom dataset. Missing values dapat mengganggu proses analisis atau model machine learning, sehingga perlu dideteksi dan ditangani."
      ],
      "metadata": {
        "id": "UciAY7mPqgcj"
      }
    },
    {
      "cell_type": "code",
      "source": [
        "# Cek jumlah missing values di setiap kolom\n",
        "df.isnull().sum()"
      ],
      "metadata": {
        "colab": {
          "base_uri": "https://localhost:8080/",
          "height": 617
        },
        "id": "uFYqmixC7sZs",
        "outputId": "92c5ea0d-5410-4a69-ac7b-de9ecc456a14"
      },
      "execution_count": 49,
      "outputs": [
        {
          "output_type": "execute_result",
          "data": {
            "text/plain": [
              "Age                               14\n",
              "Gender                             9\n",
              "Height                            12\n",
              "Weight                            11\n",
              "CALC                               5\n",
              "FAVC                              11\n",
              "FCVC                               8\n",
              "NCP                               12\n",
              "SCC                               10\n",
              "SMOKE                              5\n",
              "CH2O                               6\n",
              "family_history_with_overweight    13\n",
              "FAF                                8\n",
              "TUE                                9\n",
              "CAEC                              11\n",
              "MTRANS                             6\n",
              "NObeyesdad                         0\n",
              "dtype: int64"
            ],
            "text/html": [
              "<div>\n",
              "<style scoped>\n",
              "    .dataframe tbody tr th:only-of-type {\n",
              "        vertical-align: middle;\n",
              "    }\n",
              "\n",
              "    .dataframe tbody tr th {\n",
              "        vertical-align: top;\n",
              "    }\n",
              "\n",
              "    .dataframe thead th {\n",
              "        text-align: right;\n",
              "    }\n",
              "</style>\n",
              "<table border=\"1\" class=\"dataframe\">\n",
              "  <thead>\n",
              "    <tr style=\"text-align: right;\">\n",
              "      <th></th>\n",
              "      <th>0</th>\n",
              "    </tr>\n",
              "  </thead>\n",
              "  <tbody>\n",
              "    <tr>\n",
              "      <th>Age</th>\n",
              "      <td>14</td>\n",
              "    </tr>\n",
              "    <tr>\n",
              "      <th>Gender</th>\n",
              "      <td>9</td>\n",
              "    </tr>\n",
              "    <tr>\n",
              "      <th>Height</th>\n",
              "      <td>12</td>\n",
              "    </tr>\n",
              "    <tr>\n",
              "      <th>Weight</th>\n",
              "      <td>11</td>\n",
              "    </tr>\n",
              "    <tr>\n",
              "      <th>CALC</th>\n",
              "      <td>5</td>\n",
              "    </tr>\n",
              "    <tr>\n",
              "      <th>FAVC</th>\n",
              "      <td>11</td>\n",
              "    </tr>\n",
              "    <tr>\n",
              "      <th>FCVC</th>\n",
              "      <td>8</td>\n",
              "    </tr>\n",
              "    <tr>\n",
              "      <th>NCP</th>\n",
              "      <td>12</td>\n",
              "    </tr>\n",
              "    <tr>\n",
              "      <th>SCC</th>\n",
              "      <td>10</td>\n",
              "    </tr>\n",
              "    <tr>\n",
              "      <th>SMOKE</th>\n",
              "      <td>5</td>\n",
              "    </tr>\n",
              "    <tr>\n",
              "      <th>CH2O</th>\n",
              "      <td>6</td>\n",
              "    </tr>\n",
              "    <tr>\n",
              "      <th>family_history_with_overweight</th>\n",
              "      <td>13</td>\n",
              "    </tr>\n",
              "    <tr>\n",
              "      <th>FAF</th>\n",
              "      <td>8</td>\n",
              "    </tr>\n",
              "    <tr>\n",
              "      <th>TUE</th>\n",
              "      <td>9</td>\n",
              "    </tr>\n",
              "    <tr>\n",
              "      <th>CAEC</th>\n",
              "      <td>11</td>\n",
              "    </tr>\n",
              "    <tr>\n",
              "      <th>MTRANS</th>\n",
              "      <td>6</td>\n",
              "    </tr>\n",
              "    <tr>\n",
              "      <th>NObeyesdad</th>\n",
              "      <td>0</td>\n",
              "    </tr>\n",
              "  </tbody>\n",
              "</table>\n",
              "</div><br><label><b>dtype:</b> int64</label>"
            ]
          },
          "metadata": {},
          "execution_count": 49
        }
      ]
    },
    {
      "cell_type": "markdown",
      "source": [
        "#### **Mencari Duplikat Data**\n",
        "\n",
        "---\n",
        "\n"
      ],
      "metadata": {
        "id": "F6_457S5960M"
      }
    },
    {
      "cell_type": "code",
      "source": [
        "# Mengecek jumlah baris yang terduplikasi\n",
        "df.duplicated().sum()"
      ],
      "metadata": {
        "colab": {
          "base_uri": "https://localhost:8080/"
        },
        "id": "JhefiqGP-rum",
        "outputId": "0121daef-0c51-4ae1-9b01-94cdf82d9dac"
      },
      "execution_count": 50,
      "outputs": [
        {
          "output_type": "execute_result",
          "data": {
            "text/plain": [
              "np.int64(18)"
            ]
          },
          "metadata": {},
          "execution_count": 50
        }
      ]
    },
    {
      "cell_type": "markdown",
      "source": [
        "* `df.duplicated()` akan menghasilkan boolean series (True/False) untuk setiap baris, menandakan apakah baris tersebut adalah duplikat.\n",
        "\n",
        "* `.sum()` akan menjumlahkan nilai True yang dianggap sebagai 1, sehingga kamu akan mendapat jumlah total baris duplikat dalam dataframe."
      ],
      "metadata": {
        "id": "UI1lVrOo-yVb"
      }
    },
    {
      "cell_type": "markdown",
      "source": [
        "####**Menampilkan jumlah nilai unik**\n",
        "\n",
        "---\n",
        "\n"
      ],
      "metadata": {
        "id": "X0tpUPR_jH6-"
      }
    },
    {
      "cell_type": "markdown",
      "source": [
        "Digunakan untuk **melihat berapa banyak nilai unik yang dimiliki oleh setiap kolom bertipe kategorikal** (`object`). Digunakan untuk :\n",
        "\n",
        "* Mengetahui keragaman data kategorikal,\n",
        "\n",
        "* Mendeteksi kolom yang mungkin memiliki nilai aneh atau duplikat penulisan (seperti `Yes`, `yes`, `YES` dianggap berbeda)."
      ],
      "metadata": {
        "id": "DK1ayDaYr5rU"
      }
    },
    {
      "cell_type": "code",
      "source": [
        "# Menampilkan jumlah nilai unik dari kolom bertipe kategorikal\n",
        "df.select_dtypes(include='object').nunique()"
      ],
      "metadata": {
        "colab": {
          "base_uri": "https://localhost:8080/",
          "height": 617
        },
        "id": "zbz83voy8cQm",
        "outputId": "b060ee5a-9b3d-4ff0-e275-f48635598027"
      },
      "execution_count": 51,
      "outputs": [
        {
          "output_type": "execute_result",
          "data": {
            "text/plain": [
              "Age                               1394\n",
              "Gender                               3\n",
              "Height                            1562\n",
              "Weight                            1518\n",
              "CALC                                 5\n",
              "FAVC                                 3\n",
              "FCVC                               808\n",
              "NCP                                637\n",
              "SCC                                  3\n",
              "SMOKE                                3\n",
              "CH2O                              1263\n",
              "family_history_with_overweight       3\n",
              "FAF                               1186\n",
              "TUE                               1130\n",
              "CAEC                                 5\n",
              "MTRANS                               6\n",
              "NObeyesdad                           7\n",
              "dtype: int64"
            ],
            "text/html": [
              "<div>\n",
              "<style scoped>\n",
              "    .dataframe tbody tr th:only-of-type {\n",
              "        vertical-align: middle;\n",
              "    }\n",
              "\n",
              "    .dataframe tbody tr th {\n",
              "        vertical-align: top;\n",
              "    }\n",
              "\n",
              "    .dataframe thead th {\n",
              "        text-align: right;\n",
              "    }\n",
              "</style>\n",
              "<table border=\"1\" class=\"dataframe\">\n",
              "  <thead>\n",
              "    <tr style=\"text-align: right;\">\n",
              "      <th></th>\n",
              "      <th>0</th>\n",
              "    </tr>\n",
              "  </thead>\n",
              "  <tbody>\n",
              "    <tr>\n",
              "      <th>Age</th>\n",
              "      <td>1394</td>\n",
              "    </tr>\n",
              "    <tr>\n",
              "      <th>Gender</th>\n",
              "      <td>3</td>\n",
              "    </tr>\n",
              "    <tr>\n",
              "      <th>Height</th>\n",
              "      <td>1562</td>\n",
              "    </tr>\n",
              "    <tr>\n",
              "      <th>Weight</th>\n",
              "      <td>1518</td>\n",
              "    </tr>\n",
              "    <tr>\n",
              "      <th>CALC</th>\n",
              "      <td>5</td>\n",
              "    </tr>\n",
              "    <tr>\n",
              "      <th>FAVC</th>\n",
              "      <td>3</td>\n",
              "    </tr>\n",
              "    <tr>\n",
              "      <th>FCVC</th>\n",
              "      <td>808</td>\n",
              "    </tr>\n",
              "    <tr>\n",
              "      <th>NCP</th>\n",
              "      <td>637</td>\n",
              "    </tr>\n",
              "    <tr>\n",
              "      <th>SCC</th>\n",
              "      <td>3</td>\n",
              "    </tr>\n",
              "    <tr>\n",
              "      <th>SMOKE</th>\n",
              "      <td>3</td>\n",
              "    </tr>\n",
              "    <tr>\n",
              "      <th>CH2O</th>\n",
              "      <td>1263</td>\n",
              "    </tr>\n",
              "    <tr>\n",
              "      <th>family_history_with_overweight</th>\n",
              "      <td>3</td>\n",
              "    </tr>\n",
              "    <tr>\n",
              "      <th>FAF</th>\n",
              "      <td>1186</td>\n",
              "    </tr>\n",
              "    <tr>\n",
              "      <th>TUE</th>\n",
              "      <td>1130</td>\n",
              "    </tr>\n",
              "    <tr>\n",
              "      <th>CAEC</th>\n",
              "      <td>5</td>\n",
              "    </tr>\n",
              "    <tr>\n",
              "      <th>MTRANS</th>\n",
              "      <td>6</td>\n",
              "    </tr>\n",
              "    <tr>\n",
              "      <th>NObeyesdad</th>\n",
              "      <td>7</td>\n",
              "    </tr>\n",
              "  </tbody>\n",
              "</table>\n",
              "</div><br><label><b>dtype:</b> int64</label>"
            ]
          },
          "metadata": {},
          "execution_count": 51
        }
      ]
    },
    {
      "cell_type": "markdown",
      "source": [
        "#### **Cek Keseimbangan Data**"
      ],
      "metadata": {
        "id": "6_x20Uem3wyU"
      }
    },
    {
      "cell_type": "code",
      "source": [
        "# Hitung jumlah tiap kelas obesitas\n",
        "class_counts = df['NObeyesdad'].value_counts()\n",
        "print(\"Jumlah data per kelas:\")\n",
        "print(class_counts)"
      ],
      "metadata": {
        "colab": {
          "base_uri": "https://localhost:8080/"
        },
        "id": "JtyLa1wS345q",
        "outputId": "0f1d4b42-ed93-4cf6-db18-4b56fb71b83f"
      },
      "execution_count": 52,
      "outputs": [
        {
          "output_type": "stream",
          "name": "stdout",
          "text": [
            "Jumlah data per kelas:\n",
            "NObeyesdad\n",
            "Obesity_Type_I         351\n",
            "Obesity_Type_III       324\n",
            "Obesity_Type_II        297\n",
            "Overweight_Level_I     290\n",
            "Overweight_Level_II    290\n",
            "Normal_Weight          287\n",
            "Insufficient_Weight    272\n",
            "Name: count, dtype: int64\n"
          ]
        }
      ]
    },
    {
      "cell_type": "markdown",
      "source": [
        "### **Visualisasi Data**\n",
        "\n",
        "---\n",
        "\n"
      ],
      "metadata": {
        "id": "RDc8iY6M0Zoo"
      }
    },
    {
      "cell_type": "markdown",
      "source": [
        "Dalam proses **Exploratory Data Analysis (EDA)**, visualisasi data sangat penting untuk memahami pola, tren, dan anomali dalam dataset secara intuitif."
      ],
      "metadata": {
        "id": "VIgpKj8Y1ZNt"
      }
    },
    {
      "cell_type": "markdown",
      "source": [
        "#### **Visualisasi Distribusi Kelas Sebelum SMOTE**\n",
        "\n",
        "---\n",
        "\n"
      ],
      "metadata": {
        "id": "ZQ7MgKQfkTeV"
      }
    },
    {
      "cell_type": "markdown",
      "source": [
        "**Countplot** digunakan untuk menghitung dan memvisualisasikan jumlah kemunculan dari setiap kelas pada label target seperti NObeyesdad, yang merepresentasikan kategori obesitas (misalnya: `Insufficient_Weight`, `Normal_Weight`, `Obesity_Type_I`, dan lainnya). Dengan countplot, kita dapat **melihat distribusi data antar kelas dan mengevaluasi apakah dataset tersebut seimbang** (jumlah data di tiap kelas relatif sama) **atau tidak seimbang** (salah satu kelas mendominasi). Informasi ini sangat penting terutama dalam konteks pemodelan machine learning, karena ketidakseimbangan kelas dapat memengaruhi performa model dan membuat prediksi cenderung bias terhadap kelas mayoritas."
      ],
      "metadata": {
        "id": "pxGaf8p1vtFu"
      }
    },
    {
      "cell_type": "code",
      "source": [
        "# Distribusi Kelas Obesitas\n",
        "sns.countplot(x='NObeyesdad', hue='NObeyesdad', data=df, palette='Set2', legend=False)\n",
        "plt.xticks(rotation=45)\n",
        "plt.title(\"Distribusi Kelas Obesitas\")\n",
        "plt.xlabel(\"Kategori\")\n",
        "plt.ylabel(\"Jumlah\")\n",
        "plt.tight_layout()\n",
        "plt.show()"
      ],
      "metadata": {
        "colab": {
          "base_uri": "https://localhost:8080/",
          "height": 487
        },
        "id": "bjbyttqe_Im8",
        "outputId": "756a35df-d875-47d4-a869-7cb7e154560b"
      },
      "execution_count": 53,
      "outputs": [
        {
          "output_type": "display_data",
          "data": {
            "text/plain": [
              "<Figure size 640x480 with 1 Axes>"
            ],
            "image/png": "[encoded data removed]"
          },
          "metadata": {}
        }
      ]
    },
    {
      "cell_type": "markdown",
      "source": [
        "**Interpretasi :**\n",
        "* Kategori dengan **jumlah terbanyak** : `Obesity_Type_I` (~350 individu)\n",
        "\n",
        "* Kategori dengan **jumlah terendah** : `Insufficient_Weight` (~275 individu)\n",
        "\n",
        "* Kategori lain seperti `Normal_Weight`, `Overweight_Level_I`, dan `Overweight_Level_II` memiliki jumlah yang hampir sama (sekitar 290-an).\n",
        "\n",
        "* Terdapat tren bahwa kategori obesitas (Type I, II, III) memiliki jumlah yang relatif tinggi, mengindikasikan prevalensi obesitas cukup besar dalam dataset ini.\n",
        "\n",
        "Jadi,\n",
        "* Jumlah orang **terbanyak ada di kategori Obesity Type I**\n",
        "Artinya, banyak orang dalam data ini mengalami obesitas tipe I.\n",
        "\n",
        "* Jumlah **paling sedikit ada di kategori Insufficient Weight** (berat badan kurang)\n",
        "Jadi, tidak banyak orang yang kekurangan berat badan.\n",
        "\n",
        "* Kategori Normal Weight (berat badan normal) tidak paling banyak\n",
        "Ini mengindikasikan bahwa **lebih banyak orang yang kelebihan berat atau obesitas dibanding yang berat badannya normal**."
      ],
      "metadata": {
        "id": "VA5NWB-Mv4V3"
      }
    },
    {
      "cell_type": "markdown",
      "source": [
        "### **Deteksi Outliers**"
      ],
      "metadata": {
        "id": "dejZ6CNr_S97"
      }
    },
    {
      "cell_type": "markdown",
      "source": [
        "#### **Visualisasi Menggunakan Boxplot**\n",
        "\n",
        "---\n",
        "\n"
      ],
      "metadata": {
        "id": "-rMqSN3Ijclv"
      }
    },
    {
      "cell_type": "markdown",
      "source": [
        "**Boxplot** digunakan untuk melihat distribusi data numerik dan mengidentifikasi keberadaan **outliers**. Dengan visualisasi ini, kita bisa lebih mudah memahami sebaran data dan menentukan apakah outliers perlu ditangani atau tidak."
      ],
      "metadata": {
        "id": "jd_TYv4ps0xA"
      }
    },
    {
      "source": [
        "print(\"\\n[INFO] Mendeteksi Outliers\")\n",
        "\n",
        "# Define num_cols to contain the names of numerical columns\n",
        "num_cols = df.select_dtypes(include=np.number).columns\n",
        "\n",
        "for col in num_cols:\n",
        "    Q1 = df[col].quantile(0.25)\n",
        "    Q3 = df[col].quantile(0.75)\n",
        "    IQR = Q3 - Q1\n",
        "    lower_bound = Q1 - 1.5 * IQR\n",
        "    upper_bound = Q3 + 1.5 * IQR\n",
        "    outliers = df[(df[col] < lower_bound) | (df[col] > upper_bound)][col]"
      ],
      "cell_type": "code",
      "metadata": {
        "colab": {
          "base_uri": "https://localhost:8080/"
        },
        "id": "zdj8VW7R-9QR",
        "outputId": "4e358987-4043-4e65-bee3-691d90339486"
      },
      "execution_count": 54,
      "outputs": [
        {
          "output_type": "stream",
          "name": "stdout",
          "text": [
            "\n",
            "[INFO] Mendeteksi Outliers\n"
          ]
        }
      ]
    },
    {
      "cell_type": "code",
      "source": [
        "# Ambil kolom numerik\n",
        "num_cols = df.select_dtypes(include=np.number).columns"
      ],
      "metadata": {
        "id": "TKa5fpFAHGfx"
      },
      "execution_count": 55,
      "outputs": []
    },
    {
      "cell_type": "code",
      "source": [
        "# Visualisasi dengan Boxplot sebelum Outlier diganti\n",
        "for col in num_cols:\n",
        "    plt.figure(figsize=(8, 6))\n",
        "    sns.boxplot(x=df[col])\n",
        "    plt.title(f'Boxplot of {col}')\n",
        "    plt.show()"
      ],
      "metadata": {
        "id": "RNx18E5d_AHE"
      },
      "execution_count": 56,
      "outputs": []
    },
    {
      "cell_type": "code",
      "source": [
        "# Visualisasi dengan Boxplot sebelum Outlier diganti\n",
        "for col in num_cols:\n",
        "    plt.figure(figsize=(8, 6))\n",
        "    sns.boxplot(x=df[col])\n",
        "    plt.title(f'Boxplot of {col}')\n",
        "    plt.show()"
      ],
      "metadata": {
        "id": "BFLrnVY4F72d"
      },
      "execution_count": 57,
      "outputs": []
    },
    {
      "cell_type": "markdown",
      "source": [
        "> Berdasarkan hasil **eksplorasi data (EDA)**, dapat disimpulkan bahwa data usia, berat badan, dan tinggi badan memiliki distribusi yang tidak normal dan cenderung skewed, dengan sejumlah outlier yang perlu diperhatikan. Dataset menunjukkan ketidakseimbangan kelas pada label `NObeyesdad`, di mana beberapa kategori obesitas mendominasi. Visualisasi scatter plot mengindikasikan adanya pola pemisahan antar kelas obesitas, khususnya pada kombinasi fitur berat badan dan tinggi badan yang berkaitan erat dengan BMI. Insight ini menunjukkan bahwa fitur-fitur numerik seperti berat, tinggi, dan usia sangat berpengaruh dalam membedakan kelas obesitas, serta perlu penanganan khusus pada outlier dan ketidakseimbangan data sebelum dilakukan modeling lebih lanjut."
      ],
      "metadata": {
        "id": "U5k0tqfJ_9rt"
      }
    },
    {
      "cell_type": "markdown",
      "source": [
        "## **DATA PREPROCESSING**"
      ],
      "metadata": {
        "id": "2dou6VSH6FnQ"
      }
    },
    {
      "cell_type": "markdown",
      "source": [
        "**Data preprocessing** adalah proses awal dalam analisis data atau machine learning yang bertujuan untuk membersihkan, memformat, dan mempersiapkan data mentah agar bisa digunakan secara efektif dalam pemodelan atau analisis. Data mentah sering kali mengandung noise, missing values, format tidak konsisten, atau outlier yang dapat memengaruhi hasil model jika tidak ditangani."
      ],
      "metadata": {
        "id": "nY-b5_syzS-M"
      }
    },
    {
      "cell_type": "markdown",
      "source": [
        "### **Menangani Missing Value**"
      ],
      "metadata": {
        "id": "KiD33NmLyF6A"
      }
    },
    {
      "cell_type": "markdown",
      "source": [
        "**Missing value** (nilai yang hilang) adalah sel atau entri dalam dataset yang tidak memiliki data atau bernilai kosong. Dalam file `.csv` atau data frame Python (Pandas), ini sering terlihat sebagai `NaN`, `None`, atau hanya sel kosong.\n",
        "\n",
        "Menangani **missing value** adalah langkah penting pertama dalam preprocessing data. Tanpa ini, analisis dan model yang dibangun berisiko bias, error, atau tidak valid. Pilih metode penanganan berdasarkan jenis data, jumlah missing, dan tujuan analisis."
      ],
      "metadata": {
        "id": "uyxnauXry_Dj"
      }
    },
    {
      "cell_type": "markdown",
      "source": [
        "#### **Mengganti Tanda `'?'` dengan `NaN`**\n",
        "\n",
        "---\n",
        "\n"
      ],
      "metadata": {
        "id": "_gJq8tu5fZII"
      }
    },
    {
      "cell_type": "markdown",
      "source": [
        "Beberapa dataset menandai nilai kosong atau tidak diketahui dengan simbol `'?'`, bukan `NaN`. Karena Python mengenali NaN sebagai `missing value`, kita perlu mengganti tanda `'?'` menjadi `np.nan`. **Tujuannya**, agar Python dan library analisis bisa mengenali nilai kosong secara standar."
      ],
      "metadata": {
        "id": "PAHlzTZjqtQI"
      }
    },
    {
      "cell_type": "code",
      "source": [
        "# Mengganti tanda '?' dengan NaN\n",
        "df.replace('?', np.nan, inplace=True)"
      ],
      "metadata": {
        "id": "TJOxZL5p-USk"
      },
      "execution_count": 58,
      "outputs": []
    },
    {
      "cell_type": "markdown",
      "source": [
        "####**Isi missing value (imputasi)**"
      ],
      "metadata": {
        "id": "PC0nyIuVcv2V"
      }
    },
    {
      "cell_type": "code",
      "source": [
        "from sklearn.impute import SimpleImputer\n",
        "\n",
        "# Membuat imputer untuk fitur numerik\n",
        "imputer = SimpleImputer(strategy='mean')  # bisa juga pakai 'median'\n",
        "\n",
        "# Terapkan imputasi ke data sebelum scaling\n",
        "X_imputed = imputer.fit_transform(X)\n",
        "\n",
        "# Pastikan hasilnya kembali ke bentuk DataFrame dengan nama kolom asli\n",
        "X = pd.DataFrame(X_imputed, columns=X.columns)"
      ],
      "metadata": {
        "id": "ck82KT6qc2V8"
      },
      "execution_count": 59,
      "outputs": []
    },
    {
      "cell_type": "code",
      "source": [
        "df = df.dropna()  # menghapus semua baris dengan NaN"
      ],
      "metadata": {
        "id": "j4pXT4YWc8BN"
      },
      "execution_count": 60,
      "outputs": []
    },
    {
      "cell_type": "code",
      "source": [
        "X = df.drop(columns='NObeyesdad')\n",
        "y = df['NObeyesdad']\n",
        "X = pd.get_dummies(X)\n",
        "# lalu train_test_split, scaling, dan pemodelan seperti sebelumnya"
      ],
      "metadata": {
        "id": "A6yIh-fIdAem"
      },
      "execution_count": 61,
      "outputs": []
    },
    {
      "cell_type": "code",
      "source": [
        "print(\"Apakah ada NaN pada X_train?\", np.isnan(X_train).sum())"
      ],
      "metadata": {
        "colab": {
          "base_uri": "https://localhost:8080/"
        },
        "id": "tqpLLPNGdGMe",
        "outputId": "4184023f-127a-41ed-8d02-e385970f46e5"
      },
      "execution_count": 62,
      "outputs": [
        {
          "output_type": "stream",
          "name": "stdout",
          "text": [
            "Apakah ada NaN pada X_train? 0\n"
          ]
        }
      ]
    },
    {
      "cell_type": "code",
      "source": [
        "df = df.dropna().reset_index(drop=True) # Reset index after dropping rows\n",
        "\n",
        "\n",
        "# Pisahkan fitur dan target\n",
        "X = df.drop(columns='NObeyesdad')  # fitur\n",
        "y = df['NObeyesdad']               # target klasifikasi\n",
        "\n",
        "cat_cols = X.select_dtypes(include='object').columns\n",
        "X = pd.get_dummies(X, columns=cat_cols, drop_first=True) # Use drop_first=True to avoid multicollinearity\n",
        "\n",
        "\n",
        "# Split data 80:20\n",
        "X_train, X_test, y_train, y_test = train_test_split(X, y, test_size=0.2, random_state=42)\n",
        "\n",
        "scaler = StandardScaler()\n",
        "X_train = scaler.fit_transform(X_train)\n",
        "X_test = scaler.transform(X_test)\n",
        "\n",
        "# Now X_train and X_test should not contain NaNs."
      ],
      "metadata": {
        "id": "MtfIXBdMduOZ"
      },
      "execution_count": 63,
      "outputs": []
    },
    {
      "cell_type": "markdown",
      "source": [
        "#### **Konversi Kolom ke Tipe Numerik**"
      ],
      "metadata": {
        "id": "yePYTmTQfpTW"
      }
    },
    {
      "cell_type": "markdown",
      "source": [
        "Terkadang kolom yang seharusnya bertipe angka (numerik) malah dibaca sebagai object (`string`) karena mengandung karakter non-numerik seperti `'?'`. Fungsi `pd.to_numeric`(`..., errors='coerce'`) mengubah kolom menjadi numerik, dan jika ada data yang tidak bisa dikonversi, akan otomatis dijadikan `NaN`.**Tujuannya** untuk membersihkan data numerik dari nilai tidak valid."
      ],
      "metadata": {
        "id": "FH7SwoomrDXu"
      }
    },
    {
      "cell_type": "code",
      "source": [
        "# Konversi kolom ke tipe numerik jika perlu (gunakan coerce agar string jadi NaN)\n",
        "df['Age'] = pd.to_numeric(df['Age'], errors='coerce')\n",
        "df['Weight'] = pd.to_numeric(df['Weight'], errors='coerce')\n",
        "df['Height'] = pd.to_numeric(df['Height'], errors='coerce')"
      ],
      "metadata": {
        "id": "ncOhmYXl-emD"
      },
      "execution_count": 64,
      "outputs": []
    },
    {
      "cell_type": "markdown",
      "source": [
        "#### **Cek kembali Missing Value**\n",
        "\n",
        "---\n"
      ],
      "metadata": {
        "id": "0wgVbqx6f3YL"
      }
    },
    {
      "cell_type": "markdown",
      "source": [
        "Setelah konversi dan penggantian tanda `'?'`, kita perlu mengecek kembali apakah jumlah `missing values` bertambah atau sudah sesuai harapan. **Tujuannya** untuk memastikan pembersihan data berhasil."
      ],
      "metadata": {
        "id": "S7RSNiAzrWaf"
      }
    },
    {
      "cell_type": "code",
      "source": [
        "# Cek ulang missing value\n",
        "df.isnull().sum()"
      ],
      "metadata": {
        "colab": {
          "base_uri": "https://localhost:8080/",
          "height": 617
        },
        "id": "fzw0f18h-nHN",
        "outputId": "b29c039f-c5a8-4a01-d672-137c3e9a7041"
      },
      "execution_count": 65,
      "outputs": [
        {
          "output_type": "execute_result",
          "data": {
            "text/plain": [
              "Age                               0\n",
              "Gender                            0\n",
              "Height                            0\n",
              "Weight                            0\n",
              "CALC                              0\n",
              "FAVC                              0\n",
              "FCVC                              0\n",
              "NCP                               0\n",
              "SCC                               0\n",
              "SMOKE                             0\n",
              "CH2O                              0\n",
              "family_history_with_overweight    0\n",
              "FAF                               0\n",
              "TUE                               0\n",
              "CAEC                              0\n",
              "MTRANS                            0\n",
              "NObeyesdad                        0\n",
              "dtype: int64"
            ],
            "text/html": [
              "<div>\n",
              "<style scoped>\n",
              "    .dataframe tbody tr th:only-of-type {\n",
              "        vertical-align: middle;\n",
              "    }\n",
              "\n",
              "    .dataframe tbody tr th {\n",
              "        vertical-align: top;\n",
              "    }\n",
              "\n",
              "    .dataframe thead th {\n",
              "        text-align: right;\n",
              "    }\n",
              "</style>\n",
              "<table border=\"1\" class=\"dataframe\">\n",
              "  <thead>\n",
              "    <tr style=\"text-align: right;\">\n",
              "      <th></th>\n",
              "      <th>0</th>\n",
              "    </tr>\n",
              "  </thead>\n",
              "  <tbody>\n",
              "    <tr>\n",
              "      <th>Age</th>\n",
              "      <td>0</td>\n",
              "    </tr>\n",
              "    <tr>\n",
              "      <th>Gender</th>\n",
              "      <td>0</td>\n",
              "    </tr>\n",
              "    <tr>\n",
              "      <th>Height</th>\n",
              "      <td>0</td>\n",
              "    </tr>\n",
              "    <tr>\n",
              "      <th>Weight</th>\n",
              "      <td>0</td>\n",
              "    </tr>\n",
              "    <tr>\n",
              "      <th>CALC</th>\n",
              "      <td>0</td>\n",
              "    </tr>\n",
              "    <tr>\n",
              "      <th>FAVC</th>\n",
              "      <td>0</td>\n",
              "    </tr>\n",
              "    <tr>\n",
              "      <th>FCVC</th>\n",
              "      <td>0</td>\n",
              "    </tr>\n",
              "    <tr>\n",
              "      <th>NCP</th>\n",
              "      <td>0</td>\n",
              "    </tr>\n",
              "    <tr>\n",
              "      <th>SCC</th>\n",
              "      <td>0</td>\n",
              "    </tr>\n",
              "    <tr>\n",
              "      <th>SMOKE</th>\n",
              "      <td>0</td>\n",
              "    </tr>\n",
              "    <tr>\n",
              "      <th>CH2O</th>\n",
              "      <td>0</td>\n",
              "    </tr>\n",
              "    <tr>\n",
              "      <th>family_history_with_overweight</th>\n",
              "      <td>0</td>\n",
              "    </tr>\n",
              "    <tr>\n",
              "      <th>FAF</th>\n",
              "      <td>0</td>\n",
              "    </tr>\n",
              "    <tr>\n",
              "      <th>TUE</th>\n",
              "      <td>0</td>\n",
              "    </tr>\n",
              "    <tr>\n",
              "      <th>CAEC</th>\n",
              "      <td>0</td>\n",
              "    </tr>\n",
              "    <tr>\n",
              "      <th>MTRANS</th>\n",
              "      <td>0</td>\n",
              "    </tr>\n",
              "    <tr>\n",
              "      <th>NObeyesdad</th>\n",
              "      <td>0</td>\n",
              "    </tr>\n",
              "  </tbody>\n",
              "</table>\n",
              "</div><br><label><b>dtype:</b> int64</label>"
            ]
          },
          "metadata": {},
          "execution_count": 65
        }
      ]
    },
    {
      "cell_type": "markdown",
      "source": [
        "#### **Cek kembali Tipe Data**\n",
        "\n",
        "---\n"
      ],
      "metadata": {
        "id": "PfndGvvciHmU"
      }
    },
    {
      "cell_type": "code",
      "source": [
        "# Cek ulang tipe data\n",
        "df.dtypes"
      ],
      "metadata": {
        "colab": {
          "base_uri": "https://localhost:8080/",
          "height": 617
        },
        "id": "bBVzs9Sl-cct",
        "outputId": "f8a4119f-a965-4295-8e1c-6fc0add9853f"
      },
      "execution_count": 66,
      "outputs": [
        {
          "output_type": "execute_result",
          "data": {
            "text/plain": [
              "Age                               float64\n",
              "Gender                             object\n",
              "Height                            float64\n",
              "Weight                            float64\n",
              "CALC                               object\n",
              "FAVC                               object\n",
              "FCVC                               object\n",
              "NCP                                object\n",
              "SCC                                object\n",
              "SMOKE                              object\n",
              "CH2O                               object\n",
              "family_history_with_overweight     object\n",
              "FAF                                object\n",
              "TUE                                object\n",
              "CAEC                               object\n",
              "MTRANS                             object\n",
              "NObeyesdad                         object\n",
              "dtype: object"
            ],
            "text/html": [
              "<div>\n",
              "<style scoped>\n",
              "    .dataframe tbody tr th:only-of-type {\n",
              "        vertical-align: middle;\n",
              "    }\n",
              "\n",
              "    .dataframe tbody tr th {\n",
              "        vertical-align: top;\n",
              "    }\n",
              "\n",
              "    .dataframe thead th {\n",
              "        text-align: right;\n",
              "    }\n",
              "</style>\n",
              "<table border=\"1\" class=\"dataframe\">\n",
              "  <thead>\n",
              "    <tr style=\"text-align: right;\">\n",
              "      <th></th>\n",
              "      <th>0</th>\n",
              "    </tr>\n",
              "  </thead>\n",
              "  <tbody>\n",
              "    <tr>\n",
              "      <th>Age</th>\n",
              "      <td>float64</td>\n",
              "    </tr>\n",
              "    <tr>\n",
              "      <th>Gender</th>\n",
              "      <td>object</td>\n",
              "    </tr>\n",
              "    <tr>\n",
              "      <th>Height</th>\n",
              "      <td>float64</td>\n",
              "    </tr>\n",
              "    <tr>\n",
              "      <th>Weight</th>\n",
              "      <td>float64</td>\n",
              "    </tr>\n",
              "    <tr>\n",
              "      <th>CALC</th>\n",
              "      <td>object</td>\n",
              "    </tr>\n",
              "    <tr>\n",
              "      <th>FAVC</th>\n",
              "      <td>object</td>\n",
              "    </tr>\n",
              "    <tr>\n",
              "      <th>FCVC</th>\n",
              "      <td>object</td>\n",
              "    </tr>\n",
              "    <tr>\n",
              "      <th>NCP</th>\n",
              "      <td>object</td>\n",
              "    </tr>\n",
              "    <tr>\n",
              "      <th>SCC</th>\n",
              "      <td>object</td>\n",
              "    </tr>\n",
              "    <tr>\n",
              "      <th>SMOKE</th>\n",
              "      <td>object</td>\n",
              "    </tr>\n",
              "    <tr>\n",
              "      <th>CH2O</th>\n",
              "      <td>object</td>\n",
              "    </tr>\n",
              "    <tr>\n",
              "      <th>family_history_with_overweight</th>\n",
              "      <td>object</td>\n",
              "    </tr>\n",
              "    <tr>\n",
              "      <th>FAF</th>\n",
              "      <td>object</td>\n",
              "    </tr>\n",
              "    <tr>\n",
              "      <th>TUE</th>\n",
              "      <td>object</td>\n",
              "    </tr>\n",
              "    <tr>\n",
              "      <th>CAEC</th>\n",
              "      <td>object</td>\n",
              "    </tr>\n",
              "    <tr>\n",
              "      <th>MTRANS</th>\n",
              "      <td>object</td>\n",
              "    </tr>\n",
              "    <tr>\n",
              "      <th>NObeyesdad</th>\n",
              "      <td>object</td>\n",
              "    </tr>\n",
              "  </tbody>\n",
              "</table>\n",
              "</div><br><label><b>dtype:</b> object</label>"
            ]
          },
          "metadata": {},
          "execution_count": 66
        }
      ]
    },
    {
      "cell_type": "markdown",
      "source": [
        "Digunakan untuk **melihat kembali tipe data setiap kolom setelah dilakukan pembersihan dan konversi**. Idealnya :\n",
        "\n",
        "* Kolom seperti `Age`, `Weight`, `Height` harus bertipe `int64` atau `float64`.\n",
        "\n",
        "* Kolom kategorikal tetap dalam `object` (`string`)."
      ],
      "metadata": {
        "id": "_WFlDTNerlgL"
      }
    },
    {
      "cell_type": "markdown",
      "source": [
        "#### **Menghapus Duplikat**\n",
        "\n",
        "---\n",
        "\n"
      ],
      "metadata": {
        "id": "4gf0a6fT-65p"
      }
    },
    {
      "cell_type": "code",
      "source": [
        "# Menghapus baris yang duplikat\n",
        "df = df.drop_duplicates()"
      ],
      "metadata": {
        "id": "2YI7r1rw_HI6"
      },
      "execution_count": 67,
      "outputs": []
    },
    {
      "cell_type": "markdown",
      "source": [
        "* `df.drop_duplicates()` menghapus semua baris yang terduplikasi dan hanya menyisakan baris pertama dari setiap duplikat.\n",
        "\n",
        "* Hasilnya disimpan kembali ke variabel `df`, sehingga dataframe sekarang sudah bersih dari duplikasi."
      ],
      "metadata": {
        "id": "5zqqV9PJ_JPK"
      }
    },
    {
      "cell_type": "markdown",
      "source": [
        "### **Menangani Outliers**"
      ],
      "metadata": {
        "id": "MDZ_kcqe_diO"
      }
    },
    {
      "cell_type": "markdown",
      "source": [
        "**Outlier** adalah nilai yang menyimpang jauh dari nilai-nilai lain dalam dataset. Outlier bisa mempengaruhi distribusi data dan kinerja model prediksi. Salah satu cara umum untuk menangani outlier adalah dengan **mengganti nilai ekstrem menggunakan batas bawah dan atas dari IQR (*Interquartile Range*)**."
      ],
      "metadata": {
        "id": "HyKAn1oCzmDD"
      }
    },
    {
      "cell_type": "markdown",
      "source": [
        "#### **Mengganti Outliers dengan Batas Bawah/Atas**"
      ],
      "metadata": {
        "id": "4onC4k3U_k3y"
      }
    },
    {
      "cell_type": "code",
      "source": [
        "for col in num_cols:\n",
        "    Q1 = df[col].quantile(0.25)\n",
        "    Q3 = df[col].quantile(0.75)\n",
        "    IQR = Q3 - Q1\n",
        "    lower_bound = Q1 - 1.5 * IQR\n",
        "    upper_bound = Q3 + 1.5 * IQR\n",
        "    df[col] = np.where(df[col] < lower_bound, lower_bound, df[col])\n",
        "    df[col] = np.where(df[col] > upper_bound, upper_bound, df[col])"
      ],
      "metadata": {
        "id": "bzYy2sG0_g22"
      },
      "execution_count": 68,
      "outputs": []
    },
    {
      "cell_type": "markdown",
      "source": [
        "**Penjelasan**\n",
        "\n",
        "* `Q1` dan `Q3` adalah kuartil pertama dan ketiga dari distribusi data.\n",
        "\n",
        "* `IQR` adalah rentang antar-kuartil.\n",
        "\n",
        "* Nilai di bawah lower_bound dan di atas `upper_bound` dianggap outlier, dan diganti dengan nilai batasnya masing-masing."
      ],
      "metadata": {
        "id": "zMMwk-YVzx-1"
      }
    },
    {
      "cell_type": "markdown",
      "source": [
        "#### **Visualisasi Setelah Mengganti Outliers**"
      ],
      "metadata": {
        "id": "8UiHFS85_rwy"
      }
    },
    {
      "cell_type": "markdown",
      "source": [
        "**Boxplot** digunakan untuk memvisualisasikan distribusi data dan mengonfirmasi apakah outlier telah berhasil ditangani."
      ],
      "metadata": {
        "id": "fQwCKXUK0B93"
      }
    },
    {
      "cell_type": "code",
      "source": [
        "# Visualisasi dengan Boxplot setelah Outlier diganti\n",
        "for col in num_cols:\n",
        "    plt.figure(figsize=(8, 6))\n",
        "    sns.boxplot(x=df[col])\n",
        "    plt.title(f'Boxplot of {col} (Setelah Penanganan Outliers)')\n",
        "    plt.show()"
      ],
      "metadata": {
        "id": "BhAT0OGY_yRy"
      },
      "execution_count": 69,
      "outputs": []
    },
    {
      "cell_type": "markdown",
      "source": [
        "### **Transformasi Data**"
      ],
      "metadata": {
        "id": "7iM49ibr_9JE"
      }
    },
    {
      "cell_type": "markdown",
      "source": [
        "**Transformasi data** adalah proses mengubah data mentah menjadi format yang lebih sesuai untuk analisis atau pemodelan machine learning. Proses ini mencakup berbagai teknik seperti encoding data kategorikal menjadi numerik, normalisasi data agar berada pada skala yang sama. Dengan demikian, transformasi data merupakan langkah penting dalam tahap preprocessing yang dapat meningkatkan akurasi dan efisiensi model secara keseluruhan."
      ],
      "metadata": {
        "id": "IkOFJ3S41COZ"
      }
    },
    {
      "cell_type": "markdown",
      "source": [
        "#### **Mengubah Data Kategori menjadi Numerik**"
      ],
      "metadata": {
        "id": "G1S2LVIP7t5N"
      }
    },
    {
      "cell_type": "markdown",
      "source": [
        "Untuk memproses **data kategorikal**, kita perlu mengubahnya menjadi bentuk **numerik** karena algoritma *machine learning* biasanya hanya bekerja dengan angka."
      ],
      "metadata": {
        "id": "TD0mq1JR0Hlx"
      }
    },
    {
      "cell_type": "code",
      "source": [
        "# Salin dataset agar tidak merusak df asli\n",
        "df_encoded = df.copy()\n",
        "\n",
        "# Encode semua kolom kategorikal\n",
        "from sklearn.preprocessing import LabelEncoder\n",
        "\n",
        "label_encoders = {}\n",
        "for col in df_encoded.select_dtypes(include='object').columns:\n",
        "    le = LabelEncoder()\n",
        "    df_encoded[col] = le.fit_transform(df_encoded[col])\n",
        "    label_encoders[col] = le"
      ],
      "metadata": {
        "id": "PuO15Mz-6Q4L"
      },
      "execution_count": 70,
      "outputs": []
    },
    {
      "cell_type": "markdown",
      "source": [
        "#### **Encoding dan Kategorikal**"
      ],
      "metadata": {
        "id": "X8xXha-gAObR"
      }
    },
    {
      "cell_type": "markdown",
      "source": [
        "Alternatif pendek untuk langsung **meng-encode semua kolom kategorikal**. Hati-hati jika ada lebih dari satu kolom, karena LabelEncoder tidak cocok untuk data nominal tanpa urutan jika digunakan seperti ini (bisa menyebabkan makna numerik yang tidak sesuai)."
      ],
      "metadata": {
        "id": "0ATbSHUM0QvF"
      }
    },
    {
      "cell_type": "code",
      "source": [
        "# Pastikan df adalah salinan utuh, bukan slice dari DataFrame lain\n",
        "df = df.copy()"
      ],
      "metadata": {
        "id": "vUZlXexfE4FK"
      },
      "execution_count": 71,
      "outputs": []
    },
    {
      "source": [
        "from sklearn.preprocessing import LabelEncoder\n",
        "\n",
        "# Define cat_cols by selecting columns with 'object' dtype from the DataFrame\n",
        "cat_cols = df.select_dtypes(include='object').columns\n",
        "\n",
        "label_enc = LabelEncoder()\n",
        "for col in cat_cols:\n",
        "    df[col] = label_enc.fit_transform(df[col])"
      ],
      "cell_type": "code",
      "metadata": {
        "id": "KBa1zfLvAaJY"
      },
      "execution_count": 72,
      "outputs": []
    },
    {
      "cell_type": "markdown",
      "source": [
        "### **Melihat Korelasi (Numerik)**"
      ],
      "metadata": {
        "id": "-6UzZb6y8Xec"
      }
    },
    {
      "cell_type": "markdown",
      "source": [
        "**Heatmap** korelasi menunjukkan hubungan antar fitur numerik. Nilai korelasi berkisar dari -1 (berlawanan kuat) hingga 1 (searah kuat). Korelasi tinggi antar fitur bisa menyebabkan multikolinearitas."
      ],
      "metadata": {
        "id": "Us-ualX80YRs"
      }
    },
    {
      "cell_type": "code",
      "source": [
        "plt.figure(figsize=(12, 10))\n",
        "sns.heatmap(df_encoded.corr(), annot=True, cmap='coolwarm')\n",
        "plt.title('Heatmap Korelasi Antar Fitur')\n",
        "plt.show()"
      ],
      "metadata": {
        "colab": {
          "base_uri": "https://localhost:8080/",
          "height": 814
        },
        "id": "ll9pvngI8UZd",
        "outputId": "399ef42a-51ef-4e0d-e48e-453057f875ed"
      },
      "execution_count": 73,
      "outputs": [
        {
          "output_type": "display_data",
          "data": {
            "text/plain": [
              "<Figure size 1200x1000 with 2 Axes>"
            ],
            "image/png": "[encoded data removed]"
          },
          "metadata": {}
        }
      ]
    },
    {
      "cell_type": "markdown",
      "source": [
        "**Heatmap korelasi** menunjukkan seberapa kuat hubungan antar variabel dalam dataset (kemungkinan besar ini dari dataset Obesity/Health karena ada kolom seperti `Weight`, `SMOKE`, `family_history_with_overweight`, dll).\n",
        "\n",
        "Setiap sel menunjukkan nilai korelasi Pearson antara dua fitur.\n",
        "\n",
        "**Warna menunjukkan kekuatan hubungan :**\n",
        "\n",
        "🔴 Merah tua (mendekati 1) : Korelasi positif kuat\n",
        "\n",
        "🔵 Biru tua (mendekati -1) : Korelasi negatif kuat\n",
        "\n",
        "⚪ Putih / netral (mendekati 0) : Tidak ada korelasi signifikan"
      ],
      "metadata": {
        "id": "GIQtWfIZ1OO3"
      }
    },
    {
      "cell_type": "markdown",
      "source": [
        "#### **Menangani Ketidakseimbangan Data dengan SMOTE**"
      ],
      "metadata": {
        "id": "SWPNE_VrAvTi"
      }
    },
    {
      "cell_type": "markdown",
      "source": [
        "Ketika data target (label) tidak seimbang, model cenderung bias ke kelas mayoritas. SMOTE **(*Synthetic Minority Over-sampling Technique*)** digunakan untuk membuat salinan sintetis dari kelas minoritas."
      ],
      "metadata": {
        "id": "Lfqv823n0enV"
      }
    },
    {
      "source": [
        "from imblearn.over_sampling import SMOTE\n",
        "from sklearn.impute import SimpleImputer\n",
        "\n",
        "# Pisahkan fitur dan target\n",
        "X = df.drop(columns=['NObeyesdad'])\n",
        "y = df['NObeyesdad']\n",
        "\n",
        "# Inisialisasi imputer\n",
        "imputer = SimpleImputer(strategy='mean') # Ganti strategy sesuai kebutuhan (mean, median, most_frequent)\n",
        "\n",
        "# Aplikasikan imputer ke X\n",
        "X_imputed = imputer.fit_transform(X)\n",
        "\n",
        "smote = SMOTE()\n",
        "# Gunakan X_imputed yang sudah ditangani missing values-nya\n",
        "X_resampled, y_resampled = smote.fit_resample(X_imputed, y)\n",
        "\n",
        "print(\"Data berhasil di-resample menggunakan SMOTE.\")"
      ],
      "cell_type": "code",
      "metadata": {
        "colab": {
          "base_uri": "https://localhost:8080/"
        },
        "id": "-PJNBTDdA_f3",
        "outputId": "8fe1822a-d71d-4f86-a6e8-0bfeba4235f4"
      },
      "execution_count": 74,
      "outputs": [
        {
          "output_type": "stream",
          "name": "stdout",
          "text": [
            "Data berhasil di-resample menggunakan SMOTE.\n"
          ]
        }
      ]
    },
    {
      "cell_type": "markdown",
      "source": [
        "#### **Visualisasi Distribusi Kelas Setelah SMOTE**"
      ],
      "metadata": {
        "id": "vu0IeTD-BRjE"
      }
    },
    {
      "cell_type": "code",
      "source": [
        "sns.countplot(x=y_resampled, hue=y_resampled, palette='Set2', legend=False)\n",
        "plt.title(\"Distribusi Kelas Setelah SMOTE\")\n",
        "plt.xlabel(\"Kategori\")\n",
        "plt.ylabel(\"Jumlah\")\n",
        "plt.xticks(rotation=45)\n",
        "plt.tight_layout()\n",
        "plt.show()"
      ],
      "metadata": {
        "colab": {
          "base_uri": "https://localhost:8080/",
          "height": 487
        },
        "id": "Z7ClckSxBTaN",
        "outputId": "2d87b0ff-7cfb-4af7-c2da-413d22eb5c10"
      },
      "execution_count": 75,
      "outputs": [
        {
          "output_type": "display_data",
          "data": {
            "text/plain": [
              "<Figure size 640x480 with 1 Axes>"
            ],
            "image/png": "[encoded data removed]"
          },
          "metadata": {}
        }
      ]
    },
    {
      "cell_type": "markdown",
      "source": [
        "### **Normalisasi Data**"
      ],
      "metadata": {
        "id": "q7SjIScpJsh9"
      }
    },
    {
      "cell_type": "markdown",
      "source": [
        "#### **Normalisasi Data dengan MinMaxScaler**"
      ],
      "metadata": {
        "id": "n3-RLUIhIRaX"
      }
    },
    {
      "cell_type": "markdown",
      "source": [
        "**MinMaxScaler** mengubah nilai-nilai fitur ke skala antara `0` hingga `1`, yang penting agar setiap fitur memiliki pengaruh yang setara dalam algoritma yang sensitif terhadap skala."
      ],
      "metadata": {
        "id": "3LVbO3HW0vP5"
      }
    },
    {
      "source": [
        "# Normalisasi Data dengan MinMaxScaler\n",
        "from sklearn.preprocessing import MinMaxScaler # Import MinMaxScaler\n",
        "\n",
        "scaler = MinMaxScaler()\n",
        "X_normalized = pd.DataFrame(scaler.fit_transform(X_resampled), columns=X.columns)"
      ],
      "cell_type": "code",
      "metadata": {
        "id": "S73s9m2fJdYF"
      },
      "execution_count": 76,
      "outputs": []
    },
    {
      "cell_type": "markdown",
      "source": [
        "#### **Visualisasi Sebelum dan Sesudah Normalisasi**"
      ],
      "metadata": {
        "id": "pra3NT6mJqU1"
      }
    },
    {
      "cell_type": "code",
      "source": [
        "plt.figure(figsize=(10, 6))\n",
        "sns.boxplot(data=X)\n",
        "plt.title('Boxplot Sebelum Normalisasi')\n",
        "plt.show()\n",
        "\n",
        "plt.figure(figsize=(10, 6))\n",
        "sns.boxplot(data=X_normalized)\n",
        "plt.title('Boxplot Setelah Normalisasi')\n",
        "plt.show()"
      ],
      "metadata": {
        "id": "1x_bf7gKJgDw",
        "outputId": "05cdd642-802e-492e-e64c-503a16c5a2a3",
        "colab": {
          "base_uri": "https://localhost:8080/",
          "height": 1000
        }
      },
      "execution_count": 77,
      "outputs": [
        {
          "output_type": "display_data",
          "data": {
            "text/plain": [
              "<Figure size 1000x600 with 1 Axes>"
            ],
            "image/png": "[encoded data removed]"
          },
          "metadata": {}
        },
        {
          "output_type": "display_data",
          "data": {
            "text/plain": [
              "<Figure size 1000x600 with 1 Axes>"
            ],
            "image/png": "[encoded data removed]"
          },
          "metadata": {}
        }
      ]
    },
    {
      "cell_type": "markdown",
      "source": [
        "## **PEMODELAN DAN EVALUASI**\n",
        "\n"
      ],
      "metadata": {
        "id": "R2O33Ha4aftb"
      }
    },
    {
      "cell_type": "markdown",
      "source": [
        "### **Split Data dan Standardisasi**"
      ],
      "metadata": {
        "id": "Q3UI8-LebbvN"
      }
    },
    {
      "cell_type": "code",
      "source": [
        "from sklearn.model_selection import train_test_split\n",
        "from sklearn.preprocessing import StandardScaler\n",
        "\n",
        "# Pisahkan fitur dan target\n",
        "X = df.drop(columns='NObeyesdad')  # fitur\n",
        "y = df['NObeyesdad']               # target klasifikasi\n",
        "\n",
        "# One-hot encoding untuk variabel kategorikal\n",
        "X = pd.get_dummies(X)\n",
        "\n",
        "# Split data 80:20\n",
        "X_train, X_test, y_train, y_test = train_test_split(X, y, test_size=0.2, random_state=42)\n",
        "\n",
        "# Standardisasi fitur numerik\n",
        "scaler = StandardScaler()\n",
        "X_train = scaler.fit_transform(X_train)\n",
        "X_test = scaler.transform(X_test)"
      ],
      "metadata": {
        "id": "UmdooURlalrl"
      },
      "execution_count": 78,
      "outputs": []
    },
    {
      "cell_type": "markdown",
      "source": [
        "### **Pemodelan dengan Tiga Algoritma Klasifikasi**"
      ],
      "metadata": {
        "id": "6p-elRaAb1xm"
      }
    },
    {
      "cell_type": "markdown",
      "source": [
        "#### **Support Vector Machine (SVM)**"
      ],
      "metadata": {
        "id": "A4oKRoTAcEgM"
      }
    },
    {
      "cell_type": "code",
      "source": [
        "from sklearn.svm import SVC\n",
        "import time\n",
        "\n",
        "svm_model = SVC(kernel='rbf', random_state=42)\n",
        "start_time = time.time()\n",
        "svm_model.fit(X_train, y_train)\n",
        "svm_time = time.time() - start_time\n",
        "svm_pred = svm_model.predict(X_test)"
      ],
      "metadata": {
        "id": "T_bGKH2eb818"
      },
      "execution_count": 79,
      "outputs": []
    },
    {
      "cell_type": "markdown",
      "source": [
        "#### **Random Forest**"
      ],
      "metadata": {
        "id": "_l6hIdqyeDqM"
      }
    },
    {
      "cell_type": "code",
      "source": [
        "from sklearn.ensemble import RandomForestClassifier\n",
        "\n",
        "rf_model = RandomForestClassifier(random_state=42)\n",
        "start_time = time.time()\n",
        "rf_model.fit(X_train, y_train)\n",
        "rf_time = time.time() - start_time\n",
        "rf_pred = rf_model.predict(X_test)"
      ],
      "metadata": {
        "id": "QtdyYr7Id8LW"
      },
      "execution_count": 80,
      "outputs": []
    },
    {
      "cell_type": "markdown",
      "source": [
        "#### **K-Nearest Neighbors (KNN)**"
      ],
      "metadata": {
        "id": "a5EsMwTjeI9o"
      }
    },
    {
      "cell_type": "code",
      "source": [
        "from sklearn.neighbors import KNeighborsClassifier\n",
        "\n",
        "knn_model = KNeighborsClassifier(n_neighbors=5)\n",
        "start_time = time.time()\n",
        "knn_model.fit(X_train, y_train)\n",
        "knn_time = time.time() - start_time\n",
        "knn_pred = knn_model.predict(X_test)"
      ],
      "metadata": {
        "id": "k0c-9HPceTDg"
      },
      "execution_count": 81,
      "outputs": []
    },
    {
      "cell_type": "markdown",
      "source": [
        "####**Decision Tree**"
      ],
      "metadata": {
        "id": "vs6cAIKAim8t"
      }
    },
    {
      "source": [
        "from sklearn.tree import DecisionTreeClassifier\n",
        "# Decision Tree\n",
        "dt_model = DecisionTreeClassifier()\n",
        "start_time = time.time()\n",
        "dt_model.fit(X_train, y_train)\n",
        "dt_time = time.time() - start_time\n",
        "dt_pred = dt_model.predict(X_test)"
      ],
      "cell_type": "code",
      "metadata": {
        "id": "o8URmEgLiu40"
      },
      "execution_count": 86,
      "outputs": []
    },
    {
      "cell_type": "markdown",
      "source": [
        "####**Logistic Regression**"
      ],
      "metadata": {
        "id": "a0hCTTEFixVO"
      }
    },
    {
      "source": [
        "# Logistic Regression\n",
        "from sklearn.linear_model import LogisticRegression # Import LogisticRegression\n",
        "\n",
        "lr_model = LogisticRegression(max_iter=1000)  # max_iter ditingkatkan agar konvergen\n",
        "start_time = time.time()\n",
        "lr_model.fit(X_train, y_train)\n",
        "lr_time = time.time() - start_time\n",
        "lr_pred = lr_model.predict(X_test)"
      ],
      "cell_type": "code",
      "metadata": {
        "id": "TyeIOtV_i76R"
      },
      "execution_count": 88,
      "outputs": []
    },
    {
      "cell_type": "markdown",
      "source": [
        "### **Evaluasi Model**"
      ],
      "metadata": {
        "id": "ZO35NHezedDN"
      }
    },
    {
      "cell_type": "code",
      "source": [
        "from sklearn.metrics import accuracy_score, classification_report, confusion_matrix\n",
        "\n",
        "# Fungsi evaluasi\n",
        "def evaluate_model(y_true, y_pred, model_name):\n",
        "    print(f\"\\nModel: {model_name}\")\n",
        "    print(\"Accuracy:\", accuracy_score(y_true, y_pred))\n",
        "    print(\"Classification Report:\\n\", classification_report(y_true, y_pred))\n",
        "    print(\"Confusion Matrix:\\n\", confusion_matrix(y_true, y_pred))\n",
        "\n",
        "# Evaluasi model-model\n",
        "evaluate_model(y_test, svm_pred, \"SVM\")\n",
        "evaluate_model(y_test, rf_pred, \"Random Forest\")\n",
        "evaluate_model(y_test, knn_pred, \"KNN\")\n",
        "evaluate_model(y_test, dt_pred, \"Decision Tree\")\n",
        "evaluate_model(y_test, lr_pred, \"Logistic Regression\")"
      ],
      "metadata": {
        "colab": {
          "base_uri": "https://localhost:8080/"
        },
        "id": "kB2souyfegex",
        "outputId": "38878b12-0dca-4ef6-d001-5911c6da0001"
      },
      "execution_count": 89,
      "outputs": [
        {
          "output_type": "stream",
          "name": "stdout",
          "text": [
            "\n",
            "Model: SVM\n",
            "Accuracy: 0.8272980501392758\n",
            "Classification Report:\n",
            "               precision    recall  f1-score   support\n",
            "\n",
            "           0       0.90      0.90      0.90        52\n",
            "           1       0.61      0.78      0.68        49\n",
            "           2       0.89      0.80      0.84        59\n",
            "           3       0.98      0.94      0.96        54\n",
            "           4       1.00      1.00      1.00        59\n",
            "           5       0.64      0.61      0.62        41\n",
            "           6       0.71      0.67      0.69        45\n",
            "\n",
            "    accuracy                           0.83       359\n",
            "   macro avg       0.82      0.81      0.81       359\n",
            "weighted avg       0.83      0.83      0.83       359\n",
            "\n",
            "Confusion Matrix:\n",
            " [[47  5  0  0  0  0  0]\n",
            " [ 4 38  0  0  0  4  3]\n",
            " [ 0  6 47  1  0  3  2]\n",
            " [ 0  0  1 51  0  1  1]\n",
            " [ 0  0  0  0 59  0  0]\n",
            " [ 1  6  3  0  0 25  6]\n",
            " [ 0  7  2  0  0  6 30]]\n",
            "\n",
            "Model: Random Forest\n",
            "Accuracy: 0.9303621169916435\n",
            "Classification Report:\n",
            "               precision    recall  f1-score   support\n",
            "\n",
            "           0       1.00      0.96      0.98        52\n",
            "           1       0.77      0.90      0.83        49\n",
            "           2       1.00      0.93      0.96        59\n",
            "           3       1.00      0.98      0.99        54\n",
            "           4       0.98      1.00      0.99        59\n",
            "           5       0.85      0.80      0.82        41\n",
            "           6       0.89      0.89      0.89        45\n",
            "\n",
            "    accuracy                           0.93       359\n",
            "   macro avg       0.93      0.92      0.92       359\n",
            "weighted avg       0.93      0.93      0.93       359\n",
            "\n",
            "Confusion Matrix:\n",
            " [[50  2  0  0  0  0  0]\n",
            " [ 0 44  0  0  0  5  0]\n",
            " [ 0  1 55  0  0  0  3]\n",
            " [ 0  0  0 53  1  0  0]\n",
            " [ 0  0  0  0 59  0  0]\n",
            " [ 0  6  0  0  0 33  2]\n",
            " [ 0  4  0  0  0  1 40]]\n",
            "\n",
            "Model: KNN\n",
            "Accuracy: 0.7437325905292479\n",
            "Classification Report:\n",
            "               precision    recall  f1-score   support\n",
            "\n",
            "           0       0.71      0.92      0.80        52\n",
            "           1       0.61      0.45      0.52        49\n",
            "           2       0.73      0.78      0.75        59\n",
            "           3       0.82      0.85      0.84        54\n",
            "           4       0.92      1.00      0.96        59\n",
            "           5       0.64      0.56      0.60        41\n",
            "           6       0.64      0.51      0.57        45\n",
            "\n",
            "    accuracy                           0.74       359\n",
            "   macro avg       0.72      0.73      0.72       359\n",
            "weighted avg       0.73      0.74      0.73       359\n",
            "\n",
            "Confusion Matrix:\n",
            " [[48  2  0  0  0  2  0]\n",
            " [15 22  2  2  0  4  4]\n",
            " [ 0  5 46  1  1  3  3]\n",
            " [ 1  0  4 46  0  0  3]\n",
            " [ 0  0  0  0 59  0  0]\n",
            " [ 2  4  4  3  2 23  3]\n",
            " [ 2  3  7  4  2  4 23]]\n",
            "\n",
            "Model: Decision Tree\n",
            "Accuracy: 0.9275766016713092\n",
            "Classification Report:\n",
            "               precision    recall  f1-score   support\n",
            "\n",
            "           0       0.96      0.98      0.97        52\n",
            "           1       0.82      0.82      0.82        49\n",
            "           2       0.98      0.93      0.96        59\n",
            "           3       0.95      0.96      0.95        54\n",
            "           4       0.98      1.00      0.99        59\n",
            "           5       0.80      0.85      0.82        41\n",
            "           6       0.98      0.91      0.94        45\n",
            "\n",
            "    accuracy                           0.93       359\n",
            "   macro avg       0.92      0.92      0.92       359\n",
            "weighted avg       0.93      0.93      0.93       359\n",
            "\n",
            "Confusion Matrix:\n",
            " [[51  1  0  0  0  0  0]\n",
            " [ 2 40  0  0  0  7  0]\n",
            " [ 0  0 55  3  0  0  1]\n",
            " [ 0  1  0 52  1  0  0]\n",
            " [ 0  0  0  0 59  0  0]\n",
            " [ 0  6  0  0  0 35  0]\n",
            " [ 0  1  1  0  0  2 41]]\n",
            "\n",
            "Model: Logistic Regression\n",
            "Accuracy: 0.7186629526462396\n",
            "Classification Report:\n",
            "               precision    recall  f1-score   support\n",
            "\n",
            "           0       0.80      0.90      0.85        52\n",
            "           1       0.62      0.57      0.60        49\n",
            "           2       0.60      0.75      0.67        59\n",
            "           3       0.76      0.83      0.80        54\n",
            "           4       1.00      1.00      1.00        59\n",
            "           5       0.57      0.56      0.57        41\n",
            "           6       0.50      0.27      0.35        45\n",
            "\n",
            "    accuracy                           0.72       359\n",
            "   macro avg       0.69      0.70      0.69       359\n",
            "weighted avg       0.71      0.72      0.71       359\n",
            "\n",
            "Confusion Matrix:\n",
            " [[47  5  0  0  0  0  0]\n",
            " [11 28  1  0  0  6  3]\n",
            " [ 0  2 44  6  0  4  3]\n",
            " [ 0  0  8 45  0  0  1]\n",
            " [ 0  0  0  0 59  0  0]\n",
            " [ 0  4  7  2  0 23  5]\n",
            " [ 1  6 13  6  0  7 12]]\n"
          ]
        }
      ]
    },
    {
      "cell_type": "markdown",
      "source": [
        "### **Visualisasi Perbandingan Performa**"
      ],
      "metadata": {
        "id": "pDVi0CfLelmc"
      }
    },
    {
      "cell_type": "code",
      "source": [
        "import time\n",
        "\n",
        "start = time.time()\n",
        "dt_model.fit(X_train, y_train)\n",
        "dt_time = time.time() - start\n",
        "\n",
        "start = time.time()\n",
        "lr_model.fit(X_train, y_train)\n",
        "lr_time = time.time() - start"
      ],
      "metadata": {
        "id": "L6BHJVQhjtpk"
      },
      "execution_count": 91,
      "outputs": []
    },
    {
      "cell_type": "code",
      "source": [
        "import matplotlib.pyplot as plt\n",
        "from sklearn.metrics import accuracy_score\n",
        "\n",
        "models = ['SVM', 'Random Forest', 'KNN', 'Decision Tree', 'Logistic Regression']\n",
        "accuracies = [\n",
        "    accuracy_score(y_test, svm_pred),\n",
        "    accuracy_score(y_test, rf_pred),\n",
        "    accuracy_score(y_test, knn_pred),\n",
        "    accuracy_score(y_test, dt_pred),\n",
        "    accuracy_score(y_test, lr_pred)\n",
        "]\n",
        "\n",
        "times = [svm_time, rf_time, knn_time, dt_time, lr_time]\n",
        "\n",
        "plt.figure(figsize=(12, 5))\n",
        "\n",
        "# Grafik Akurasi\n",
        "plt.subplot(1, 2, 1)\n",
        "plt.bar(models, accuracies, color=['skyblue', 'lightgreen', 'salmon', 'orange', 'purple'])\n",
        "plt.title(\"Perbandingan Akurasi Model\")\n",
        "plt.ylabel(\"Akurasi\")\n",
        "\n",
        "# Grafik Waktu Training\n",
        "plt.subplot(1, 2, 2)\n",
        "plt.bar(models, times, color=['blue', 'green', 'red', 'darkorange', 'indigo'])\n",
        "plt.title(\"Perbandingan Waktu Training\")\n",
        "plt.ylabel(\"Detik\")\n",
        "\n",
        "plt.tight_layout()\n",
        "plt.show()"
      ],
      "metadata": {
        "colab": {
          "base_uri": "https://localhost:8080/",
          "height": 374
        },
        "id": "_R7dOxslen8u",
        "outputId": "e7645bf5-9db1-4fcd-dd6e-00174399ffa6"
      },
      "execution_count": 92,
      "outputs": [
        {
          "output_type": "display_data",
          "data": {
            "text/plain": [
              "<Figure size 1200x500 with 2 Axes>"
            ],
            "image/png": "[encoded data removed]"
          },
          "metadata": {}
        }
      ]
    },
    {
      "cell_type": "markdown",
      "source": [
        "Dari hasil evaluasi lima model klasifikasi—SVM, Random Forest, KNN, Decision Tree, dan Logistic Regression—dapat disimpulkan beberapa hal sebagai berikut:\n",
        "\n",
        "* **Performa Akurasi**\n",
        "\n",
        "  Random Forest dan Logistic Regression menunjukkan akurasi yang relatif tinggi dan konsisten dalam memprediksi data uji. Decision Tree memiliki akurasi yang sedikit lebih rendah dibandingkan Random Forest, namun masih cukup baik. SVM dan KNN juga memberikan performa yang baik, meskipun tergantung pada konfigurasi hyperparameter.\n",
        "\n",
        "* **Waktu Training**\n",
        "\n",
        "  Dari sisi waktu training, Decision Tree dan Logistic Regression merupakan model yang paling cepat untuk dilatih. Sementara itu, SVM dan Random Forest membutuhkan waktu yang lebih lama, terutama Random Forest karena sifat ensemble-nya yang kompleks. KNN tidak memerlukan training yang signifikan, tetapi waktu prediksi bisa lebih tinggi saat jumlah data besar.\n",
        "\n",
        "* **Pemilihan Model**\n",
        "\n",
        "  Jika prioritas utama adalah akurasi dengan toleransi waktu training yang lebih lama, Random Forest bisa menjadi pilihan terbaik. Namun, jika dibutuhkan model yang cepat dan cukup akurat, Logistic Regression dan Decision Tree lebih efisien. Selain itu, model seperti SVM dan KNN dapat digunakan jika dilakukan tuning parameter yang tepat.\n",
        "\n",
        "* **Rekomendasi**\n",
        "\n",
        "  Pemilihan model sebaiknya disesuaikan dengan kebutuhan aplikasi. Untuk kasus dengan data yang tidak terlalu besar dan butuh interpretabilitas, Logistic Regression dan Decision Tree cocok. Sedangkan untuk dataset yang lebih kompleks dan memerlukan akurasi lebih tinggi, Random Forest sangat direkomendasikan."
      ],
      "metadata": {
        "id": "ZD6BjipWgkCc"
      }
    }
  ]
}