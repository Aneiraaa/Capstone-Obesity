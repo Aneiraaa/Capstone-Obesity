{
  "nbformat": 4,
  "nbformat_minor": 0,
  "metadata": {
    "colab": {
      "provenance": []
    },
    "kernelspec": {
      "name": "python3",
      "display_name": "Python 3"
    },
    "language_info": {
      "name": "python"
    }
  },
  "cells": [
    {
      "cell_type": "markdown",
      "source": [
        "> Nama   : Aneira Vicentiya Kuncoro\n",
        "\n",
        "> NIM    : A11.2022.14226\n",
        "\n",
        "> Kelas  : Bengkel Koding - DS03"
      ],
      "metadata": {
        "id": "D5tHikcK6Gl_"
      }
    },
    {
      "cell_type": "markdown",
      "source": [
        "# **CAPSTONE PROJECT UAS BENGKEL KODING DATA SCIENCE**\n",
        "\n",
        "---\n",
        "\n"
      ],
      "metadata": {
        "id": "RiM8nKTx2A7r"
      }
    },
    {
      "cell_type": "markdown",
      "source": [
        "## **Exploratory Data Analyst (EDA)**\n",
        "\n",
        "---\n",
        "\n"
      ],
      "metadata": {
        "id": "cIA7JAkJ6JoP"
      }
    },
    {
      "cell_type": "markdown",
      "source": [
        "**Exploratory Data Analysis (EDA)** adalah pendekatan untuk menganalisis dan memvisualisasikan data guna memahami pola, hubungan, distribusi, dan anomali dalam dataset. EDA bertujuan untuk memberi wawasan awal sebelum melakukan analisis lebih lanjut atau pembangunan model."
      ],
      "metadata": {
        "id": "IZfnDqZsbkFB"
      }
    },
    {
      "cell_type": "markdown",
      "source": [
        "### **Persiapan Data**\n",
        "\n",
        "---\n",
        "\n"
      ],
      "metadata": {
        "id": "2OQt7WLCb7tz"
      }
    },
    {
      "cell_type": "markdown",
      "source": [
        "**Persiapan data** merupakan tahap awal dalam proses analisis data yang bertujuan untuk menyiapkan segala hal yang dibutuhkan sebelum dilakukan eksplorasi lebih lanjut. Pada tahap ini, dilakukan beberapa hal penting seperti mengimpor library (pustaka) yang diperlukan, memuat dataset ke dalam lingkungan kerja Python, dan melakukan pengecekan awal terhadap isi data."
      ],
      "metadata": {
        "id": "HHD6TiYhlBJm"
      }
    },
    {
      "cell_type": "markdown",
      "source": [
        "#### **Import Library**\n",
        "\n",
        "---\n",
        "\n"
      ],
      "metadata": {
        "id": "TwJc9ubQd3dI"
      }
    },
    {
      "cell_type": "markdown",
      "source": [
        "**Library** adalah sekumpulan fungsi, modul, atau paket yang sudah disediakan oleh Python untuk memudahkan proses pemrograman. Dalam konteks data science dan EDA, library digunakan untuk membaca, mengolah, menganalisis, dan memvisualisasikan data secara efisien."
      ],
      "metadata": {
        "id": "tugnsveLlXgj"
      }
    },
    {
      "cell_type": "code",
      "execution_count": 165,
      "metadata": {
        "id": "NnYv9N8u6DKi"
      },
      "outputs": [],
      "source": [
        "# Import library yang diperlukan\n",
        "import pandas as pd\n",
        "import numpy as np\n",
        "import matplotlib.pyplot as plt\n",
        "import seaborn as sns"
      ]
    },
    {
      "cell_type": "markdown",
      "source": [
        "**Library yang digunakan :**\n",
        "\n",
        "* `pandas`: Untuk memanipulasi dan menganalisis data dalam bentuk tabel (`DataFrame`).\n",
        "\n",
        "* `numpy`: Untuk perhitungan numerik dan manipulasi `array`.\n",
        "\n",
        "* `matplotlib.pyplot`: Untuk membuat visualisasi data seperti grafik dan diagram.\n",
        "\n",
        "* `seaborn`: Untuk membuat visualisasi data yang lebih menarik dan statistik berbasis `matplotlib`.\n",
        "\n",
        "Dengan **mengimpor library**, kita dapat menggunakan berbagai fungsi canggih tanpa harus menulis ulang kodenya dari awal."
      ],
      "metadata": {
        "id": "I5cXYsYXldcF"
      }
    },
    {
      "cell_type": "markdown",
      "source": [
        "#### **Memuat dataset**\n",
        "\n",
        "---\n",
        "\n"
      ],
      "metadata": {
        "id": "54b8Ap83dzFM"
      }
    },
    {
      "cell_type": "markdown",
      "source": [
        "**Memuat dataset** adalah proses mengambil data dari sumber eksternal (seperti file `.csv`, `database`, atau `API`) ke dalam lingkungan kerja Python agar dapat diproses dan dianalisis."
      ],
      "metadata": {
        "id": "3M9_cilxmACV"
      }
    },
    {
      "cell_type": "code",
      "source": [
        "# Load dataset\n",
        "from google.colab import drive\n",
        "drive.mount('/content/drive')\n",
        "import pandas as pd # Import the pandas library and assign it to the alias 'pd'\n",
        "df = pd.read_csv('/content/drive/MyDrive/dataset/ObesityDataSet.csv')"
      ],
      "metadata": {
        "colab": {
          "base_uri": "https://localhost:8080/"
        },
        "id": "9bZ_fRw36kNc",
        "outputId": "b0accd95-b836-44a1-c198-2e07db41dbc1"
      },
      "execution_count": 166,
      "outputs": [
        {
          "output_type": "stream",
          "name": "stdout",
          "text": [
            "Drive already mounted at /content/drive; to attempt to forcibly remount, call drive.mount(\"/content/drive\", force_remount=True).\n"
          ]
        }
      ]
    },
    {
      "cell_type": "markdown",
      "source": [
        "**Cara yang saya gunakan :**\n",
        "\n",
        "* Dataset disimpan di Google Drive.\n",
        "\n",
        "* Google Colab digunakan, sehingga perlu mount Google Drive terlebih dahulu agar file bisa diakses.\n",
        "\n",
        "* Setelah itu, data dibaca menggunakan `pd.read_csv()` dan dimasukkan ke dalam sebuah objek `DataFrame` bernama `df`.\n",
        "\n",
        "**Dataset** yang dimuat adalah `ObesityDataSet.csv`, yaitu kumpulan data terkait kebiasaan hidup, antropometri, dan status obesitas individu."
      ],
      "metadata": {
        "id": "O7XTkdi7mQr9"
      }
    },
    {
      "cell_type": "markdown",
      "source": [
        "#### **Menampilkan 5 Baris Pertama Dataset**\n",
        "\n",
        "---\n",
        "\n"
      ],
      "metadata": {
        "id": "LjMEFPVicylg"
      }
    },
    {
      "cell_type": "markdown",
      "source": [
        "Menampilkan **5 baris pertama dataset** dengan `df.head()`"
      ],
      "metadata": {
        "id": "rtjxfselmwaw"
      }
    },
    {
      "cell_type": "code",
      "source": [
        "# Tampilkan 5 baris pertama dataset\n",
        "df.head()"
      ],
      "metadata": {
        "colab": {
          "base_uri": "https://localhost:8080/",
          "height": 226
        },
        "id": "A5JG9OBX7A97",
        "outputId": "76ee5015-e536-491e-a564-9685eb7f4322"
      },
      "execution_count": 167,
      "outputs": [
        {
          "output_type": "execute_result",
          "data": {
            "text/plain": [
              "  Age  Gender Height Weight        CALC FAVC FCVC NCP  SCC SMOKE CH2O  \\\n",
              "0  21  Female   1.62     64          no   no    2   3   no    no    2   \n",
              "1  21  Female   1.52     56   Sometimes   no    3   3  yes   yes    3   \n",
              "2  23    Male    1.8     77  Frequently   no    2   3   no    no    2   \n",
              "3  27    Male    1.8     87  Frequently   no    3   3   no    no    2   \n",
              "4  22    Male   1.78   89.8   Sometimes   no    2   1   no    no    2   \n",
              "\n",
              "  family_history_with_overweight FAF TUE       CAEC                 MTRANS  \\\n",
              "0                            yes   0   1  Sometimes  Public_Transportation   \n",
              "1                            yes   3   0  Sometimes  Public_Transportation   \n",
              "2                            yes   2   1  Sometimes  Public_Transportation   \n",
              "3                             no   2   0  Sometimes                Walking   \n",
              "4                             no   0   0  Sometimes  Public_Transportation   \n",
              "\n",
              "            NObeyesdad  \n",
              "0        Normal_Weight  \n",
              "1        Normal_Weight  \n",
              "2        Normal_Weight  \n",
              "3   Overweight_Level_I  \n",
              "4  Overweight_Level_II  "
            ],
            "text/html": [
              "\n",
              "  <div id=\"df-63974d38-6cb3-4c8b-8f91-0a50683beadd\" class=\"colab-df-container\">\n",
              "    <div>\n",
              "<style scoped>\n",
              "    .dataframe tbody tr th:only-of-type {\n",
              "        vertical-align: middle;\n",
              "    }\n",
              "\n",
              "    .dataframe tbody tr th {\n",
              "        vertical-align: top;\n",
              "    }\n",
              "\n",
              "    .dataframe thead th {\n",
              "        text-align: right;\n",
              "    }\n",
              "</style>\n",
              "<table border=\"1\" class=\"dataframe\">\n",
              "  <thead>\n",
              "    <tr style=\"text-align: right;\">\n",
              "      <th></th>\n",
              "      <th>Age</th>\n",
              "      <th>Gender</th>\n",
              "      <th>Height</th>\n",
              "      <th>Weight</th>\n",
              "      <th>CALC</th>\n",
              "      <th>FAVC</th>\n",
              "      <th>FCVC</th>\n",
              "      <th>NCP</th>\n",
              "      <th>SCC</th>\n",
              "      <th>SMOKE</th>\n",
              "      <th>CH2O</th>\n",
              "      <th>family_history_with_overweight</th>\n",
              "      <th>FAF</th>\n",
              "      <th>TUE</th>\n",
              "      <th>CAEC</th>\n",
              "      <th>MTRANS</th>\n",
              "      <th>NObeyesdad</th>\n",
              "    </tr>\n",
              "  </thead>\n",
              "  <tbody>\n",
              "    <tr>\n",
              "      <th>0</th>\n",
              "      <td>21</td>\n",
              "      <td>Female</td>\n",
              "      <td>1.62</td>\n",
              "      <td>64</td>\n",
              "      <td>no</td>\n",
              "      <td>no</td>\n",
              "      <td>2</td>\n",
              "      <td>3</td>\n",
              "      <td>no</td>\n",
              "      <td>no</td>\n",
              "      <td>2</td>\n",
              "      <td>yes</td>\n",
              "      <td>0</td>\n",
              "      <td>1</td>\n",
              "      <td>Sometimes</td>\n",
              "      <td>Public_Transportation</td>\n",
              "      <td>Normal_Weight</td>\n",
              "    </tr>\n",
              "    <tr>\n",
              "      <th>1</th>\n",
              "      <td>21</td>\n",
              "      <td>Female</td>\n",
              "      <td>1.52</td>\n",
              "      <td>56</td>\n",
              "      <td>Sometimes</td>\n",
              "      <td>no</td>\n",
              "      <td>3</td>\n",
              "      <td>3</td>\n",
              "      <td>yes</td>\n",
              "      <td>yes</td>\n",
              "      <td>3</td>\n",
              "      <td>yes</td>\n",
              "      <td>3</td>\n",
              "      <td>0</td>\n",
              "      <td>Sometimes</td>\n",
              "      <td>Public_Transportation</td>\n",
              "      <td>Normal_Weight</td>\n",
              "    </tr>\n",
              "    <tr>\n",
              "      <th>2</th>\n",
              "      <td>23</td>\n",
              "      <td>Male</td>\n",
              "      <td>1.8</td>\n",
              "      <td>77</td>\n",
              "      <td>Frequently</td>\n",
              "      <td>no</td>\n",
              "      <td>2</td>\n",
              "      <td>3</td>\n",
              "      <td>no</td>\n",
              "      <td>no</td>\n",
              "      <td>2</td>\n",
              "      <td>yes</td>\n",
              "      <td>2</td>\n",
              "      <td>1</td>\n",
              "      <td>Sometimes</td>\n",
              "      <td>Public_Transportation</td>\n",
              "      <td>Normal_Weight</td>\n",
              "    </tr>\n",
              "    <tr>\n",
              "      <th>3</th>\n",
              "      <td>27</td>\n",
              "      <td>Male</td>\n",
              "      <td>1.8</td>\n",
              "      <td>87</td>\n",
              "      <td>Frequently</td>\n",
              "      <td>no</td>\n",
              "      <td>3</td>\n",
              "      <td>3</td>\n",
              "      <td>no</td>\n",
              "      <td>no</td>\n",
              "      <td>2</td>\n",
              "      <td>no</td>\n",
              "      <td>2</td>\n",
              "      <td>0</td>\n",
              "      <td>Sometimes</td>\n",
              "      <td>Walking</td>\n",
              "      <td>Overweight_Level_I</td>\n",
              "    </tr>\n",
              "    <tr>\n",
              "      <th>4</th>\n",
              "      <td>22</td>\n",
              "      <td>Male</td>\n",
              "      <td>1.78</td>\n",
              "      <td>89.8</td>\n",
              "      <td>Sometimes</td>\n",
              "      <td>no</td>\n",
              "      <td>2</td>\n",
              "      <td>1</td>\n",
              "      <td>no</td>\n",
              "      <td>no</td>\n",
              "      <td>2</td>\n",
              "      <td>no</td>\n",
              "      <td>0</td>\n",
              "      <td>0</td>\n",
              "      <td>Sometimes</td>\n",
              "      <td>Public_Transportation</td>\n",
              "      <td>Overweight_Level_II</td>\n",
              "    </tr>\n",
              "  </tbody>\n",
              "</table>\n",
              "</div>\n",
              "    <div class=\"colab-df-buttons\">\n",
              "\n",
              "  <div class=\"colab-df-container\">\n",
              "    <button class=\"colab-df-convert\" onclick=\"convertToInteractive('df-63974d38-6cb3-4c8b-8f91-0a50683beadd')\"\n",
              "            title=\"Convert this dataframe to an interactive table.\"\n",
              "            style=\"display:none;\">\n",
              "\n",
              "  <svg xmlns=\"http://www.w3.org/2000/svg\" height=\"24px\" viewBox=\"0 -960 960 960\">\n",
              "    <path d=\"M120-120v-720h720v720H120Zm60-500h600v-160H180v160Zm220 220h160v-160H400v160Zm0 220h160v-160H400v160ZM180-400h160v-160H180v160Zm440 0h160v-160H620v160ZM180-180h160v-160H180v160Zm440 0h160v-160H620v160Z\"/>\n",
              "  </svg>\n",
              "    </button>\n",
              "\n",
              "  <style>\n",
              "    .colab-df-container {\n",
              "      display:flex;\n",
              "      gap: 12px;\n",
              "    }\n",
              "\n",
              "    .colab-df-convert {\n",
              "      background-color: #E8F0FE;\n",
              "      border: none;\n",
              "      border-radius: 50%;\n",
              "      cursor: pointer;\n",
              "      display: none;\n",
              "      fill: #1967D2;\n",
              "      height: 32px;\n",
              "      padding: 0 0 0 0;\n",
              "      width: 32px;\n",
              "    }\n",
              "\n",
              "    .colab-df-convert:hover {\n",
              "      background-color: #E2EBFA;\n",
              "      box-shadow: 0px 1px 2px rgba(60, 64, 67, 0.3), 0px 1px 3px 1px rgba(60, 64, 67, 0.15);\n",
              "      fill: #174EA6;\n",
              "    }\n",
              "\n",
              "    .colab-df-buttons div {\n",
              "      margin-bottom: 4px;\n",
              "    }\n",
              "\n",
              "    [theme=dark] .colab-df-convert {\n",
              "      background-color: #3B4455;\n",
              "      fill: #D2E3FC;\n",
              "    }\n",
              "\n",
              "    [theme=dark] .colab-df-convert:hover {\n",
              "      background-color: #434B5C;\n",
              "      box-shadow: 0px 1px 3px 1px rgba(0, 0, 0, 0.15);\n",
              "      filter: drop-shadow(0px 1px 2px rgba(0, 0, 0, 0.3));\n",
              "      fill: #FFFFFF;\n",
              "    }\n",
              "  </style>\n",
              "\n",
              "    <script>\n",
              "      const buttonEl =\n",
              "        document.querySelector('#df-63974d38-6cb3-4c8b-8f91-0a50683beadd button.colab-df-convert');\n",
              "      buttonEl.style.display =\n",
              "        google.colab.kernel.accessAllowed ? 'block' : 'none';\n",
              "\n",
              "      async function convertToInteractive(key) {\n",
              "        const element = document.querySelector('#df-63974d38-6cb3-4c8b-8f91-0a50683beadd');\n",
              "        const dataTable =\n",
              "          await google.colab.kernel.invokeFunction('convertToInteractive',\n",
              "                                                    [key], {});\n",
              "        if (!dataTable) return;\n",
              "\n",
              "        const docLinkHtml = 'Like what you see? Visit the ' +\n",
              "          '<a target=\"_blank\" href=https://colab.research.google.com/notebooks/data_table.ipynb>data table notebook</a>'\n",
              "          + ' to learn more about interactive tables.';\n",
              "        element.innerHTML = '';\n",
              "        dataTable['output_type'] = 'display_data';\n",
              "        await google.colab.output.renderOutput(dataTable, element);\n",
              "        const docLink = document.createElement('div');\n",
              "        docLink.innerHTML = docLinkHtml;\n",
              "        element.appendChild(docLink);\n",
              "      }\n",
              "    </script>\n",
              "  </div>\n",
              "\n",
              "\n",
              "    <div id=\"df-c5d66095-6fd8-4ebd-b0ac-f29a88195d7b\">\n",
              "      <button class=\"colab-df-quickchart\" onclick=\"quickchart('df-c5d66095-6fd8-4ebd-b0ac-f29a88195d7b')\"\n",
              "                title=\"Suggest charts\"\n",
              "                style=\"display:none;\">\n",
              "\n",
              "<svg xmlns=\"http://www.w3.org/2000/svg\" height=\"24px\"viewBox=\"0 0 24 24\"\n",
              "     width=\"24px\">\n",
              "    <g>\n",
              "        <path d=\"M19 3H5c-1.1 0-2 .9-2 2v14c0 1.1.9 2 2 2h14c1.1 0 2-.9 2-2V5c0-1.1-.9-2-2-2zM9 17H7v-7h2v7zm4 0h-2V7h2v10zm4 0h-2v-4h2v4z\"/>\n",
              "    </g>\n",
              "</svg>\n",
              "      </button>\n",
              "\n",
              "<style>\n",
              "  .colab-df-quickchart {\n",
              "      --bg-color: #E8F0FE;\n",
              "      --fill-color: #1967D2;\n",
              "      --hover-bg-color: #E2EBFA;\n",
              "      --hover-fill-color: #174EA6;\n",
              "      --disabled-fill-color: #AAA;\n",
              "      --disabled-bg-color: #DDD;\n",
              "  }\n",
              "\n",
              "  [theme=dark] .colab-df-quickchart {\n",
              "      --bg-color: #3B4455;\n",
              "      --fill-color: #D2E3FC;\n",
              "      --hover-bg-color: #434B5C;\n",
              "      --hover-fill-color: #FFFFFF;\n",
              "      --disabled-bg-color: #3B4455;\n",
              "      --disabled-fill-color: #666;\n",
              "  }\n",
              "\n",
              "  .colab-df-quickchart {\n",
              "    background-color: var(--bg-color);\n",
              "    border: none;\n",
              "    border-radius: 50%;\n",
              "    cursor: pointer;\n",
              "    display: none;\n",
              "    fill: var(--fill-color);\n",
              "    height: 32px;\n",
              "    padding: 0;\n",
              "    width: 32px;\n",
              "  }\n",
              "\n",
              "  .colab-df-quickchart:hover {\n",
              "    background-color: var(--hover-bg-color);\n",
              "    box-shadow: 0 1px 2px rgba(60, 64, 67, 0.3), 0 1px 3px 1px rgba(60, 64, 67, 0.15);\n",
              "    fill: var(--button-hover-fill-color);\n",
              "  }\n",
              "\n",
              "  .colab-df-quickchart-complete:disabled,\n",
              "  .colab-df-quickchart-complete:disabled:hover {\n",
              "    background-color: var(--disabled-bg-color);\n",
              "    fill: var(--disabled-fill-color);\n",
              "    box-shadow: none;\n",
              "  }\n",
              "\n",
              "  .colab-df-spinner {\n",
              "    border: 2px solid var(--fill-color);\n",
              "    border-color: transparent;\n",
              "    border-bottom-color: var(--fill-color);\n",
              "    animation:\n",
              "      spin 1s steps(1) infinite;\n",
              "  }\n",
              "\n",
              "  @keyframes spin {\n",
              "    0% {\n",
              "      border-color: transparent;\n",
              "      border-bottom-color: var(--fill-color);\n",
              "      border-left-color: var(--fill-color);\n",
              "    }\n",
              "    20% {\n",
              "      border-color: transparent;\n",
              "      border-left-color: var(--fill-color);\n",
              "      border-top-color: var(--fill-color);\n",
              "    }\n",
              "    30% {\n",
              "      border-color: transparent;\n",
              "      border-left-color: var(--fill-color);\n",
              "      border-top-color: var(--fill-color);\n",
              "      border-right-color: var(--fill-color);\n",
              "    }\n",
              "    40% {\n",
              "      border-color: transparent;\n",
              "      border-right-color: var(--fill-color);\n",
              "      border-top-color: var(--fill-color);\n",
              "    }\n",
              "    60% {\n",
              "      border-color: transparent;\n",
              "      border-right-color: var(--fill-color);\n",
              "    }\n",
              "    80% {\n",
              "      border-color: transparent;\n",
              "      border-right-color: var(--fill-color);\n",
              "      border-bottom-color: var(--fill-color);\n",
              "    }\n",
              "    90% {\n",
              "      border-color: transparent;\n",
              "      border-bottom-color: var(--fill-color);\n",
              "    }\n",
              "  }\n",
              "</style>\n",
              "\n",
              "      <script>\n",
              "        async function quickchart(key) {\n",
              "          const quickchartButtonEl =\n",
              "            document.querySelector('#' + key + ' button');\n",
              "          quickchartButtonEl.disabled = true;  // To prevent multiple clicks.\n",
              "          quickchartButtonEl.classList.add('colab-df-spinner');\n",
              "          try {\n",
              "            const charts = await google.colab.kernel.invokeFunction(\n",
              "                'suggestCharts', [key], {});\n",
              "          } catch (error) {\n",
              "            console.error('Error during call to suggestCharts:', error);\n",
              "          }\n",
              "          quickchartButtonEl.classList.remove('colab-df-spinner');\n",
              "          quickchartButtonEl.classList.add('colab-df-quickchart-complete');\n",
              "        }\n",
              "        (() => {\n",
              "          let quickchartButtonEl =\n",
              "            document.querySelector('#df-c5d66095-6fd8-4ebd-b0ac-f29a88195d7b button');\n",
              "          quickchartButtonEl.style.display =\n",
              "            google.colab.kernel.accessAllowed ? 'block' : 'none';\n",
              "        })();\n",
              "      </script>\n",
              "    </div>\n",
              "\n",
              "    </div>\n",
              "  </div>\n"
            ],
            "application/vnd.google.colaboratory.intrinsic+json": {
              "type": "dataframe",
              "variable_name": "df",
              "summary": "{\n  \"name\": \"df\",\n  \"rows\": 2111,\n  \"fields\": [\n    {\n      \"column\": \"Age\",\n      \"properties\": {\n        \"dtype\": \"string\",\n        \"num_unique_values\": 1394,\n        \"samples\": [\n          \"21.012569\",\n          \"30.577944\",\n          \"30.002029\"\n        ],\n        \"semantic_type\": \"\",\n        \"description\": \"\"\n      }\n    },\n    {\n      \"column\": \"Gender\",\n      \"properties\": {\n        \"dtype\": \"category\",\n        \"num_unique_values\": 3,\n        \"samples\": [\n          \"Female\",\n          \"Male\",\n          \"?\"\n        ],\n        \"semantic_type\": \"\",\n        \"description\": \"\"\n      }\n    },\n    {\n      \"column\": \"Height\",\n      \"properties\": {\n        \"dtype\": \"string\",\n        \"num_unique_values\": 1562,\n        \"samples\": [\n          \"1.817917\",\n          \"1.699793\",\n          \"1.508908\"\n        ],\n        \"semantic_type\": \"\",\n        \"description\": \"\"\n      }\n    },\n    {\n      \"column\": \"Weight\",\n      \"properties\": {\n        \"dtype\": \"string\",\n        \"num_unique_values\": 1518,\n        \"samples\": [\n          \"49.105025\",\n          \"109.900472\",\n          \"104.585783\"\n        ],\n        \"semantic_type\": \"\",\n        \"description\": \"\"\n      }\n    },\n    {\n      \"column\": \"CALC\",\n      \"properties\": {\n        \"dtype\": \"category\",\n        \"num_unique_values\": 5,\n        \"samples\": [\n          \"Sometimes\",\n          \"Always\",\n          \"Frequently\"\n        ],\n        \"semantic_type\": \"\",\n        \"description\": \"\"\n      }\n    },\n    {\n      \"column\": \"FAVC\",\n      \"properties\": {\n        \"dtype\": \"category\",\n        \"num_unique_values\": 3,\n        \"samples\": [\n          \"no\",\n          \"yes\",\n          \"?\"\n        ],\n        \"semantic_type\": \"\",\n        \"description\": \"\"\n      }\n    },\n    {\n      \"column\": \"FCVC\",\n      \"properties\": {\n        \"dtype\": \"category\",\n        \"num_unique_values\": 808,\n        \"samples\": [\n          \"2.535154\",\n          \"2.951591\",\n          \"2.971588\"\n        ],\n        \"semantic_type\": \"\",\n        \"description\": \"\"\n      }\n    },\n    {\n      \"column\": \"NCP\",\n      \"properties\": {\n        \"dtype\": \"category\",\n        \"num_unique_values\": 637,\n        \"samples\": [\n          \"2.812283\",\n          \"2.118153\",\n          \"3.821168\"\n        ],\n        \"semantic_type\": \"\",\n        \"description\": \"\"\n      }\n    },\n    {\n      \"column\": \"SCC\",\n      \"properties\": {\n        \"dtype\": \"category\",\n        \"num_unique_values\": 3,\n        \"samples\": [\n          \"no\",\n          \"yes\",\n          \"?\"\n        ],\n        \"semantic_type\": \"\",\n        \"description\": \"\"\n      }\n    },\n    {\n      \"column\": \"SMOKE\",\n      \"properties\": {\n        \"dtype\": \"category\",\n        \"num_unique_values\": 3,\n        \"samples\": [\n          \"no\",\n          \"yes\",\n          \"?\"\n        ],\n        \"semantic_type\": \"\",\n        \"description\": \"\"\n      }\n    },\n    {\n      \"column\": \"CH2O\",\n      \"properties\": {\n        \"dtype\": \"string\",\n        \"num_unique_values\": 1263,\n        \"samples\": [\n          \"2.395387\",\n          \"1.01378\",\n          \"2.03415\"\n        ],\n        \"semantic_type\": \"\",\n        \"description\": \"\"\n      }\n    },\n    {\n      \"column\": \"family_history_with_overweight\",\n      \"properties\": {\n        \"dtype\": \"category\",\n        \"num_unique_values\": 3,\n        \"samples\": [\n          \"yes\",\n          \"no\",\n          \"?\"\n        ],\n        \"semantic_type\": \"\",\n        \"description\": \"\"\n      }\n    },\n    {\n      \"column\": \"FAF\",\n      \"properties\": {\n        \"dtype\": \"string\",\n        \"num_unique_values\": 1186,\n        \"samples\": [\n          \"1.609801\",\n          \"1.194898\",\n          \"1.34139\"\n        ],\n        \"semantic_type\": \"\",\n        \"description\": \"\"\n      }\n    },\n    {\n      \"column\": \"TUE\",\n      \"properties\": {\n        \"dtype\": \"string\",\n        \"num_unique_values\": 1130,\n        \"samples\": [\n          \"1.89933\",\n          \"0.930836\",\n          \"0.173232\"\n        ],\n        \"semantic_type\": \"\",\n        \"description\": \"\"\n      }\n    },\n    {\n      \"column\": \"CAEC\",\n      \"properties\": {\n        \"dtype\": \"category\",\n        \"num_unique_values\": 5,\n        \"samples\": [\n          \"Frequently\",\n          \"?\",\n          \"Always\"\n        ],\n        \"semantic_type\": \"\",\n        \"description\": \"\"\n      }\n    },\n    {\n      \"column\": \"MTRANS\",\n      \"properties\": {\n        \"dtype\": \"category\",\n        \"num_unique_values\": 6,\n        \"samples\": [\n          \"Public_Transportation\",\n          \"Walking\",\n          \"?\"\n        ],\n        \"semantic_type\": \"\",\n        \"description\": \"\"\n      }\n    },\n    {\n      \"column\": \"NObeyesdad\",\n      \"properties\": {\n        \"dtype\": \"category\",\n        \"num_unique_values\": 7,\n        \"samples\": [\n          \"Normal_Weight\",\n          \"Overweight_Level_I\",\n          \"Obesity_Type_II\"\n        ],\n        \"semantic_type\": \"\",\n        \"description\": \"\"\n      }\n    }\n  ]\n}"
            }
          },
          "metadata": {},
          "execution_count": 167
        }
      ]
    },
    {
      "cell_type": "markdown",
      "source": [
        "**Bertujuan untuk :**\n",
        "\n",
        "* Melihat isi data secara umum.\n",
        "\n",
        "* Mengetahui nama-nama kolom dan tipe data.\n",
        "\n",
        "* Mengidentifikasi kemungkinan adanya nilai yang tidak valid, kosong, atau tidak konsisten.\n",
        "\n",
        "Langkah ini sangat penting untuk memberikan **gambaran awal** tentang **struktur dan kualitas data** sebelum dilakukan analisis lebih lanjut."
      ],
      "metadata": {
        "id": "Wo9W8crSm27J"
      }
    },
    {
      "cell_type": "markdown",
      "source": [
        "### **Pemahaman Data**\n",
        "\n",
        "---\n",
        "\n"
      ],
      "metadata": {
        "id": "5ifJSCN9ecJQ"
      }
    },
    {
      "cell_type": "markdown",
      "source": [
        "Tahapan **Pemahaman Data** bertujuan untuk mengenali struktur, tipe, dan isi dari dataset yang telah dimuat. Hal ini penting agar analis data dapat menentukan langkah-langkah pembersihan, transformasi, dan visualisasi yang tepat di tahap berikutnya."
      ],
      "metadata": {
        "id": "RG4j8Tmpnk7b"
      }
    },
    {
      "cell_type": "markdown",
      "source": [
        "#### **Cek Tipe Data dan Informasi Dataset**\n",
        "\n",
        "---\n",
        "\n"
      ],
      "metadata": {
        "id": "GQmKGCp2dFdc"
      }
    },
    {
      "cell_type": "markdown",
      "source": [
        "Fungsi `df.info()` memberikan **gambaran umum tentang struktur dataset**, meliputi:\n",
        "\n",
        "* Jumlah baris (`entries`),\n",
        "\n",
        "* Nama kolom,\n",
        "\n",
        "* Jumlah `non-null` (nilai yang tidak kosong) di setiap kolom,\n",
        "\n",
        "* Tipe data masing-masing kolom (seperti `int64`, `float64`, atau `object`)."
      ],
      "metadata": {
        "id": "Eh8FNoJEnwaC"
      }
    },
    {
      "cell_type": "code",
      "source": [
        "# Cek tipe data dan informasi dataset\n",
        "df.info()"
      ],
      "metadata": {
        "colab": {
          "base_uri": "https://localhost:8080/"
        },
        "id": "ZVoWulHC7EuI",
        "outputId": "dd38e226-f269-482a-b4ce-3bd3550b4149"
      },
      "execution_count": 168,
      "outputs": [
        {
          "output_type": "stream",
          "name": "stdout",
          "text": [
            "<class 'pandas.core.frame.DataFrame'>\n",
            "RangeIndex: 2111 entries, 0 to 2110\n",
            "Data columns (total 17 columns):\n",
            " #   Column                          Non-Null Count  Dtype \n",
            "---  ------                          --------------  ----- \n",
            " 0   Age                             2097 non-null   object\n",
            " 1   Gender                          2102 non-null   object\n",
            " 2   Height                          2099 non-null   object\n",
            " 3   Weight                          2100 non-null   object\n",
            " 4   CALC                            2106 non-null   object\n",
            " 5   FAVC                            2100 non-null   object\n",
            " 6   FCVC                            2103 non-null   object\n",
            " 7   NCP                             2099 non-null   object\n",
            " 8   SCC                             2101 non-null   object\n",
            " 9   SMOKE                           2106 non-null   object\n",
            " 10  CH2O                            2105 non-null   object\n",
            " 11  family_history_with_overweight  2098 non-null   object\n",
            " 12  FAF                             2103 non-null   object\n",
            " 13  TUE                             2102 non-null   object\n",
            " 14  CAEC                            2100 non-null   object\n",
            " 15  MTRANS                          2105 non-null   object\n",
            " 16  NObeyesdad                      2111 non-null   object\n",
            "dtypes: object(17)\n",
            "memory usage: 280.5+ KB\n"
          ]
        }
      ]
    },
    {
      "cell_type": "markdown",
      "source": [
        "**Tujuan :**\n",
        "\n",
        "* Untuk mengetahui apakah ada kolom yang memiliki nilai kosong (`missing values`).\n",
        "\n",
        "* Untuk memahami tipe data, sehingga dapat dipersiapkan untuk proses analisis atau konversi tipe data yang diperlukan."
      ],
      "metadata": {
        "id": "Cn7h87yQomUT"
      }
    },
    {
      "cell_type": "markdown",
      "source": [
        "#### **Menampilkan Kolom dalam Dataset**\n",
        "\n",
        "---\n",
        "\n"
      ],
      "metadata": {
        "id": "ASjsdZtXgqXx"
      }
    },
    {
      "cell_type": "markdown",
      "source": [
        "Fungsi ini **menampilkan daftar nama kolom pada dataset**. Ini membantu kita untuk:\n",
        "\n",
        "* Memahami atribut atau fitur apa saja yang tersedia,\n",
        "\n",
        "* Menghindari kesalahan penulisan nama kolom saat melakukan manipulasi data selanjutnya.\n"
      ],
      "metadata": {
        "id": "CaMFmS7jo4KX"
      }
    },
    {
      "cell_type": "code",
      "source": [
        "# Menampilkan kolom dalam dataset\n",
        "df.columns"
      ],
      "metadata": {
        "colab": {
          "base_uri": "https://localhost:8080/"
        },
        "id": "i6Cpqcgg7Rsk",
        "outputId": "8a195838-05af-4b38-e06d-c8c7ae779ace"
      },
      "execution_count": 169,
      "outputs": [
        {
          "output_type": "execute_result",
          "data": {
            "text/plain": [
              "Index(['Age', 'Gender', 'Height', 'Weight', 'CALC', 'FAVC', 'FCVC', 'NCP',\n",
              "       'SCC', 'SMOKE', 'CH2O', 'family_history_with_overweight', 'FAF', 'TUE',\n",
              "       'CAEC', 'MTRANS', 'NObeyesdad'],\n",
              "      dtype='object')"
            ]
          },
          "metadata": {},
          "execution_count": 169
        }
      ]
    },
    {
      "cell_type": "markdown",
      "source": [
        "#### **Melihat Jumlah Data**\n",
        "\n",
        "---\n",
        "\n"
      ],
      "metadata": {
        "id": "nouS5js2g0Mv"
      }
    },
    {
      "cell_type": "markdown",
      "source": [
        "Fungsi `df.shape` akan mengembalikan ukuran dataset dalam format (baris, kolom).\n",
        "\n",
        "**Output:** `(2111, 17)` berarti dataset memiliki:\n",
        "\n",
        "`2111` baris data (jumlah observasi/individu),\n",
        "\n",
        "`17` kolom (jumlah fitur/variabel)."
      ],
      "metadata": {
        "id": "GKjkDnKlpENZ"
      }
    },
    {
      "cell_type": "code",
      "source": [
        "# Melihat jumlah data dalam setiap fitur\n",
        "df.shape"
      ],
      "metadata": {
        "colab": {
          "base_uri": "https://localhost:8080/"
        },
        "id": "al1-JMU77c7u",
        "outputId": "568c54c8-eea9-460a-be72-2ec1ec160a6a"
      },
      "execution_count": 170,
      "outputs": [
        {
          "output_type": "execute_result",
          "data": {
            "text/plain": [
              "(2111, 17)"
            ]
          },
          "metadata": {},
          "execution_count": 170
        }
      ]
    },
    {
      "cell_type": "markdown",
      "source": [
        "**Tujuan :**\n",
        "\n",
        "* Mengetahui seberapa besar data yang akan dianalisis.\n",
        "\n",
        "* Mengantisipasi kebutuhan pembersihan atau segmentasi data."
      ],
      "metadata": {
        "id": "J3yuSIucpVJD"
      }
    },
    {
      "cell_type": "markdown",
      "source": [
        "#### **Statistik Ringkasan Dataset**\n",
        "\n",
        "---\n",
        "\n"
      ],
      "metadata": {
        "id": "0ZdChXzsfJhX"
      }
    },
    {
      "cell_type": "markdown",
      "source": [
        "Fungsi `df.describe()` memberikan **ringkasan statistik dari kolom bertipe numerik**, seperti:\n",
        "\n",
        "* `count`: jumlah data tidak kosong,\n",
        "\n",
        "* `mean`: nilai rata-rata,\n",
        "\n",
        "* `std`: standar deviasi (sebaran data),\n",
        "\n",
        "* `min`: nilai minimum,\n",
        "\n",
        "* `25%`, `50%`, `75%`: nilai kuartil,\n",
        "\n",
        "* `max`: nilai maksimum."
      ],
      "metadata": {
        "id": "3YyD4uERpflG"
      }
    },
    {
      "cell_type": "code",
      "source": [
        "# Statistik ringkasan dataset\n",
        "df.describe()"
      ],
      "metadata": {
        "colab": {
          "base_uri": "https://localhost:8080/",
          "height": 195
        },
        "id": "VZOJl4k57Ofm",
        "outputId": "2cfe1b02-22d5-49a3-e864-25cb39376153"
      },
      "execution_count": 171,
      "outputs": [
        {
          "output_type": "execute_result",
          "data": {
            "text/plain": [
              "         Age Gender Height Weight       CALC  FAVC  FCVC   NCP   SCC SMOKE  \\\n",
              "count   2097   2102   2099   2100       2106  2100  2103  2099  2101  2106   \n",
              "unique  1394      3   1562   1518          5     3   808   637     3     3   \n",
              "top       18   Male    1.7     80  Sometimes   yes     3     3    no    no   \n",
              "freq     124   1056     58     58       1386  1844   647  1183  1997  2054   \n",
              "\n",
              "        CH2O family_history_with_overweight   FAF   TUE       CAEC  \\\n",
              "count   2105                           2098  2103  2102       2100   \n",
              "unique  1263                              3  1186  1130          5   \n",
              "top        2                            yes     0     0  Sometimes   \n",
              "freq     441                           1705   404   552       1747   \n",
              "\n",
              "                       MTRANS      NObeyesdad  \n",
              "count                    2105            2111  \n",
              "unique                      6               7  \n",
              "top     Public_Transportation  Obesity_Type_I  \n",
              "freq                     1572             351  "
            ],
            "text/html": [
              "\n",
              "  <div id=\"df-efe35162-1729-4574-ac65-0ca5dec4be95\" class=\"colab-df-container\">\n",
              "    <div>\n",
              "<style scoped>\n",
              "    .dataframe tbody tr th:only-of-type {\n",
              "        vertical-align: middle;\n",
              "    }\n",
              "\n",
              "    .dataframe tbody tr th {\n",
              "        vertical-align: top;\n",
              "    }\n",
              "\n",
              "    .dataframe thead th {\n",
              "        text-align: right;\n",
              "    }\n",
              "</style>\n",
              "<table border=\"1\" class=\"dataframe\">\n",
              "  <thead>\n",
              "    <tr style=\"text-align: right;\">\n",
              "      <th></th>\n",
              "      <th>Age</th>\n",
              "      <th>Gender</th>\n",
              "      <th>Height</th>\n",
              "      <th>Weight</th>\n",
              "      <th>CALC</th>\n",
              "      <th>FAVC</th>\n",
              "      <th>FCVC</th>\n",
              "      <th>NCP</th>\n",
              "      <th>SCC</th>\n",
              "      <th>SMOKE</th>\n",
              "      <th>CH2O</th>\n",
              "      <th>family_history_with_overweight</th>\n",
              "      <th>FAF</th>\n",
              "      <th>TUE</th>\n",
              "      <th>CAEC</th>\n",
              "      <th>MTRANS</th>\n",
              "      <th>NObeyesdad</th>\n",
              "    </tr>\n",
              "  </thead>\n",
              "  <tbody>\n",
              "    <tr>\n",
              "      <th>count</th>\n",
              "      <td>2097</td>\n",
              "      <td>2102</td>\n",
              "      <td>2099</td>\n",
              "      <td>2100</td>\n",
              "      <td>2106</td>\n",
              "      <td>2100</td>\n",
              "      <td>2103</td>\n",
              "      <td>2099</td>\n",
              "      <td>2101</td>\n",
              "      <td>2106</td>\n",
              "      <td>2105</td>\n",
              "      <td>2098</td>\n",
              "      <td>2103</td>\n",
              "      <td>2102</td>\n",
              "      <td>2100</td>\n",
              "      <td>2105</td>\n",
              "      <td>2111</td>\n",
              "    </tr>\n",
              "    <tr>\n",
              "      <th>unique</th>\n",
              "      <td>1394</td>\n",
              "      <td>3</td>\n",
              "      <td>1562</td>\n",
              "      <td>1518</td>\n",
              "      <td>5</td>\n",
              "      <td>3</td>\n",
              "      <td>808</td>\n",
              "      <td>637</td>\n",
              "      <td>3</td>\n",
              "      <td>3</td>\n",
              "      <td>1263</td>\n",
              "      <td>3</td>\n",
              "      <td>1186</td>\n",
              "      <td>1130</td>\n",
              "      <td>5</td>\n",
              "      <td>6</td>\n",
              "      <td>7</td>\n",
              "    </tr>\n",
              "    <tr>\n",
              "      <th>top</th>\n",
              "      <td>18</td>\n",
              "      <td>Male</td>\n",
              "      <td>1.7</td>\n",
              "      <td>80</td>\n",
              "      <td>Sometimes</td>\n",
              "      <td>yes</td>\n",
              "      <td>3</td>\n",
              "      <td>3</td>\n",
              "      <td>no</td>\n",
              "      <td>no</td>\n",
              "      <td>2</td>\n",
              "      <td>yes</td>\n",
              "      <td>0</td>\n",
              "      <td>0</td>\n",
              "      <td>Sometimes</td>\n",
              "      <td>Public_Transportation</td>\n",
              "      <td>Obesity_Type_I</td>\n",
              "    </tr>\n",
              "    <tr>\n",
              "      <th>freq</th>\n",
              "      <td>124</td>\n",
              "      <td>1056</td>\n",
              "      <td>58</td>\n",
              "      <td>58</td>\n",
              "      <td>1386</td>\n",
              "      <td>1844</td>\n",
              "      <td>647</td>\n",
              "      <td>1183</td>\n",
              "      <td>1997</td>\n",
              "      <td>2054</td>\n",
              "      <td>441</td>\n",
              "      <td>1705</td>\n",
              "      <td>404</td>\n",
              "      <td>552</td>\n",
              "      <td>1747</td>\n",
              "      <td>1572</td>\n",
              "      <td>351</td>\n",
              "    </tr>\n",
              "  </tbody>\n",
              "</table>\n",
              "</div>\n",
              "    <div class=\"colab-df-buttons\">\n",
              "\n",
              "  <div class=\"colab-df-container\">\n",
              "    <button class=\"colab-df-convert\" onclick=\"convertToInteractive('df-efe35162-1729-4574-ac65-0ca5dec4be95')\"\n",
              "            title=\"Convert this dataframe to an interactive table.\"\n",
              "            style=\"display:none;\">\n",
              "\n",
              "  <svg xmlns=\"http://www.w3.org/2000/svg\" height=\"24px\" viewBox=\"0 -960 960 960\">\n",
              "    <path d=\"M120-120v-720h720v720H120Zm60-500h600v-160H180v160Zm220 220h160v-160H400v160Zm0 220h160v-160H400v160ZM180-400h160v-160H180v160Zm440 0h160v-160H620v160ZM180-180h160v-160H180v160Zm440 0h160v-160H620v160Z\"/>\n",
              "  </svg>\n",
              "    </button>\n",
              "\n",
              "  <style>\n",
              "    .colab-df-container {\n",
              "      display:flex;\n",
              "      gap: 12px;\n",
              "    }\n",
              "\n",
              "    .colab-df-convert {\n",
              "      background-color: #E8F0FE;\n",
              "      border: none;\n",
              "      border-radius: 50%;\n",
              "      cursor: pointer;\n",
              "      display: none;\n",
              "      fill: #1967D2;\n",
              "      height: 32px;\n",
              "      padding: 0 0 0 0;\n",
              "      width: 32px;\n",
              "    }\n",
              "\n",
              "    .colab-df-convert:hover {\n",
              "      background-color: #E2EBFA;\n",
              "      box-shadow: 0px 1px 2px rgba(60, 64, 67, 0.3), 0px 1px 3px 1px rgba(60, 64, 67, 0.15);\n",
              "      fill: #174EA6;\n",
              "    }\n",
              "\n",
              "    .colab-df-buttons div {\n",
              "      margin-bottom: 4px;\n",
              "    }\n",
              "\n",
              "    [theme=dark] .colab-df-convert {\n",
              "      background-color: #3B4455;\n",
              "      fill: #D2E3FC;\n",
              "    }\n",
              "\n",
              "    [theme=dark] .colab-df-convert:hover {\n",
              "      background-color: #434B5C;\n",
              "      box-shadow: 0px 1px 3px 1px rgba(0, 0, 0, 0.15);\n",
              "      filter: drop-shadow(0px 1px 2px rgba(0, 0, 0, 0.3));\n",
              "      fill: #FFFFFF;\n",
              "    }\n",
              "  </style>\n",
              "\n",
              "    <script>\n",
              "      const buttonEl =\n",
              "        document.querySelector('#df-efe35162-1729-4574-ac65-0ca5dec4be95 button.colab-df-convert');\n",
              "      buttonEl.style.display =\n",
              "        google.colab.kernel.accessAllowed ? 'block' : 'none';\n",
              "\n",
              "      async function convertToInteractive(key) {\n",
              "        const element = document.querySelector('#df-efe35162-1729-4574-ac65-0ca5dec4be95');\n",
              "        const dataTable =\n",
              "          await google.colab.kernel.invokeFunction('convertToInteractive',\n",
              "                                                    [key], {});\n",
              "        if (!dataTable) return;\n",
              "\n",
              "        const docLinkHtml = 'Like what you see? Visit the ' +\n",
              "          '<a target=\"_blank\" href=https://colab.research.google.com/notebooks/data_table.ipynb>data table notebook</a>'\n",
              "          + ' to learn more about interactive tables.';\n",
              "        element.innerHTML = '';\n",
              "        dataTable['output_type'] = 'display_data';\n",
              "        await google.colab.output.renderOutput(dataTable, element);\n",
              "        const docLink = document.createElement('div');\n",
              "        docLink.innerHTML = docLinkHtml;\n",
              "        element.appendChild(docLink);\n",
              "      }\n",
              "    </script>\n",
              "  </div>\n",
              "\n",
              "\n",
              "    <div id=\"df-fd886d45-b1ba-4e58-b0fd-76d587d8a4ea\">\n",
              "      <button class=\"colab-df-quickchart\" onclick=\"quickchart('df-fd886d45-b1ba-4e58-b0fd-76d587d8a4ea')\"\n",
              "                title=\"Suggest charts\"\n",
              "                style=\"display:none;\">\n",
              "\n",
              "<svg xmlns=\"http://www.w3.org/2000/svg\" height=\"24px\"viewBox=\"0 0 24 24\"\n",
              "     width=\"24px\">\n",
              "    <g>\n",
              "        <path d=\"M19 3H5c-1.1 0-2 .9-2 2v14c0 1.1.9 2 2 2h14c1.1 0 2-.9 2-2V5c0-1.1-.9-2-2-2zM9 17H7v-7h2v7zm4 0h-2V7h2v10zm4 0h-2v-4h2v4z\"/>\n",
              "    </g>\n",
              "</svg>\n",
              "      </button>\n",
              "\n",
              "<style>\n",
              "  .colab-df-quickchart {\n",
              "      --bg-color: #E8F0FE;\n",
              "      --fill-color: #1967D2;\n",
              "      --hover-bg-color: #E2EBFA;\n",
              "      --hover-fill-color: #174EA6;\n",
              "      --disabled-fill-color: #AAA;\n",
              "      --disabled-bg-color: #DDD;\n",
              "  }\n",
              "\n",
              "  [theme=dark] .colab-df-quickchart {\n",
              "      --bg-color: #3B4455;\n",
              "      --fill-color: #D2E3FC;\n",
              "      --hover-bg-color: #434B5C;\n",
              "      --hover-fill-color: #FFFFFF;\n",
              "      --disabled-bg-color: #3B4455;\n",
              "      --disabled-fill-color: #666;\n",
              "  }\n",
              "\n",
              "  .colab-df-quickchart {\n",
              "    background-color: var(--bg-color);\n",
              "    border: none;\n",
              "    border-radius: 50%;\n",
              "    cursor: pointer;\n",
              "    display: none;\n",
              "    fill: var(--fill-color);\n",
              "    height: 32px;\n",
              "    padding: 0;\n",
              "    width: 32px;\n",
              "  }\n",
              "\n",
              "  .colab-df-quickchart:hover {\n",
              "    background-color: var(--hover-bg-color);\n",
              "    box-shadow: 0 1px 2px rgba(60, 64, 67, 0.3), 0 1px 3px 1px rgba(60, 64, 67, 0.15);\n",
              "    fill: var(--button-hover-fill-color);\n",
              "  }\n",
              "\n",
              "  .colab-df-quickchart-complete:disabled,\n",
              "  .colab-df-quickchart-complete:disabled:hover {\n",
              "    background-color: var(--disabled-bg-color);\n",
              "    fill: var(--disabled-fill-color);\n",
              "    box-shadow: none;\n",
              "  }\n",
              "\n",
              "  .colab-df-spinner {\n",
              "    border: 2px solid var(--fill-color);\n",
              "    border-color: transparent;\n",
              "    border-bottom-color: var(--fill-color);\n",
              "    animation:\n",
              "      spin 1s steps(1) infinite;\n",
              "  }\n",
              "\n",
              "  @keyframes spin {\n",
              "    0% {\n",
              "      border-color: transparent;\n",
              "      border-bottom-color: var(--fill-color);\n",
              "      border-left-color: var(--fill-color);\n",
              "    }\n",
              "    20% {\n",
              "      border-color: transparent;\n",
              "      border-left-color: var(--fill-color);\n",
              "      border-top-color: var(--fill-color);\n",
              "    }\n",
              "    30% {\n",
              "      border-color: transparent;\n",
              "      border-left-color: var(--fill-color);\n",
              "      border-top-color: var(--fill-color);\n",
              "      border-right-color: var(--fill-color);\n",
              "    }\n",
              "    40% {\n",
              "      border-color: transparent;\n",
              "      border-right-color: var(--fill-color);\n",
              "      border-top-color: var(--fill-color);\n",
              "    }\n",
              "    60% {\n",
              "      border-color: transparent;\n",
              "      border-right-color: var(--fill-color);\n",
              "    }\n",
              "    80% {\n",
              "      border-color: transparent;\n",
              "      border-right-color: var(--fill-color);\n",
              "      border-bottom-color: var(--fill-color);\n",
              "    }\n",
              "    90% {\n",
              "      border-color: transparent;\n",
              "      border-bottom-color: var(--fill-color);\n",
              "    }\n",
              "  }\n",
              "</style>\n",
              "\n",
              "      <script>\n",
              "        async function quickchart(key) {\n",
              "          const quickchartButtonEl =\n",
              "            document.querySelector('#' + key + ' button');\n",
              "          quickchartButtonEl.disabled = true;  // To prevent multiple clicks.\n",
              "          quickchartButtonEl.classList.add('colab-df-spinner');\n",
              "          try {\n",
              "            const charts = await google.colab.kernel.invokeFunction(\n",
              "                'suggestCharts', [key], {});\n",
              "          } catch (error) {\n",
              "            console.error('Error during call to suggestCharts:', error);\n",
              "          }\n",
              "          quickchartButtonEl.classList.remove('colab-df-spinner');\n",
              "          quickchartButtonEl.classList.add('colab-df-quickchart-complete');\n",
              "        }\n",
              "        (() => {\n",
              "          let quickchartButtonEl =\n",
              "            document.querySelector('#df-fd886d45-b1ba-4e58-b0fd-76d587d8a4ea button');\n",
              "          quickchartButtonEl.style.display =\n",
              "            google.colab.kernel.accessAllowed ? 'block' : 'none';\n",
              "        })();\n",
              "      </script>\n",
              "    </div>\n",
              "\n",
              "    </div>\n",
              "  </div>\n"
            ],
            "application/vnd.google.colaboratory.intrinsic+json": {
              "type": "dataframe",
              "summary": "{\n  \"name\": \"df\",\n  \"rows\": 4,\n  \"fields\": [\n    {\n      \"column\": \"Age\",\n      \"properties\": {\n        \"dtype\": \"string\",\n        \"num_unique_values\": 4,\n        \"samples\": [\n          1394,\n          \"124\",\n          \"2097\"\n        ],\n        \"semantic_type\": \"\",\n        \"description\": \"\"\n      }\n    },\n    {\n      \"column\": \"Gender\",\n      \"properties\": {\n        \"dtype\": \"string\",\n        \"num_unique_values\": 4,\n        \"samples\": [\n          3,\n          \"1056\",\n          \"2102\"\n        ],\n        \"semantic_type\": \"\",\n        \"description\": \"\"\n      }\n    },\n    {\n      \"column\": \"Height\",\n      \"properties\": {\n        \"dtype\": \"string\",\n        \"num_unique_values\": 4,\n        \"samples\": [\n          1562,\n          \"58\",\n          \"2099\"\n        ],\n        \"semantic_type\": \"\",\n        \"description\": \"\"\n      }\n    },\n    {\n      \"column\": \"Weight\",\n      \"properties\": {\n        \"dtype\": \"string\",\n        \"num_unique_values\": 4,\n        \"samples\": [\n          1518,\n          \"58\",\n          \"2100\"\n        ],\n        \"semantic_type\": \"\",\n        \"description\": \"\"\n      }\n    },\n    {\n      \"column\": \"CALC\",\n      \"properties\": {\n        \"dtype\": \"string\",\n        \"num_unique_values\": 4,\n        \"samples\": [\n          5,\n          \"1386\",\n          \"2106\"\n        ],\n        \"semantic_type\": \"\",\n        \"description\": \"\"\n      }\n    },\n    {\n      \"column\": \"FAVC\",\n      \"properties\": {\n        \"dtype\": \"string\",\n        \"num_unique_values\": 4,\n        \"samples\": [\n          3,\n          \"1844\",\n          \"2100\"\n        ],\n        \"semantic_type\": \"\",\n        \"description\": \"\"\n      }\n    },\n    {\n      \"column\": \"FCVC\",\n      \"properties\": {\n        \"dtype\": \"string\",\n        \"num_unique_values\": 4,\n        \"samples\": [\n          808,\n          \"647\",\n          \"2103\"\n        ],\n        \"semantic_type\": \"\",\n        \"description\": \"\"\n      }\n    },\n    {\n      \"column\": \"NCP\",\n      \"properties\": {\n        \"dtype\": \"string\",\n        \"num_unique_values\": 4,\n        \"samples\": [\n          637,\n          \"1183\",\n          \"2099\"\n        ],\n        \"semantic_type\": \"\",\n        \"description\": \"\"\n      }\n    },\n    {\n      \"column\": \"SCC\",\n      \"properties\": {\n        \"dtype\": \"string\",\n        \"num_unique_values\": 4,\n        \"samples\": [\n          3,\n          \"1997\",\n          \"2101\"\n        ],\n        \"semantic_type\": \"\",\n        \"description\": \"\"\n      }\n    },\n    {\n      \"column\": \"SMOKE\",\n      \"properties\": {\n        \"dtype\": \"string\",\n        \"num_unique_values\": 4,\n        \"samples\": [\n          3,\n          \"2054\",\n          \"2106\"\n        ],\n        \"semantic_type\": \"\",\n        \"description\": \"\"\n      }\n    },\n    {\n      \"column\": \"CH2O\",\n      \"properties\": {\n        \"dtype\": \"string\",\n        \"num_unique_values\": 4,\n        \"samples\": [\n          1263,\n          \"441\",\n          \"2105\"\n        ],\n        \"semantic_type\": \"\",\n        \"description\": \"\"\n      }\n    },\n    {\n      \"column\": \"family_history_with_overweight\",\n      \"properties\": {\n        \"dtype\": \"string\",\n        \"num_unique_values\": 4,\n        \"samples\": [\n          3,\n          \"1705\",\n          \"2098\"\n        ],\n        \"semantic_type\": \"\",\n        \"description\": \"\"\n      }\n    },\n    {\n      \"column\": \"FAF\",\n      \"properties\": {\n        \"dtype\": \"string\",\n        \"num_unique_values\": 4,\n        \"samples\": [\n          1186,\n          \"404\",\n          \"2103\"\n        ],\n        \"semantic_type\": \"\",\n        \"description\": \"\"\n      }\n    },\n    {\n      \"column\": \"TUE\",\n      \"properties\": {\n        \"dtype\": \"string\",\n        \"num_unique_values\": 4,\n        \"samples\": [\n          1130,\n          \"552\",\n          \"2102\"\n        ],\n        \"semantic_type\": \"\",\n        \"description\": \"\"\n      }\n    },\n    {\n      \"column\": \"CAEC\",\n      \"properties\": {\n        \"dtype\": \"string\",\n        \"num_unique_values\": 4,\n        \"samples\": [\n          5,\n          \"1747\",\n          \"2100\"\n        ],\n        \"semantic_type\": \"\",\n        \"description\": \"\"\n      }\n    },\n    {\n      \"column\": \"MTRANS\",\n      \"properties\": {\n        \"dtype\": \"string\",\n        \"num_unique_values\": 4,\n        \"samples\": [\n          6,\n          \"1572\",\n          \"2105\"\n        ],\n        \"semantic_type\": \"\",\n        \"description\": \"\"\n      }\n    },\n    {\n      \"column\": \"NObeyesdad\",\n      \"properties\": {\n        \"dtype\": \"string\",\n        \"num_unique_values\": 4,\n        \"samples\": [\n          7,\n          \"351\",\n          \"2111\"\n        ],\n        \"semantic_type\": \"\",\n        \"description\": \"\"\n      }\n    }\n  ]\n}"
            }
          },
          "metadata": {},
          "execution_count": 171
        }
      ]
    },
    {
      "cell_type": "markdown",
      "source": [
        "**Tujuan :**\n",
        "\n",
        "* Melihat distribusi nilai pada setiap kolom numerik.\n",
        "\n",
        "* Menemukan kemungkinan data ekstrem (outlier) atau nilai yang tidak masuk akal.\n",
        "\n",
        "* Menjadi acuan awal dalam memahami sebaran data yang ada."
      ],
      "metadata": {
        "id": "DPzeIT2Up6TA"
      }
    },
    {
      "cell_type": "markdown",
      "source": [
        "### **Pengecekan Data yang Tidak Konsisten**\n",
        "\n",
        "---\n",
        "\n"
      ],
      "metadata": {
        "id": "KB2gXh-0dcJD"
      }
    },
    {
      "cell_type": "markdown",
      "source": [
        "Dataset sering kali mengandung data yang tidak lengkap (`missing values`), tidak konsisten, atau salah format. Bagian ini bertujuan untuk :\n",
        "\n",
        "* Mengidentifikasi data yang hilang atau tidak sesuai,\n",
        "\n",
        "* Melakukan perbaikan agar data siap dianalisis."
      ],
      "metadata": {
        "id": "ckM3zPzJqWJo"
      }
    },
    {
      "cell_type": "markdown",
      "source": [
        "#### **Cek Jumlah Missing Values di Setiap Kolom**\n",
        "\n",
        "---\n",
        "\n"
      ],
      "metadata": {
        "id": "0Pmdn8eFdUK4"
      }
    },
    {
      "cell_type": "markdown",
      "source": [
        "Fungsi ini digunakan untuk **menghitung jumlah nilai kosong (`NaN`)** di setiap kolom dataset. Missing values dapat mengganggu proses analisis atau model machine learning, sehingga perlu dideteksi dan ditangani."
      ],
      "metadata": {
        "id": "UciAY7mPqgcj"
      }
    },
    {
      "cell_type": "code",
      "source": [
        "# Cek jumlah missing values di setiap kolom\n",
        "df.isnull().sum()"
      ],
      "metadata": {
        "colab": {
          "base_uri": "https://localhost:8080/",
          "height": 617
        },
        "id": "uFYqmixC7sZs",
        "outputId": "bd1964a8-f951-4bd5-879f-73b59abe167a"
      },
      "execution_count": 172,
      "outputs": [
        {
          "output_type": "execute_result",
          "data": {
            "text/plain": [
              "Age                               14\n",
              "Gender                             9\n",
              "Height                            12\n",
              "Weight                            11\n",
              "CALC                               5\n",
              "FAVC                              11\n",
              "FCVC                               8\n",
              "NCP                               12\n",
              "SCC                               10\n",
              "SMOKE                              5\n",
              "CH2O                               6\n",
              "family_history_with_overweight    13\n",
              "FAF                                8\n",
              "TUE                                9\n",
              "CAEC                              11\n",
              "MTRANS                             6\n",
              "NObeyesdad                         0\n",
              "dtype: int64"
            ],
            "text/html": [
              "<div>\n",
              "<style scoped>\n",
              "    .dataframe tbody tr th:only-of-type {\n",
              "        vertical-align: middle;\n",
              "    }\n",
              "\n",
              "    .dataframe tbody tr th {\n",
              "        vertical-align: top;\n",
              "    }\n",
              "\n",
              "    .dataframe thead th {\n",
              "        text-align: right;\n",
              "    }\n",
              "</style>\n",
              "<table border=\"1\" class=\"dataframe\">\n",
              "  <thead>\n",
              "    <tr style=\"text-align: right;\">\n",
              "      <th></th>\n",
              "      <th>0</th>\n",
              "    </tr>\n",
              "  </thead>\n",
              "  <tbody>\n",
              "    <tr>\n",
              "      <th>Age</th>\n",
              "      <td>14</td>\n",
              "    </tr>\n",
              "    <tr>\n",
              "      <th>Gender</th>\n",
              "      <td>9</td>\n",
              "    </tr>\n",
              "    <tr>\n",
              "      <th>Height</th>\n",
              "      <td>12</td>\n",
              "    </tr>\n",
              "    <tr>\n",
              "      <th>Weight</th>\n",
              "      <td>11</td>\n",
              "    </tr>\n",
              "    <tr>\n",
              "      <th>CALC</th>\n",
              "      <td>5</td>\n",
              "    </tr>\n",
              "    <tr>\n",
              "      <th>FAVC</th>\n",
              "      <td>11</td>\n",
              "    </tr>\n",
              "    <tr>\n",
              "      <th>FCVC</th>\n",
              "      <td>8</td>\n",
              "    </tr>\n",
              "    <tr>\n",
              "      <th>NCP</th>\n",
              "      <td>12</td>\n",
              "    </tr>\n",
              "    <tr>\n",
              "      <th>SCC</th>\n",
              "      <td>10</td>\n",
              "    </tr>\n",
              "    <tr>\n",
              "      <th>SMOKE</th>\n",
              "      <td>5</td>\n",
              "    </tr>\n",
              "    <tr>\n",
              "      <th>CH2O</th>\n",
              "      <td>6</td>\n",
              "    </tr>\n",
              "    <tr>\n",
              "      <th>family_history_with_overweight</th>\n",
              "      <td>13</td>\n",
              "    </tr>\n",
              "    <tr>\n",
              "      <th>FAF</th>\n",
              "      <td>8</td>\n",
              "    </tr>\n",
              "    <tr>\n",
              "      <th>TUE</th>\n",
              "      <td>9</td>\n",
              "    </tr>\n",
              "    <tr>\n",
              "      <th>CAEC</th>\n",
              "      <td>11</td>\n",
              "    </tr>\n",
              "    <tr>\n",
              "      <th>MTRANS</th>\n",
              "      <td>6</td>\n",
              "    </tr>\n",
              "    <tr>\n",
              "      <th>NObeyesdad</th>\n",
              "      <td>0</td>\n",
              "    </tr>\n",
              "  </tbody>\n",
              "</table>\n",
              "</div><br><label><b>dtype:</b> int64</label>"
            ]
          },
          "metadata": {},
          "execution_count": 172
        }
      ]
    },
    {
      "cell_type": "markdown",
      "source": [
        "#### **Mencari Duplikat Data**\n",
        "\n",
        "---\n",
        "\n"
      ],
      "metadata": {
        "id": "F6_457S5960M"
      }
    },
    {
      "cell_type": "code",
      "source": [
        "# Mengecek jumlah baris yang terduplikasi\n",
        "df.duplicated().sum()"
      ],
      "metadata": {
        "colab": {
          "base_uri": "https://localhost:8080/"
        },
        "id": "JhefiqGP-rum",
        "outputId": "4562756d-1f1c-45b2-cc36-2a85d173386e"
      },
      "execution_count": 173,
      "outputs": [
        {
          "output_type": "execute_result",
          "data": {
            "text/plain": [
              "np.int64(18)"
            ]
          },
          "metadata": {},
          "execution_count": 173
        }
      ]
    },
    {
      "cell_type": "markdown",
      "source": [
        "* `df.duplicated()` akan menghasilkan boolean series (True/False) untuk setiap baris, menandakan apakah baris tersebut adalah duplikat.\n",
        "\n",
        "* `.sum()` akan menjumlahkan nilai True yang dianggap sebagai 1, sehingga kamu akan mendapat jumlah total baris duplikat dalam dataframe."
      ],
      "metadata": {
        "id": "UI1lVrOo-yVb"
      }
    },
    {
      "cell_type": "markdown",
      "source": [
        "####**Menampilkan jumlah nilai unik**\n",
        "\n",
        "---\n",
        "\n"
      ],
      "metadata": {
        "id": "X0tpUPR_jH6-"
      }
    },
    {
      "cell_type": "markdown",
      "source": [
        "Digunakan untuk **melihat berapa banyak nilai unik yang dimiliki oleh setiap kolom bertipe kategorikal** (`object`). Digunakan untuk :\n",
        "\n",
        "* Mengetahui keragaman data kategorikal,\n",
        "\n",
        "* Mendeteksi kolom yang mungkin memiliki nilai aneh atau duplikat penulisan (seperti `Yes`, `yes`, `YES` dianggap berbeda)."
      ],
      "metadata": {
        "id": "DK1ayDaYr5rU"
      }
    },
    {
      "cell_type": "code",
      "source": [
        "# Menampilkan jumlah nilai unik dari kolom bertipe kategorikal\n",
        "df.select_dtypes(include='object').nunique()"
      ],
      "metadata": {
        "colab": {
          "base_uri": "https://localhost:8080/",
          "height": 617
        },
        "id": "zbz83voy8cQm",
        "outputId": "630d427a-6c6c-4925-f330-db51f09dfe31"
      },
      "execution_count": 174,
      "outputs": [
        {
          "output_type": "execute_result",
          "data": {
            "text/plain": [
              "Age                               1394\n",
              "Gender                               3\n",
              "Height                            1562\n",
              "Weight                            1518\n",
              "CALC                                 5\n",
              "FAVC                                 3\n",
              "FCVC                               808\n",
              "NCP                                637\n",
              "SCC                                  3\n",
              "SMOKE                                3\n",
              "CH2O                              1263\n",
              "family_history_with_overweight       3\n",
              "FAF                               1186\n",
              "TUE                               1130\n",
              "CAEC                                 5\n",
              "MTRANS                               6\n",
              "NObeyesdad                           7\n",
              "dtype: int64"
            ],
            "text/html": [
              "<div>\n",
              "<style scoped>\n",
              "    .dataframe tbody tr th:only-of-type {\n",
              "        vertical-align: middle;\n",
              "    }\n",
              "\n",
              "    .dataframe tbody tr th {\n",
              "        vertical-align: top;\n",
              "    }\n",
              "\n",
              "    .dataframe thead th {\n",
              "        text-align: right;\n",
              "    }\n",
              "</style>\n",
              "<table border=\"1\" class=\"dataframe\">\n",
              "  <thead>\n",
              "    <tr style=\"text-align: right;\">\n",
              "      <th></th>\n",
              "      <th>0</th>\n",
              "    </tr>\n",
              "  </thead>\n",
              "  <tbody>\n",
              "    <tr>\n",
              "      <th>Age</th>\n",
              "      <td>1394</td>\n",
              "    </tr>\n",
              "    <tr>\n",
              "      <th>Gender</th>\n",
              "      <td>3</td>\n",
              "    </tr>\n",
              "    <tr>\n",
              "      <th>Height</th>\n",
              "      <td>1562</td>\n",
              "    </tr>\n",
              "    <tr>\n",
              "      <th>Weight</th>\n",
              "      <td>1518</td>\n",
              "    </tr>\n",
              "    <tr>\n",
              "      <th>CALC</th>\n",
              "      <td>5</td>\n",
              "    </tr>\n",
              "    <tr>\n",
              "      <th>FAVC</th>\n",
              "      <td>3</td>\n",
              "    </tr>\n",
              "    <tr>\n",
              "      <th>FCVC</th>\n",
              "      <td>808</td>\n",
              "    </tr>\n",
              "    <tr>\n",
              "      <th>NCP</th>\n",
              "      <td>637</td>\n",
              "    </tr>\n",
              "    <tr>\n",
              "      <th>SCC</th>\n",
              "      <td>3</td>\n",
              "    </tr>\n",
              "    <tr>\n",
              "      <th>SMOKE</th>\n",
              "      <td>3</td>\n",
              "    </tr>\n",
              "    <tr>\n",
              "      <th>CH2O</th>\n",
              "      <td>1263</td>\n",
              "    </tr>\n",
              "    <tr>\n",
              "      <th>family_history_with_overweight</th>\n",
              "      <td>3</td>\n",
              "    </tr>\n",
              "    <tr>\n",
              "      <th>FAF</th>\n",
              "      <td>1186</td>\n",
              "    </tr>\n",
              "    <tr>\n",
              "      <th>TUE</th>\n",
              "      <td>1130</td>\n",
              "    </tr>\n",
              "    <tr>\n",
              "      <th>CAEC</th>\n",
              "      <td>5</td>\n",
              "    </tr>\n",
              "    <tr>\n",
              "      <th>MTRANS</th>\n",
              "      <td>6</td>\n",
              "    </tr>\n",
              "    <tr>\n",
              "      <th>NObeyesdad</th>\n",
              "      <td>7</td>\n",
              "    </tr>\n",
              "  </tbody>\n",
              "</table>\n",
              "</div><br><label><b>dtype:</b> int64</label>"
            ]
          },
          "metadata": {},
          "execution_count": 174
        }
      ]
    },
    {
      "cell_type": "markdown",
      "source": [
        "#### **Cek Keseimbangan Data**"
      ],
      "metadata": {
        "id": "6_x20Uem3wyU"
      }
    },
    {
      "cell_type": "code",
      "source": [
        "# Hitung jumlah tiap kelas obesitas\n",
        "class_counts = df['NObeyesdad'].value_counts()\n",
        "print(\"Jumlah data per kelas:\")\n",
        "print(class_counts)"
      ],
      "metadata": {
        "id": "JtyLa1wS345q",
        "outputId": "7b715b9d-54b4-4164-8692-97f350c979d1",
        "colab": {
          "base_uri": "https://localhost:8080/"
        }
      },
      "execution_count": 175,
      "outputs": [
        {
          "output_type": "stream",
          "name": "stdout",
          "text": [
            "Jumlah data per kelas:\n",
            "NObeyesdad\n",
            "Obesity_Type_I         351\n",
            "Obesity_Type_III       324\n",
            "Obesity_Type_II        297\n",
            "Overweight_Level_I     290\n",
            "Overweight_Level_II    290\n",
            "Normal_Weight          287\n",
            "Insufficient_Weight    272\n",
            "Name: count, dtype: int64\n"
          ]
        }
      ]
    },
    {
      "cell_type": "markdown",
      "source": [
        "### **Visualisasi Data**\n",
        "\n",
        "---\n",
        "\n"
      ],
      "metadata": {
        "id": "RDc8iY6M0Zoo"
      }
    },
    {
      "cell_type": "markdown",
      "source": [
        "Dalam proses **Exploratory Data Analysis (EDA)**, visualisasi data sangat penting untuk memahami pola, tren, dan anomali dalam dataset secara intuitif."
      ],
      "metadata": {
        "id": "VIgpKj8Y1ZNt"
      }
    },
    {
      "cell_type": "markdown",
      "source": [
        "#### **Visualisasi Distribusi Kelas Sebelum SMOTE**\n",
        "\n",
        "---\n",
        "\n"
      ],
      "metadata": {
        "id": "ZQ7MgKQfkTeV"
      }
    },
    {
      "cell_type": "markdown",
      "source": [
        "**Countplot** digunakan untuk menghitung dan memvisualisasikan jumlah kemunculan dari setiap kelas pada label target seperti NObeyesdad, yang merepresentasikan kategori obesitas (misalnya: `Insufficient_Weight`, `Normal_Weight`, `Obesity_Type_I`, dan lainnya). Dengan countplot, kita dapat **melihat distribusi data antar kelas dan mengevaluasi apakah dataset tersebut seimbang** (jumlah data di tiap kelas relatif sama) **atau tidak seimbang** (salah satu kelas mendominasi). Informasi ini sangat penting terutama dalam konteks pemodelan machine learning, karena ketidakseimbangan kelas dapat memengaruhi performa model dan membuat prediksi cenderung bias terhadap kelas mayoritas."
      ],
      "metadata": {
        "id": "pxGaf8p1vtFu"
      }
    },
    {
      "cell_type": "code",
      "source": [
        "# Distribusi Kelas Obesitas\n",
        "sns.countplot(x='NObeyesdad', hue='NObeyesdad', data=df, palette='Set2', legend=False)\n",
        "plt.xticks(rotation=45)\n",
        "plt.title(\"Distribusi Kelas Obesitas\")\n",
        "plt.xlabel(\"Kategori\")\n",
        "plt.ylabel(\"Jumlah\")\n",
        "plt.tight_layout()\n",
        "plt.show()"
      ],
      "metadata": {
        "colab": {
          "base_uri": "https://localhost:8080/",
          "height": 487
        },
        "id": "bjbyttqe_Im8",
        "outputId": "17d7b2dc-c4d0-4b83-9c94-c406c02a1cf9"
      },
      "execution_count": 176,
      "outputs": [
        {
          "output_type": "display_data",
          "data": {
            "text/plain": [
              "<Figure size 640x480 with 1 Axes>"
            ],
            "image/png": "[encoded data removed]"
          },
          "metadata": {}
        }
      ]
    },
    {
      "cell_type": "markdown",
      "source": [
        "**Interpretasi :**\n",
        "* Kategori dengan **jumlah terbanyak** : `Obesity_Type_I` (~350 individu)\n",
        "\n",
        "* Kategori dengan **jumlah terendah** : `Insufficient_Weight` (~275 individu)\n",
        "\n",
        "* Kategori lain seperti `Normal_Weight`, `Overweight_Level_I`, dan `Overweight_Level_II` memiliki jumlah yang hampir sama (sekitar 290-an).\n",
        "\n",
        "* Terdapat tren bahwa kategori obesitas (Type I, II, III) memiliki jumlah yang relatif tinggi, mengindikasikan prevalensi obesitas cukup besar dalam dataset ini.\n",
        "\n",
        "Jadi,\n",
        "* Jumlah orang **terbanyak ada di kategori Obesity Type I**\n",
        "Artinya, banyak orang dalam data ini mengalami obesitas tipe I.\n",
        "\n",
        "* Jumlah **paling sedikit ada di kategori Insufficient Weight** (berat badan kurang)\n",
        "Jadi, tidak banyak orang yang kekurangan berat badan.\n",
        "\n",
        "* Kategori Normal Weight (berat badan normal) tidak paling banyak\n",
        "Ini mengindikasikan bahwa **lebih banyak orang yang kelebihan berat atau obesitas dibanding yang berat badannya normal**."
      ],
      "metadata": {
        "id": "VA5NWB-Mv4V3"
      }
    },
    {
      "cell_type": "markdown",
      "source": [
        "### **Deteksi Outliers**"
      ],
      "metadata": {
        "id": "dejZ6CNr_S97"
      }
    },
    {
      "cell_type": "markdown",
      "source": [
        "#### **Visualisasi Menggunakan Boxplot**\n",
        "\n",
        "---\n",
        "\n"
      ],
      "metadata": {
        "id": "-rMqSN3Ijclv"
      }
    },
    {
      "cell_type": "markdown",
      "source": [
        "**Boxplot** digunakan untuk melihat distribusi data numerik dan mengidentifikasi keberadaan **outliers**. Dengan visualisasi ini, kita bisa lebih mudah memahami sebaran data dan menentukan apakah outliers perlu ditangani atau tidak."
      ],
      "metadata": {
        "id": "jd_TYv4ps0xA"
      }
    },
    {
      "source": [
        "print(\"\\n[INFO] Mendeteksi Outliers\")\n",
        "\n",
        "# Define num_cols to contain the names of numerical columns\n",
        "num_cols = df.select_dtypes(include=np.number).columns\n",
        "\n",
        "for col in num_cols:\n",
        "    Q1 = df[col].quantile(0.25)\n",
        "    Q3 = df[col].quantile(0.75)\n",
        "    IQR = Q3 - Q1\n",
        "    lower_bound = Q1 - 1.5 * IQR\n",
        "    upper_bound = Q3 + 1.5 * IQR\n",
        "    outliers = df[(df[col] < lower_bound) | (df[col] > upper_bound)][col]"
      ],
      "cell_type": "code",
      "metadata": {
        "id": "zdj8VW7R-9QR",
        "outputId": "4e6891b1-5d12-4e9c-99a4-062304311e61",
        "colab": {
          "base_uri": "https://localhost:8080/"
        }
      },
      "execution_count": 177,
      "outputs": [
        {
          "output_type": "stream",
          "name": "stdout",
          "text": [
            "\n",
            "[INFO] Mendeteksi Outliers\n"
          ]
        }
      ]
    },
    {
      "cell_type": "code",
      "source": [
        "# Visualisasi dengan Boxplot sebelum Outlier diganti\n",
        "for col in num_cols:\n",
        "    plt.figure(figsize=(8, 6))\n",
        "    sns.boxplot(x=df[col])\n",
        "    plt.title(f'Boxplot of {col}')\n",
        "    plt.show()"
      ],
      "metadata": {
        "id": "RNx18E5d_AHE"
      },
      "execution_count": 193,
      "outputs": []
    },
    {
      "cell_type": "markdown",
      "source": [
        "> Berdasarkan hasil **eksplorasi data (EDA)**, dapat disimpulkan bahwa data usia, berat badan, dan tinggi badan memiliki distribusi yang tidak normal dan cenderung skewed, dengan sejumlah outlier yang perlu diperhatikan. Dataset menunjukkan ketidakseimbangan kelas pada label `NObeyesdad`, di mana beberapa kategori obesitas mendominasi. Visualisasi scatter plot mengindikasikan adanya pola pemisahan antar kelas obesitas, khususnya pada kombinasi fitur berat badan dan tinggi badan yang berkaitan erat dengan BMI. Insight ini menunjukkan bahwa fitur-fitur numerik seperti berat, tinggi, dan usia sangat berpengaruh dalam membedakan kelas obesitas, serta perlu penanganan khusus pada outlier dan ketidakseimbangan data sebelum dilakukan modeling lebih lanjut."
      ],
      "metadata": {
        "id": "U5k0tqfJ_9rt"
      }
    },
    {
      "cell_type": "markdown",
      "source": [
        "## **DATA PREPROCESSING**"
      ],
      "metadata": {
        "id": "2dou6VSH6FnQ"
      }
    },
    {
      "cell_type": "markdown",
      "source": [
        "#### **Mengganti Tanda `'?'` dengan `NaN`**\n",
        "\n",
        "---\n",
        "\n"
      ],
      "metadata": {
        "id": "_gJq8tu5fZII"
      }
    },
    {
      "cell_type": "markdown",
      "source": [
        "Beberapa dataset menandai nilai kosong atau tidak diketahui dengan simbol `'?'`, bukan `NaN`. Karena Python mengenali NaN sebagai `missing value`, kita perlu mengganti tanda `'?'` menjadi `np.nan`. **Tujuannya**, agar Python dan library analisis bisa mengenali nilai kosong secara standar."
      ],
      "metadata": {
        "id": "PAHlzTZjqtQI"
      }
    },
    {
      "cell_type": "code",
      "source": [
        "# Mengganti tanda '?' dengan NaN\n",
        "df.replace('?', np.nan, inplace=True)"
      ],
      "metadata": {
        "id": "TJOxZL5p-USk"
      },
      "execution_count": 179,
      "outputs": []
    },
    {
      "cell_type": "markdown",
      "source": [
        "#### **Konversi Kolom ke Tipe Numerik**"
      ],
      "metadata": {
        "id": "yePYTmTQfpTW"
      }
    },
    {
      "cell_type": "markdown",
      "source": [
        "Terkadang kolom yang seharusnya bertipe angka (numerik) malah dibaca sebagai object (`string`) karena mengandung karakter non-numerik seperti `'?'`. Fungsi `pd.to_numeric`(`..., errors='coerce'`) mengubah kolom menjadi numerik, dan jika ada data yang tidak bisa dikonversi, akan otomatis dijadikan `NaN`.**Tujuannya** untuk membersihkan data numerik dari nilai tidak valid."
      ],
      "metadata": {
        "id": "FH7SwoomrDXu"
      }
    },
    {
      "cell_type": "code",
      "source": [
        "# Konversi kolom ke tipe numerik jika perlu (gunakan coerce agar string jadi NaN)\n",
        "df['Age'] = pd.to_numeric(df['Age'], errors='coerce')\n",
        "df['Weight'] = pd.to_numeric(df['Weight'], errors='coerce')\n",
        "df['Height'] = pd.to_numeric(df['Height'], errors='coerce')"
      ],
      "metadata": {
        "id": "ncOhmYXl-emD"
      },
      "execution_count": 180,
      "outputs": []
    },
    {
      "cell_type": "markdown",
      "source": [
        "#### **Cek kembali Missing Value**\n",
        "\n",
        "---\n"
      ],
      "metadata": {
        "id": "0wgVbqx6f3YL"
      }
    },
    {
      "cell_type": "markdown",
      "source": [
        "Setelah konversi dan penggantian tanda `'?'`, kita perlu mengecek kembali apakah jumlah `missing values` bertambah atau sudah sesuai harapan. **Tujuannya** untuk memastikan pembersihan data berhasil."
      ],
      "metadata": {
        "id": "S7RSNiAzrWaf"
      }
    },
    {
      "cell_type": "code",
      "source": [
        "# Cek ulang missing value\n",
        "df.isnull().sum()"
      ],
      "metadata": {
        "colab": {
          "base_uri": "https://localhost:8080/",
          "height": 617
        },
        "id": "fzw0f18h-nHN",
        "outputId": "516e66c6-9aab-4940-dd9f-1443cc998bc4"
      },
      "execution_count": 181,
      "outputs": [
        {
          "output_type": "execute_result",
          "data": {
            "text/plain": [
              "Age                               22\n",
              "Gender                            22\n",
              "Height                            22\n",
              "Weight                            19\n",
              "CALC                              20\n",
              "FAVC                              22\n",
              "FCVC                              18\n",
              "NCP                               22\n",
              "SCC                               18\n",
              "SMOKE                             13\n",
              "CH2O                              15\n",
              "family_history_with_overweight    23\n",
              "FAF                               19\n",
              "TUE                               15\n",
              "CAEC                              18\n",
              "MTRANS                            12\n",
              "NObeyesdad                         0\n",
              "dtype: int64"
            ],
            "text/html": [
              "<div>\n",
              "<style scoped>\n",
              "    .dataframe tbody tr th:only-of-type {\n",
              "        vertical-align: middle;\n",
              "    }\n",
              "\n",
              "    .dataframe tbody tr th {\n",
              "        vertical-align: top;\n",
              "    }\n",
              "\n",
              "    .dataframe thead th {\n",
              "        text-align: right;\n",
              "    }\n",
              "</style>\n",
              "<table border=\"1\" class=\"dataframe\">\n",
              "  <thead>\n",
              "    <tr style=\"text-align: right;\">\n",
              "      <th></th>\n",
              "      <th>0</th>\n",
              "    </tr>\n",
              "  </thead>\n",
              "  <tbody>\n",
              "    <tr>\n",
              "      <th>Age</th>\n",
              "      <td>22</td>\n",
              "    </tr>\n",
              "    <tr>\n",
              "      <th>Gender</th>\n",
              "      <td>22</td>\n",
              "    </tr>\n",
              "    <tr>\n",
              "      <th>Height</th>\n",
              "      <td>22</td>\n",
              "    </tr>\n",
              "    <tr>\n",
              "      <th>Weight</th>\n",
              "      <td>19</td>\n",
              "    </tr>\n",
              "    <tr>\n",
              "      <th>CALC</th>\n",
              "      <td>20</td>\n",
              "    </tr>\n",
              "    <tr>\n",
              "      <th>FAVC</th>\n",
              "      <td>22</td>\n",
              "    </tr>\n",
              "    <tr>\n",
              "      <th>FCVC</th>\n",
              "      <td>18</td>\n",
              "    </tr>\n",
              "    <tr>\n",
              "      <th>NCP</th>\n",
              "      <td>22</td>\n",
              "    </tr>\n",
              "    <tr>\n",
              "      <th>SCC</th>\n",
              "      <td>18</td>\n",
              "    </tr>\n",
              "    <tr>\n",
              "      <th>SMOKE</th>\n",
              "      <td>13</td>\n",
              "    </tr>\n",
              "    <tr>\n",
              "      <th>CH2O</th>\n",
              "      <td>15</td>\n",
              "    </tr>\n",
              "    <tr>\n",
              "      <th>family_history_with_overweight</th>\n",
              "      <td>23</td>\n",
              "    </tr>\n",
              "    <tr>\n",
              "      <th>FAF</th>\n",
              "      <td>19</td>\n",
              "    </tr>\n",
              "    <tr>\n",
              "      <th>TUE</th>\n",
              "      <td>15</td>\n",
              "    </tr>\n",
              "    <tr>\n",
              "      <th>CAEC</th>\n",
              "      <td>18</td>\n",
              "    </tr>\n",
              "    <tr>\n",
              "      <th>MTRANS</th>\n",
              "      <td>12</td>\n",
              "    </tr>\n",
              "    <tr>\n",
              "      <th>NObeyesdad</th>\n",
              "      <td>0</td>\n",
              "    </tr>\n",
              "  </tbody>\n",
              "</table>\n",
              "</div><br><label><b>dtype:</b> int64</label>"
            ]
          },
          "metadata": {},
          "execution_count": 181
        }
      ]
    },
    {
      "cell_type": "markdown",
      "source": [
        "#### **Cek kembali Tipe Data**\n",
        "\n",
        "---\n"
      ],
      "metadata": {
        "id": "PfndGvvciHmU"
      }
    },
    {
      "cell_type": "code",
      "source": [
        "# Cek ulang tipe data\n",
        "df.dtypes"
      ],
      "metadata": {
        "colab": {
          "base_uri": "https://localhost:8080/",
          "height": 617
        },
        "id": "bBVzs9Sl-cct",
        "outputId": "8db1cf04-b9b4-41ab-d250-c8b1330395df"
      },
      "execution_count": 182,
      "outputs": [
        {
          "output_type": "execute_result",
          "data": {
            "text/plain": [
              "Age                               float64\n",
              "Gender                             object\n",
              "Height                            float64\n",
              "Weight                            float64\n",
              "CALC                               object\n",
              "FAVC                               object\n",
              "FCVC                               object\n",
              "NCP                                object\n",
              "SCC                                object\n",
              "SMOKE                              object\n",
              "CH2O                               object\n",
              "family_history_with_overweight     object\n",
              "FAF                                object\n",
              "TUE                                object\n",
              "CAEC                               object\n",
              "MTRANS                             object\n",
              "NObeyesdad                         object\n",
              "dtype: object"
            ],
            "text/html": [
              "<div>\n",
              "<style scoped>\n",
              "    .dataframe tbody tr th:only-of-type {\n",
              "        vertical-align: middle;\n",
              "    }\n",
              "\n",
              "    .dataframe tbody tr th {\n",
              "        vertical-align: top;\n",
              "    }\n",
              "\n",
              "    .dataframe thead th {\n",
              "        text-align: right;\n",
              "    }\n",
              "</style>\n",
              "<table border=\"1\" class=\"dataframe\">\n",
              "  <thead>\n",
              "    <tr style=\"text-align: right;\">\n",
              "      <th></th>\n",
              "      <th>0</th>\n",
              "    </tr>\n",
              "  </thead>\n",
              "  <tbody>\n",
              "    <tr>\n",
              "      <th>Age</th>\n",
              "      <td>float64</td>\n",
              "    </tr>\n",
              "    <tr>\n",
              "      <th>Gender</th>\n",
              "      <td>object</td>\n",
              "    </tr>\n",
              "    <tr>\n",
              "      <th>Height</th>\n",
              "      <td>float64</td>\n",
              "    </tr>\n",
              "    <tr>\n",
              "      <th>Weight</th>\n",
              "      <td>float64</td>\n",
              "    </tr>\n",
              "    <tr>\n",
              "      <th>CALC</th>\n",
              "      <td>object</td>\n",
              "    </tr>\n",
              "    <tr>\n",
              "      <th>FAVC</th>\n",
              "      <td>object</td>\n",
              "    </tr>\n",
              "    <tr>\n",
              "      <th>FCVC</th>\n",
              "      <td>object</td>\n",
              "    </tr>\n",
              "    <tr>\n",
              "      <th>NCP</th>\n",
              "      <td>object</td>\n",
              "    </tr>\n",
              "    <tr>\n",
              "      <th>SCC</th>\n",
              "      <td>object</td>\n",
              "    </tr>\n",
              "    <tr>\n",
              "      <th>SMOKE</th>\n",
              "      <td>object</td>\n",
              "    </tr>\n",
              "    <tr>\n",
              "      <th>CH2O</th>\n",
              "      <td>object</td>\n",
              "    </tr>\n",
              "    <tr>\n",
              "      <th>family_history_with_overweight</th>\n",
              "      <td>object</td>\n",
              "    </tr>\n",
              "    <tr>\n",
              "      <th>FAF</th>\n",
              "      <td>object</td>\n",
              "    </tr>\n",
              "    <tr>\n",
              "      <th>TUE</th>\n",
              "      <td>object</td>\n",
              "    </tr>\n",
              "    <tr>\n",
              "      <th>CAEC</th>\n",
              "      <td>object</td>\n",
              "    </tr>\n",
              "    <tr>\n",
              "      <th>MTRANS</th>\n",
              "      <td>object</td>\n",
              "    </tr>\n",
              "    <tr>\n",
              "      <th>NObeyesdad</th>\n",
              "      <td>object</td>\n",
              "    </tr>\n",
              "  </tbody>\n",
              "</table>\n",
              "</div><br><label><b>dtype:</b> object</label>"
            ]
          },
          "metadata": {},
          "execution_count": 182
        }
      ]
    },
    {
      "cell_type": "markdown",
      "source": [
        "Digunakan untuk **melihat kembali tipe data setiap kolom setelah dilakukan pembersihan dan konversi**. Idealnya :\n",
        "\n",
        "* Kolom seperti `Age`, `Weight`, `Height` harus bertipe `int64` atau `float64`.\n",
        "\n",
        "* Kolom kategorikal tetap dalam `object` (`string`)."
      ],
      "metadata": {
        "id": "_WFlDTNerlgL"
      }
    },
    {
      "cell_type": "markdown",
      "source": [
        "#### **Menghapus Duplikat**\n",
        "\n",
        "---\n",
        "\n"
      ],
      "metadata": {
        "id": "4gf0a6fT-65p"
      }
    },
    {
      "cell_type": "code",
      "source": [
        "# Menghapus baris yang duplikat\n",
        "df = df.drop_duplicates()"
      ],
      "metadata": {
        "id": "2YI7r1rw_HI6"
      },
      "execution_count": 183,
      "outputs": []
    },
    {
      "cell_type": "markdown",
      "source": [
        "* `df.drop_duplicates()` menghapus semua baris yang terduplikasi dan hanya menyisakan baris pertama dari setiap duplikat.\n",
        "\n",
        "* Hasilnya disimpan kembali ke variabel `df`, sehingga dataframe sekarang sudah bersih dari duplikasi."
      ],
      "metadata": {
        "id": "5zqqV9PJ_JPK"
      }
    },
    {
      "cell_type": "markdown",
      "source": [
        "### **Menangani Outliers**"
      ],
      "metadata": {
        "id": "MDZ_kcqe_diO"
      }
    },
    {
      "cell_type": "markdown",
      "source": [
        "#### **Mengganti Outliers dengan Batas Bawah/Atas**"
      ],
      "metadata": {
        "id": "4onC4k3U_k3y"
      }
    },
    {
      "cell_type": "code",
      "source": [
        "for col in num_cols:\n",
        "    Q1 = df[col].quantile(0.25)\n",
        "    Q3 = df[col].quantile(0.75)\n",
        "    IQR = Q3 - Q1\n",
        "    lower_bound = Q1 - 1.5 * IQR\n",
        "    upper_bound = Q3 + 1.5 * IQR\n",
        "    df[col] = np.where(df[col] < lower_bound, lower_bound, df[col])\n",
        "    df[col] = np.where(df[col] > upper_bound, upper_bound, df[col])"
      ],
      "metadata": {
        "id": "bzYy2sG0_g22"
      },
      "execution_count": 184,
      "outputs": []
    },
    {
      "cell_type": "markdown",
      "source": [
        "#### **Visualisasi Setelah Mengganti Outliers**"
      ],
      "metadata": {
        "id": "8UiHFS85_rwy"
      }
    },
    {
      "cell_type": "code",
      "source": [
        "# Visualisasi dengan Boxplot setelah Outlier diganti\n",
        "for col in num_cols:\n",
        "    plt.figure(figsize=(8, 6))\n",
        "    sns.boxplot(x=df[col])\n",
        "    plt.title(f'Boxplot of {col} (Setelah Penanganan Outliers)')\n",
        "    plt.show()"
      ],
      "metadata": {
        "id": "BhAT0OGY_yRy"
      },
      "execution_count": 185,
      "outputs": []
    },
    {
      "cell_type": "markdown",
      "source": [
        "### **Transformasi Data**"
      ],
      "metadata": {
        "id": "7iM49ibr_9JE"
      }
    },
    {
      "cell_type": "markdown",
      "source": [
        "#### **Mengubah Data Kategori menjadi Numerik**"
      ],
      "metadata": {
        "id": "G1S2LVIP7t5N"
      }
    },
    {
      "cell_type": "code",
      "source": [
        "# Salin dataset agar tidak merusak df asli\n",
        "df_encoded = df.copy()\n",
        "\n",
        "# Encode semua kolom kategorikal\n",
        "from sklearn.preprocessing import LabelEncoder\n",
        "\n",
        "label_encoders = {}\n",
        "for col in df_encoded.select_dtypes(include='object').columns:\n",
        "    le = LabelEncoder()\n",
        "    df_encoded[col] = le.fit_transform(df_encoded[col])\n",
        "    label_encoders[col] = le"
      ],
      "metadata": {
        "id": "PuO15Mz-6Q4L"
      },
      "execution_count": 186,
      "outputs": []
    },
    {
      "cell_type": "markdown",
      "source": [
        "#### **Encoding dan Kategorikal**"
      ],
      "metadata": {
        "id": "X8xXha-gAObR"
      }
    },
    {
      "source": [
        "from sklearn.preprocessing import LabelEncoder\n",
        "\n",
        "# Define cat_cols by selecting columns with 'object' dtype from the DataFrame\n",
        "cat_cols = df.select_dtypes(include='object').columns\n",
        "\n",
        "label_enc = LabelEncoder()\n",
        "for col in cat_cols:\n",
        "    df[col] = label_enc.fit_transform(df[col])"
      ],
      "cell_type": "code",
      "metadata": {
        "id": "KBa1zfLvAaJY"
      },
      "execution_count": 188,
      "outputs": []
    },
    {
      "cell_type": "markdown",
      "source": [
        "#### **Melihat Korelasi (Numerik)**"
      ],
      "metadata": {
        "id": "-6UzZb6y8Xec"
      }
    },
    {
      "cell_type": "code",
      "source": [
        "plt.figure(figsize=(12, 10))\n",
        "sns.heatmap(df_encoded.corr(), annot=True, cmap='coolwarm')\n",
        "plt.title('Heatmap Korelasi Antar Fitur')\n",
        "plt.show()"
      ],
      "metadata": {
        "id": "ll9pvngI8UZd",
        "outputId": "e1ed5427-f430-4882-f024-3c1df6011865",
        "colab": {
          "base_uri": "https://localhost:8080/",
          "height": 814
        }
      },
      "execution_count": 189,
      "outputs": [
        {
          "output_type": "display_data",
          "data": {
            "text/plain": [
              "<Figure size 1200x1000 with 2 Axes>"
            ],
            "image/png": "[encoded data removed]"
          },
          "metadata": {}
        }
      ]
    },
    {
      "cell_type": "markdown",
      "source": [
        "#### **Menangani Ketidakseimbangan Data dengan SMOTE**"
      ],
      "metadata": {
        "id": "SWPNE_VrAvTi"
      }
    },
    {
      "source": [
        "from imblearn.over_sampling import SMOTE\n",
        "from sklearn.impute import SimpleImputer\n",
        "\n",
        "# Pisahkan fitur dan target\n",
        "X = df.drop(columns=['NObeyesdad'])\n",
        "y = df['NObeyesdad']\n",
        "\n",
        "# Inisialisasi imputer\n",
        "imputer = SimpleImputer(strategy='mean') # Ganti strategy sesuai kebutuhan (mean, median, most_frequent)\n",
        "\n",
        "# Aplikasikan imputer ke X\n",
        "X_imputed = imputer.fit_transform(X)\n",
        "\n",
        "smote = SMOTE()\n",
        "# Gunakan X_imputed yang sudah ditangani missing values-nya\n",
        "X_resampled, y_resampled = smote.fit_resample(X_imputed, y)\n",
        "\n",
        "print(\"Data berhasil di-resample menggunakan SMOTE.\")"
      ],
      "cell_type": "code",
      "metadata": {
        "id": "-PJNBTDdA_f3",
        "outputId": "a382be73-3cad-41cc-c6bd-75e4473e1556",
        "colab": {
          "base_uri": "https://localhost:8080/"
        }
      },
      "execution_count": 190,
      "outputs": [
        {
          "output_type": "stream",
          "name": "stdout",
          "text": [
            "Data berhasil di-resample menggunakan SMOTE.\n"
          ]
        }
      ]
    },
    {
      "cell_type": "markdown",
      "source": [
        "#### **Visualisasi Distribusi Kelas Setelah SMOTE**"
      ],
      "metadata": {
        "id": "vu0IeTD-BRjE"
      }
    },
    {
      "cell_type": "code",
      "source": [
        "sns.countplot(x=y_resampled, hue=y_resampled, palette='Set2', legend=False)\n",
        "plt.title(\"Distribusi Kelas Setelah SMOTE\")\n",
        "plt.xlabel(\"Kategori\")\n",
        "plt.ylabel(\"Jumlah\")\n",
        "plt.xticks(rotation=45)\n",
        "plt.tight_layout()\n",
        "plt.show()"
      ],
      "metadata": {
        "id": "Z7ClckSxBTaN",
        "outputId": "fce08995-ab97-4acb-9042-b3bd6997f6cc",
        "colab": {
          "base_uri": "https://localhost:8080/",
          "height": 487
        }
      },
      "execution_count": 191,
      "outputs": [
        {
          "output_type": "display_data",
          "data": {
            "text/plain": [
              "<Figure size 640x480 with 1 Axes>"
            ],
            "image/png": "[encoded data removed]"
          },
          "metadata": {}
        }
      ]
    }
  ]
}