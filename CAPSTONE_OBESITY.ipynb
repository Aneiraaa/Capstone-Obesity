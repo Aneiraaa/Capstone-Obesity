{
 "cells": [
  {
   "cell_type": "markdown",
   "id": "acbdd0e0",
   "metadata": {},
   "source": [
    "> Nama   : Aneira Vicentiya Kuncoro\n",
    "\n",
    "> NIM    : A11.2022.14226\n",
    "\n",
    "> Kelas  : Bengkel Koding - DS03"
   ]
  },
  {
   "cell_type": "markdown",
   "id": "b3e314b2",
   "metadata": {},
   "source": [
    "# **CAPSTONE PROJECT UAS BENGKEL KODING DATA SCIENCE**\n",
    "\n",
    "---\n",
    "\n"
   ]
  },
  {
   "cell_type": "markdown",
   "id": "96e3f119",
   "metadata": {},
   "source": [
    "## **Exploratory Data Analyst (EDA)**\n",
    "\n",
    "---\n",
    "\n"
   ]
  },
  {
   "cell_type": "markdown",
   "id": "7c577357",
   "metadata": {},
   "source": [
    "**Exploratory Data Analysis (EDA)** adalah pendekatan untuk menganalisis dan memvisualisasikan data guna memahami pola, hubungan, distribusi, dan anomali dalam dataset. EDA bertujuan untuk memberi wawasan awal sebelum melakukan analisis lebih lanjut atau pembangunan model."
   ]
  },
  {
   "cell_type": "markdown",
   "id": "1b411dd0",
   "metadata": {},
   "source": [
    "### **Persiapan Data**\n",
    "\n",
    "---\n",
    "\n"
   ]
  },
  {
   "cell_type": "markdown",
   "id": "c3cf5fc4",
   "metadata": {},
   "source": [
    "**Persiapan data** merupakan tahap awal dalam proses analisis data yang bertujuan untuk menyiapkan segala hal yang dibutuhkan sebelum dilakukan eksplorasi lebih lanjut. Pada tahap ini, dilakukan beberapa hal penting seperti mengimpor library (pustaka) yang diperlukan, memuat dataset ke dalam lingkungan kerja Python, dan melakukan pengecekan awal terhadap isi data."
   ]
  },
  {
   "cell_type": "markdown",
   "id": "0b1c170e",
   "metadata": {},
   "source": [
    "#### **Import Library**\n",
    "\n",
    "---\n",
    "\n"
   ]
  },
  {
   "cell_type": "markdown",
   "id": "52107a34",
   "metadata": {},
   "source": [
    "**Library** adalah sekumpulan fungsi, modul, atau paket yang sudah disediakan oleh Python untuk memudahkan proses pemrograman. Dalam konteks data science dan EDA, library digunakan untuk membaca, mengolah, menganalisis, dan memvisualisasikan data secara efisien."
   ]
  },
  {
   "cell_type": "code",
   "execution_count": 71,
   "id": "20b83bd6",
   "metadata": {},
   "outputs": [],
   "source": [
    "import pandas as pd\n",
    "import numpy as np\n",
    "import matplotlib.pyplot as plt\n",
    "import seaborn as sns\n",
    "import pickle\n",
    "from sklearn.model_selection import train_test_split\n",
    "from sklearn.impute import SimpleImputer\n",
    "from sklearn.preprocessing import StandardScaler\n",
    "from imblearn.over_sampling import SMOTE"
   ]
  },
  {
   "cell_type": "markdown",
   "id": "b78bc053",
   "metadata": {},
   "source": [
    "**Library yang digunakan :**\n",
    "\n",
    "* `pandas`: Untuk memanipulasi dan menganalisis data dalam bentuk tabel (`DataFrame`).\n",
    "\n",
    "* `numpy`: Untuk perhitungan numerik dan manipulasi `array`.\n",
    "\n",
    "* `matplotlib.pyplot`: Untuk membuat visualisasi data seperti grafik dan diagram.\n",
    "\n",
    "* `seaborn`: Untuk membuat visualisasi data yang lebih menarik dan statistik berbasis `matplotlib`.\n",
    "\n",
    "* `sklearn.model_selection.train_test_split`: Untuk membagi dataset menjadi data pelatihan dan data pengujian.\n",
    "\n",
    "* `sklearn.impute.SimpleImputer`: Untuk menangani data yang hilang (missing values) dengan cara mengisi secara otomatis (misalnya dengan rata-rata, median, atau modus).\n",
    "\n",
    "* `sklearn.preprocessing.StandardScaler`: Untuk menskalakan fitur numerik dan membantu meningkatkan performa algoritma machine learning.\n",
    "\n",
    "* `imblearn.over_sampling.SMOTE`: Untuk mengatasi ketidakseimbangan kelas dalam dataset.\n",
    "\n",
    "Dengan **mengimpor library**, kita dapat menggunakan berbagai fungsi canggih tanpa harus menulis ulang kodenya dari awal."
   ]
  },
  {
   "cell_type": "markdown",
   "id": "0d1dffa3",
   "metadata": {},
   "source": [
    "#### **Memuat dataset**\n",
    "\n",
    "---\n",
    "\n"
   ]
  },
  {
   "cell_type": "markdown",
   "id": "7eed33df",
   "metadata": {},
   "source": [
    "**Memuat dataset** adalah proses mengambil data dari sumber eksternal (seperti file `.csv`, `database`, atau `API`) ke dalam lingkungan kerja Python agar dapat diproses dan dianalisis."
   ]
  },
  {
   "cell_type": "code",
   "execution_count": 72,
   "id": "43ebb250",
   "metadata": {},
   "outputs": [],
   "source": [
    "# Load dataset\n",
    "import pandas as pd # Import the pandas library and assign it to the alias 'pd'\n",
    "df = pd.read_csv('ObesityDataSet.csv')"
   ]
  },
  {
   "cell_type": "markdown",
   "id": "dfcfadbc",
   "metadata": {},
   "source": [
    "**Cara yang saya gunakan :**\n",
    "\n",
    "* Dataset disimpan di Google Drive.\n",
    "\n",
    "* Google Colab digunakan, sehingga perlu mount Google Drive terlebih dahulu agar file bisa diakses.\n",
    "\n",
    "* Setelah itu, data dibaca menggunakan `pd.read_csv()` dan dimasukkan ke dalam sebuah objek `DataFrame` bernama `df`.\n",
    "\n",
    "**Dataset** yang dimuat adalah `ObesityDataSet.csv`, yaitu kumpulan data terkait kebiasaan hidup, antropometri, dan status obesitas individu."
   ]
  },
  {
   "cell_type": "markdown",
   "id": "f2c477f1",
   "metadata": {},
   "source": [
    "#### **Menampilkan 5 Baris Pertama Dataset**\n",
    "\n",
    "---\n",
    "\n"
   ]
  },
  {
   "cell_type": "markdown",
   "id": "0640038e",
   "metadata": {},
   "source": [
    "Menampilkan **5 baris pertama dataset** dengan `df.head()`"
   ]
  },
  {
   "cell_type": "code",
   "execution_count": 73,
   "id": "29c76948",
   "metadata": {},
   "outputs": [
    {
     "data": {
      "text/html": [
       "<div>\n",
       "<style scoped>\n",
       "    .dataframe tbody tr th:only-of-type {\n",
       "        vertical-align: middle;\n",
       "    }\n",
       "\n",
       "    .dataframe tbody tr th {\n",
       "        vertical-align: top;\n",
       "    }\n",
       "\n",
       "    .dataframe thead th {\n",
       "        text-align: right;\n",
       "    }\n",
       "</style>\n",
       "<table border=\"1\" class=\"dataframe\">\n",
       "  <thead>\n",
       "    <tr style=\"text-align: right;\">\n",
       "      <th></th>\n",
       "      <th>Age</th>\n",
       "      <th>Gender</th>\n",
       "      <th>Height</th>\n",
       "      <th>Weight</th>\n",
       "      <th>CALC</th>\n",
       "      <th>FAVC</th>\n",
       "      <th>FCVC</th>\n",
       "      <th>NCP</th>\n",
       "      <th>SCC</th>\n",
       "      <th>SMOKE</th>\n",
       "      <th>CH2O</th>\n",
       "      <th>family_history_with_overweight</th>\n",
       "      <th>FAF</th>\n",
       "      <th>TUE</th>\n",
       "      <th>CAEC</th>\n",
       "      <th>MTRANS</th>\n",
       "      <th>NObeyesdad</th>\n",
       "    </tr>\n",
       "  </thead>\n",
       "  <tbody>\n",
       "    <tr>\n",
       "      <th>0</th>\n",
       "      <td>21</td>\n",
       "      <td>Female</td>\n",
       "      <td>1.62</td>\n",
       "      <td>64</td>\n",
       "      <td>no</td>\n",
       "      <td>no</td>\n",
       "      <td>2</td>\n",
       "      <td>3</td>\n",
       "      <td>no</td>\n",
       "      <td>no</td>\n",
       "      <td>2</td>\n",
       "      <td>yes</td>\n",
       "      <td>0</td>\n",
       "      <td>1</td>\n",
       "      <td>Sometimes</td>\n",
       "      <td>Public_Transportation</td>\n",
       "      <td>Normal_Weight</td>\n",
       "    </tr>\n",
       "    <tr>\n",
       "      <th>1</th>\n",
       "      <td>21</td>\n",
       "      <td>Female</td>\n",
       "      <td>1.52</td>\n",
       "      <td>56</td>\n",
       "      <td>Sometimes</td>\n",
       "      <td>no</td>\n",
       "      <td>3</td>\n",
       "      <td>3</td>\n",
       "      <td>yes</td>\n",
       "      <td>yes</td>\n",
       "      <td>3</td>\n",
       "      <td>yes</td>\n",
       "      <td>3</td>\n",
       "      <td>0</td>\n",
       "      <td>Sometimes</td>\n",
       "      <td>Public_Transportation</td>\n",
       "      <td>Normal_Weight</td>\n",
       "    </tr>\n",
       "    <tr>\n",
       "      <th>2</th>\n",
       "      <td>23</td>\n",
       "      <td>Male</td>\n",
       "      <td>1.8</td>\n",
       "      <td>77</td>\n",
       "      <td>Frequently</td>\n",
       "      <td>no</td>\n",
       "      <td>2</td>\n",
       "      <td>3</td>\n",
       "      <td>no</td>\n",
       "      <td>no</td>\n",
       "      <td>2</td>\n",
       "      <td>yes</td>\n",
       "      <td>2</td>\n",
       "      <td>1</td>\n",
       "      <td>Sometimes</td>\n",
       "      <td>Public_Transportation</td>\n",
       "      <td>Normal_Weight</td>\n",
       "    </tr>\n",
       "    <tr>\n",
       "      <th>3</th>\n",
       "      <td>27</td>\n",
       "      <td>Male</td>\n",
       "      <td>1.8</td>\n",
       "      <td>87</td>\n",
       "      <td>Frequently</td>\n",
       "      <td>no</td>\n",
       "      <td>3</td>\n",
       "      <td>3</td>\n",
       "      <td>no</td>\n",
       "      <td>no</td>\n",
       "      <td>2</td>\n",
       "      <td>no</td>\n",
       "      <td>2</td>\n",
       "      <td>0</td>\n",
       "      <td>Sometimes</td>\n",
       "      <td>Walking</td>\n",
       "      <td>Overweight_Level_I</td>\n",
       "    </tr>\n",
       "    <tr>\n",
       "      <th>4</th>\n",
       "      <td>22</td>\n",
       "      <td>Male</td>\n",
       "      <td>1.78</td>\n",
       "      <td>89.8</td>\n",
       "      <td>Sometimes</td>\n",
       "      <td>no</td>\n",
       "      <td>2</td>\n",
       "      <td>1</td>\n",
       "      <td>no</td>\n",
       "      <td>no</td>\n",
       "      <td>2</td>\n",
       "      <td>no</td>\n",
       "      <td>0</td>\n",
       "      <td>0</td>\n",
       "      <td>Sometimes</td>\n",
       "      <td>Public_Transportation</td>\n",
       "      <td>Overweight_Level_II</td>\n",
       "    </tr>\n",
       "  </tbody>\n",
       "</table>\n",
       "</div>"
      ],
      "text/plain": [
       "  Age  Gender Height Weight        CALC FAVC FCVC NCP  SCC SMOKE CH2O  \\\n",
       "0  21  Female   1.62     64          no   no    2   3   no    no    2   \n",
       "1  21  Female   1.52     56   Sometimes   no    3   3  yes   yes    3   \n",
       "2  23    Male    1.8     77  Frequently   no    2   3   no    no    2   \n",
       "3  27    Male    1.8     87  Frequently   no    3   3   no    no    2   \n",
       "4  22    Male   1.78   89.8   Sometimes   no    2   1   no    no    2   \n",
       "\n",
       "  family_history_with_overweight FAF TUE       CAEC                 MTRANS  \\\n",
       "0                            yes   0   1  Sometimes  Public_Transportation   \n",
       "1                            yes   3   0  Sometimes  Public_Transportation   \n",
       "2                            yes   2   1  Sometimes  Public_Transportation   \n",
       "3                             no   2   0  Sometimes                Walking   \n",
       "4                             no   0   0  Sometimes  Public_Transportation   \n",
       "\n",
       "            NObeyesdad  \n",
       "0        Normal_Weight  \n",
       "1        Normal_Weight  \n",
       "2        Normal_Weight  \n",
       "3   Overweight_Level_I  \n",
       "4  Overweight_Level_II  "
      ]
     },
     "execution_count": 73,
     "metadata": {},
     "output_type": "execute_result"
    }
   ],
   "source": [
    "# Tampilkan 5 baris pertama dataset\n",
    "df.head()"
   ]
  },
  {
   "cell_type": "markdown",
   "id": "01ac7035",
   "metadata": {},
   "source": [
    "**Bertujuan untuk :**\n",
    "\n",
    "* Melihat isi data secara umum.\n",
    "\n",
    "* Mengetahui nama-nama kolom dan tipe data.\n",
    "\n",
    "* Mengidentifikasi kemungkinan adanya nilai yang tidak valid, kosong, atau tidak konsisten.\n",
    "\n",
    "Langkah ini sangat penting untuk memberikan **gambaran awal** tentang **struktur dan kualitas data** sebelum dilakukan analisis lebih lanjut."
   ]
  },
  {
   "cell_type": "markdown",
   "id": "325ea4b2",
   "metadata": {},
   "source": [
    "### **Pemahaman Data**\n",
    "\n",
    "---\n",
    "\n"
   ]
  },
  {
   "cell_type": "markdown",
   "id": "c5a19807",
   "metadata": {},
   "source": [
    "Tahapan **Pemahaman Data** bertujuan untuk mengenali struktur, tipe, dan isi dari dataset yang telah dimuat. Hal ini penting agar analis data dapat menentukan langkah-langkah pembersihan, transformasi, dan visualisasi yang tepat di tahap berikutnya."
   ]
  },
  {
   "cell_type": "markdown",
   "id": "66b6670e",
   "metadata": {},
   "source": [
    "#### **Cek Tipe Data dan Informasi Dataset**\n",
    "\n",
    "---\n",
    "\n"
   ]
  },
  {
   "cell_type": "markdown",
   "id": "2ca0c3b5",
   "metadata": {},
   "source": [
    "Fungsi `df.info()` memberikan **gambaran umum tentang struktur dataset**, meliputi:\n",
    "\n",
    "* Jumlah baris (`entries`),\n",
    "\n",
    "* Nama kolom,\n",
    "\n",
    "* Jumlah `non-null` (nilai yang tidak kosong) di setiap kolom,\n",
    "\n",
    "* Tipe data masing-masing kolom (seperti `int64`, `float64`, atau `object`)."
   ]
  },
  {
   "cell_type": "code",
   "execution_count": 74,
   "id": "b7c3afae",
   "metadata": {},
   "outputs": [
    {
     "name": "stdout",
     "output_type": "stream",
     "text": [
      "<class 'pandas.core.frame.DataFrame'>\n",
      "RangeIndex: 2111 entries, 0 to 2110\n",
      "Data columns (total 17 columns):\n",
      " #   Column                          Non-Null Count  Dtype \n",
      "---  ------                          --------------  ----- \n",
      " 0   Age                             2097 non-null   object\n",
      " 1   Gender                          2102 non-null   object\n",
      " 2   Height                          2099 non-null   object\n",
      " 3   Weight                          2100 non-null   object\n",
      " 4   CALC                            2106 non-null   object\n",
      " 5   FAVC                            2100 non-null   object\n",
      " 6   FCVC                            2103 non-null   object\n",
      " 7   NCP                             2099 non-null   object\n",
      " 8   SCC                             2101 non-null   object\n",
      " 9   SMOKE                           2106 non-null   object\n",
      " 10  CH2O                            2105 non-null   object\n",
      " 11  family_history_with_overweight  2098 non-null   object\n",
      " 12  FAF                             2103 non-null   object\n",
      " 13  TUE                             2102 non-null   object\n",
      " 14  CAEC                            2100 non-null   object\n",
      " 15  MTRANS                          2105 non-null   object\n",
      " 16  NObeyesdad                      2111 non-null   object\n",
      "dtypes: object(17)\n",
      "memory usage: 280.5+ KB\n"
     ]
    }
   ],
   "source": [
    "# Cek tipe data dan informasi dataset\n",
    "df.info()"
   ]
  },
  {
   "cell_type": "markdown",
   "id": "24dbcde3",
   "metadata": {},
   "source": [
    "**Tujuan :**\n",
    "\n",
    "* Untuk mengetahui apakah ada kolom yang memiliki nilai kosong (`missing values`).\n",
    "\n",
    "* Untuk memahami tipe data, sehingga dapat dipersiapkan untuk proses analisis atau konversi tipe data yang diperlukan."
   ]
  },
  {
   "cell_type": "markdown",
   "id": "81cec573",
   "metadata": {},
   "source": [
    "#### **Menampilkan Kolom dalam Dataset**\n",
    "\n",
    "---\n",
    "\n"
   ]
  },
  {
   "cell_type": "markdown",
   "id": "79b68781",
   "metadata": {},
   "source": [
    "Fungsi ini **menampilkan daftar nama kolom pada dataset**. Ini membantu kita untuk:\n",
    "\n",
    "* Memahami atribut atau fitur apa saja yang tersedia,\n",
    "\n",
    "* Menghindari kesalahan penulisan nama kolom saat melakukan manipulasi data selanjutnya.\n"
   ]
  },
  {
   "cell_type": "code",
   "execution_count": 75,
   "id": "33284780",
   "metadata": {},
   "outputs": [
    {
     "data": {
      "text/plain": [
       "Index(['Age', 'Gender', 'Height', 'Weight', 'CALC', 'FAVC', 'FCVC', 'NCP',\n",
       "       'SCC', 'SMOKE', 'CH2O', 'family_history_with_overweight', 'FAF', 'TUE',\n",
       "       'CAEC', 'MTRANS', 'NObeyesdad'],\n",
       "      dtype='object')"
      ]
     },
     "execution_count": 75,
     "metadata": {},
     "output_type": "execute_result"
    }
   ],
   "source": [
    "# Menampilkan kolom dalam dataset\n",
    "df.columns"
   ]
  },
  {
   "cell_type": "markdown",
   "id": "0557c26c",
   "metadata": {},
   "source": [
    "#### **Melihat Jumlah Data**\n",
    "\n",
    "---\n",
    "\n"
   ]
  },
  {
   "cell_type": "markdown",
   "id": "9f5b71e2",
   "metadata": {},
   "source": [
    "Fungsi `df.shape` akan mengembalikan ukuran dataset dalam format (baris, kolom).\n",
    "\n",
    "**Output:** `(2111, 17)` berarti dataset memiliki:\n",
    "\n",
    "`2111` baris data (jumlah observasi/individu),\n",
    "\n",
    "`17` kolom (jumlah fitur/variabel)."
   ]
  },
  {
   "cell_type": "code",
   "execution_count": 76,
   "id": "215fe392",
   "metadata": {},
   "outputs": [
    {
     "data": {
      "text/plain": [
       "(2111, 17)"
      ]
     },
     "execution_count": 76,
     "metadata": {},
     "output_type": "execute_result"
    }
   ],
   "source": [
    "# Melihat jumlah data dalam setiap fitur\n",
    "df.shape"
   ]
  },
  {
   "cell_type": "markdown",
   "id": "ebc9faaf",
   "metadata": {},
   "source": [
    "**Tujuan :**\n",
    "\n",
    "* Mengetahui seberapa besar data yang akan dianalisis.\n",
    "\n",
    "* Mengantisipasi kebutuhan pembersihan atau segmentasi data."
   ]
  },
  {
   "cell_type": "markdown",
   "id": "9111cb79",
   "metadata": {},
   "source": [
    "#### **Statistik Ringkasan Dataset**\n",
    "\n",
    "---\n",
    "\n"
   ]
  },
  {
   "cell_type": "markdown",
   "id": "acaa754a",
   "metadata": {},
   "source": [
    "Fungsi `df.describe()` memberikan **ringkasan statistik dari kolom bertipe numerik**, seperti:\n",
    "\n",
    "* `count`: jumlah data tidak kosong,\n",
    "\n",
    "* `mean`: nilai rata-rata,\n",
    "\n",
    "* `std`: standar deviasi (sebaran data),\n",
    "\n",
    "* `min`: nilai minimum,\n",
    "\n",
    "* `25%`, `50%`, `75%`: nilai kuartil,\n",
    "\n",
    "* `max`: nilai maksimum."
   ]
  },
  {
   "cell_type": "code",
   "execution_count": 77,
   "id": "e10fbc9c",
   "metadata": {},
   "outputs": [
    {
     "data": {
      "text/html": [
       "<div>\n",
       "<style scoped>\n",
       "    .dataframe tbody tr th:only-of-type {\n",
       "        vertical-align: middle;\n",
       "    }\n",
       "\n",
       "    .dataframe tbody tr th {\n",
       "        vertical-align: top;\n",
       "    }\n",
       "\n",
       "    .dataframe thead th {\n",
       "        text-align: right;\n",
       "    }\n",
       "</style>\n",
       "<table border=\"1\" class=\"dataframe\">\n",
       "  <thead>\n",
       "    <tr style=\"text-align: right;\">\n",
       "      <th></th>\n",
       "      <th>Age</th>\n",
       "      <th>Gender</th>\n",
       "      <th>Height</th>\n",
       "      <th>Weight</th>\n",
       "      <th>CALC</th>\n",
       "      <th>FAVC</th>\n",
       "      <th>FCVC</th>\n",
       "      <th>NCP</th>\n",
       "      <th>SCC</th>\n",
       "      <th>SMOKE</th>\n",
       "      <th>CH2O</th>\n",
       "      <th>family_history_with_overweight</th>\n",
       "      <th>FAF</th>\n",
       "      <th>TUE</th>\n",
       "      <th>CAEC</th>\n",
       "      <th>MTRANS</th>\n",
       "      <th>NObeyesdad</th>\n",
       "    </tr>\n",
       "  </thead>\n",
       "  <tbody>\n",
       "    <tr>\n",
       "      <th>count</th>\n",
       "      <td>2097</td>\n",
       "      <td>2102</td>\n",
       "      <td>2099</td>\n",
       "      <td>2100</td>\n",
       "      <td>2106</td>\n",
       "      <td>2100</td>\n",
       "      <td>2103</td>\n",
       "      <td>2099</td>\n",
       "      <td>2101</td>\n",
       "      <td>2106</td>\n",
       "      <td>2105</td>\n",
       "      <td>2098</td>\n",
       "      <td>2103</td>\n",
       "      <td>2102</td>\n",
       "      <td>2100</td>\n",
       "      <td>2105</td>\n",
       "      <td>2111</td>\n",
       "    </tr>\n",
       "    <tr>\n",
       "      <th>unique</th>\n",
       "      <td>1394</td>\n",
       "      <td>3</td>\n",
       "      <td>1562</td>\n",
       "      <td>1518</td>\n",
       "      <td>5</td>\n",
       "      <td>3</td>\n",
       "      <td>808</td>\n",
       "      <td>637</td>\n",
       "      <td>3</td>\n",
       "      <td>3</td>\n",
       "      <td>1263</td>\n",
       "      <td>3</td>\n",
       "      <td>1186</td>\n",
       "      <td>1130</td>\n",
       "      <td>5</td>\n",
       "      <td>6</td>\n",
       "      <td>7</td>\n",
       "    </tr>\n",
       "    <tr>\n",
       "      <th>top</th>\n",
       "      <td>18</td>\n",
       "      <td>Male</td>\n",
       "      <td>1.7</td>\n",
       "      <td>80</td>\n",
       "      <td>Sometimes</td>\n",
       "      <td>yes</td>\n",
       "      <td>3</td>\n",
       "      <td>3</td>\n",
       "      <td>no</td>\n",
       "      <td>no</td>\n",
       "      <td>2</td>\n",
       "      <td>yes</td>\n",
       "      <td>0</td>\n",
       "      <td>0</td>\n",
       "      <td>Sometimes</td>\n",
       "      <td>Public_Transportation</td>\n",
       "      <td>Obesity_Type_I</td>\n",
       "    </tr>\n",
       "    <tr>\n",
       "      <th>freq</th>\n",
       "      <td>124</td>\n",
       "      <td>1056</td>\n",
       "      <td>58</td>\n",
       "      <td>58</td>\n",
       "      <td>1386</td>\n",
       "      <td>1844</td>\n",
       "      <td>647</td>\n",
       "      <td>1183</td>\n",
       "      <td>1997</td>\n",
       "      <td>2054</td>\n",
       "      <td>441</td>\n",
       "      <td>1705</td>\n",
       "      <td>404</td>\n",
       "      <td>552</td>\n",
       "      <td>1747</td>\n",
       "      <td>1572</td>\n",
       "      <td>351</td>\n",
       "    </tr>\n",
       "  </tbody>\n",
       "</table>\n",
       "</div>"
      ],
      "text/plain": [
       "         Age Gender Height Weight       CALC  FAVC  FCVC   NCP   SCC SMOKE  \\\n",
       "count   2097   2102   2099   2100       2106  2100  2103  2099  2101  2106   \n",
       "unique  1394      3   1562   1518          5     3   808   637     3     3   \n",
       "top       18   Male    1.7     80  Sometimes   yes     3     3    no    no   \n",
       "freq     124   1056     58     58       1386  1844   647  1183  1997  2054   \n",
       "\n",
       "        CH2O family_history_with_overweight   FAF   TUE       CAEC  \\\n",
       "count   2105                           2098  2103  2102       2100   \n",
       "unique  1263                              3  1186  1130          5   \n",
       "top        2                            yes     0     0  Sometimes   \n",
       "freq     441                           1705   404   552       1747   \n",
       "\n",
       "                       MTRANS      NObeyesdad  \n",
       "count                    2105            2111  \n",
       "unique                      6               7  \n",
       "top     Public_Transportation  Obesity_Type_I  \n",
       "freq                     1572             351  "
      ]
     },
     "execution_count": 77,
     "metadata": {},
     "output_type": "execute_result"
    }
   ],
   "source": [
    "# Statistik ringkasan dataset\n",
    "df.describe()"
   ]
  },
  {
   "cell_type": "markdown",
   "id": "2811bdb9",
   "metadata": {},
   "source": [
    "**Tujuan :**\n",
    "\n",
    "* Melihat distribusi nilai pada setiap kolom numerik.\n",
    "\n",
    "* Menemukan kemungkinan data ekstrem (outlier) atau nilai yang tidak masuk akal.\n",
    "\n",
    "* Menjadi acuan awal dalam memahami sebaran data yang ada."
   ]
  },
  {
   "cell_type": "markdown",
   "id": "6aeb6ed8",
   "metadata": {},
   "source": [
    "### **Pengecekan Data yang Tidak Konsisten**\n",
    "\n",
    "---\n",
    "\n"
   ]
  },
  {
   "cell_type": "markdown",
   "id": "1dfea6f0",
   "metadata": {},
   "source": [
    "Dataset sering kali mengandung data yang tidak lengkap (`missing values`), tidak konsisten, atau salah format. Bagian ini bertujuan untuk :\n",
    "\n",
    "* Mengidentifikasi data yang hilang atau tidak sesuai,\n",
    "\n",
    "* Melakukan perbaikan agar data siap dianalisis."
   ]
  },
  {
   "cell_type": "markdown",
   "id": "fce17825",
   "metadata": {},
   "source": [
    "#### **Cek Jumlah Missing Values di Setiap Kolom**\n",
    "\n",
    "---\n",
    "\n"
   ]
  },
  {
   "cell_type": "markdown",
   "id": "243e85c1",
   "metadata": {},
   "source": [
    "Fungsi ini digunakan untuk **menghitung jumlah nilai kosong (`NaN`)** di setiap kolom dataset. Missing values dapat mengganggu proses analisis atau model machine learning, sehingga perlu dideteksi dan ditangani."
   ]
  },
  {
   "cell_type": "code",
   "execution_count": 78,
   "id": "028a9fab",
   "metadata": {},
   "outputs": [
    {
     "data": {
      "text/plain": [
       "Age                               14\n",
       "Gender                             9\n",
       "Height                            12\n",
       "Weight                            11\n",
       "CALC                               5\n",
       "FAVC                              11\n",
       "FCVC                               8\n",
       "NCP                               12\n",
       "SCC                               10\n",
       "SMOKE                              5\n",
       "CH2O                               6\n",
       "family_history_with_overweight    13\n",
       "FAF                                8\n",
       "TUE                                9\n",
       "CAEC                              11\n",
       "MTRANS                             6\n",
       "NObeyesdad                         0\n",
       "dtype: int64"
      ]
     },
     "execution_count": 78,
     "metadata": {},
     "output_type": "execute_result"
    }
   ],
   "source": [
    "# Cek jumlah missing values di setiap kolom\n",
    "df.isnull().sum()"
   ]
  },
  {
   "cell_type": "markdown",
   "id": "bb0fc4ec",
   "metadata": {},
   "source": [
    "#### **Mencari Duplikat Data**\n",
    "\n",
    "---\n",
    "\n"
   ]
  },
  {
   "cell_type": "code",
   "execution_count": 79,
   "id": "9a3c5a11",
   "metadata": {},
   "outputs": [
    {
     "data": {
      "text/plain": [
       "18"
      ]
     },
     "execution_count": 79,
     "metadata": {},
     "output_type": "execute_result"
    }
   ],
   "source": [
    "# Mengecek jumlah baris yang terduplikasi\n",
    "df.duplicated().sum()"
   ]
  },
  {
   "cell_type": "markdown",
   "id": "44875cb5",
   "metadata": {},
   "source": [
    "* `df.duplicated()` akan menghasilkan boolean series (True/False) untuk setiap baris, menandakan apakah baris tersebut adalah duplikat.\n",
    "\n",
    "* `.sum()` akan menjumlahkan nilai True yang dianggap sebagai 1, sehingga kamu akan mendapat jumlah total baris duplikat dalam dataframe."
   ]
  },
  {
   "cell_type": "markdown",
   "id": "a7d7266a",
   "metadata": {},
   "source": [
    "#### **Menampilkan jumlah nilai unik**\n",
    "\n",
    "---\n",
    "\n"
   ]
  },
  {
   "cell_type": "markdown",
   "id": "5c4911bf",
   "metadata": {},
   "source": [
    "Digunakan untuk **melihat berapa banyak nilai unik yang dimiliki oleh setiap kolom bertipe kategorikal** (`object`). Digunakan untuk :\n",
    "\n",
    "* Mengetahui keragaman data kategorikal,\n",
    "\n",
    "* Mendeteksi kolom yang mungkin memiliki nilai aneh atau duplikat penulisan (seperti `Yes`, `yes`, `YES` dianggap berbeda)."
   ]
  },
  {
   "cell_type": "code",
   "execution_count": 80,
   "id": "a9c33b43",
   "metadata": {},
   "outputs": [
    {
     "data": {
      "text/plain": [
       "Age                               1394\n",
       "Gender                               3\n",
       "Height                            1562\n",
       "Weight                            1518\n",
       "CALC                                 5\n",
       "FAVC                                 3\n",
       "FCVC                               808\n",
       "NCP                                637\n",
       "SCC                                  3\n",
       "SMOKE                                3\n",
       "CH2O                              1263\n",
       "family_history_with_overweight       3\n",
       "FAF                               1186\n",
       "TUE                               1130\n",
       "CAEC                                 5\n",
       "MTRANS                               6\n",
       "NObeyesdad                           7\n",
       "dtype: int64"
      ]
     },
     "execution_count": 80,
     "metadata": {},
     "output_type": "execute_result"
    }
   ],
   "source": [
    "# Menampilkan jumlah nilai unik dari kolom bertipe kategorikal\n",
    "df.select_dtypes(include='object').nunique()"
   ]
  },
  {
   "cell_type": "markdown",
   "id": "fbafa0d9",
   "metadata": {},
   "source": [
    "#### **Cek Keseimbangan Data**"
   ]
  },
  {
   "cell_type": "code",
   "execution_count": 81,
   "id": "9ec75081",
   "metadata": {},
   "outputs": [
    {
     "name": "stdout",
     "output_type": "stream",
     "text": [
      "Jumlah data per kelas:\n",
      "NObeyesdad\n",
      "Obesity_Type_I         351\n",
      "Obesity_Type_III       324\n",
      "Obesity_Type_II        297\n",
      "Overweight_Level_I     290\n",
      "Overweight_Level_II    290\n",
      "Normal_Weight          287\n",
      "Insufficient_Weight    272\n",
      "Name: count, dtype: int64\n"
     ]
    }
   ],
   "source": [
    "# Hitung jumlah tiap kelas obesitas\n",
    "class_counts = df['NObeyesdad'].value_counts()\n",
    "print(\"Jumlah data per kelas:\")\n",
    "print(class_counts)"
   ]
  },
  {
   "cell_type": "markdown",
   "id": "c2c538cd",
   "metadata": {},
   "source": [
    "### **Visualisasi Data**\n",
    "\n",
    "---\n",
    "\n"
   ]
  },
  {
   "cell_type": "markdown",
   "id": "67d54404",
   "metadata": {},
   "source": [
    "Dalam proses **Exploratory Data Analysis (EDA)**, visualisasi data sangat penting untuk memahami pola, tren, dan anomali dalam dataset secara intuitif."
   ]
  },
  {
   "cell_type": "markdown",
   "id": "b374228c",
   "metadata": {},
   "source": [
    "#### **Visualisasi Distribusi Kelas Sebelum SMOTE**\n",
    "\n",
    "---\n",
    "\n"
   ]
  },
  {
   "cell_type": "markdown",
   "id": "d8958b59",
   "metadata": {},
   "source": [
    "**Countplot** digunakan untuk menghitung dan memvisualisasikan jumlah kemunculan dari setiap kelas pada label target seperti NObeyesdad, yang merepresentasikan kategori obesitas (misalnya: `Insufficient_Weight`, `Normal_Weight`, `Obesity_Type_I`, dan lainnya). Dengan countplot, kita dapat **melihat distribusi data antar kelas dan mengevaluasi apakah dataset tersebut seimbang** (jumlah data di tiap kelas relatif sama) **atau tidak seimbang** (salah satu kelas mendominasi). Informasi ini sangat penting terutama dalam konteks pemodelan machine learning, karena ketidakseimbangan kelas dapat memengaruhi performa model dan membuat prediksi cenderung bias terhadap kelas mayoritas."
   ]
  },
  {
   "cell_type": "code",
   "execution_count": 82,
   "id": "e198a0d0",
   "metadata": {},
   "outputs": [
    {
     "data": {
      "image/png": "[encoded data removed]",
      "text/plain": [
       "<Figure size 640x480 with 1 Axes>"
      ]
     },
     "metadata": {},
     "output_type": "display_data"
    }
   ],
   "source": [
    "# Distribusi Kelas Obesitas\n",
    "sns.countplot(x='NObeyesdad', hue='NObeyesdad', data=df, palette='Set2', legend=False)\n",
    "plt.xticks(rotation=45)\n",
    "plt.title(\"Distribusi Kelas Obesitas\")\n",
    "plt.xlabel(\"Kategori\")\n",
    "plt.ylabel(\"Jumlah\")\n",
    "plt.tight_layout()\n",
    "plt.show()"
   ]
  },
  {
   "cell_type": "markdown",
   "id": "7003a8fd",
   "metadata": {},
   "source": [
    "**Interpretasi :**\n",
    "* Kategori dengan **jumlah terbanyak** : `Obesity_Type_I` (~350 individu)\n",
    "\n",
    "* Kategori dengan **jumlah terendah** : `Insufficient_Weight` (~275 individu)\n",
    "\n",
    "* Kategori lain seperti `Normal_Weight`, `Overweight_Level_I`, dan `Overweight_Level_II` memiliki jumlah yang hampir sama (sekitar 290-an).\n",
    "\n",
    "* Terdapat tren bahwa kategori obesitas (Type I, II, III) memiliki jumlah yang relatif tinggi, mengindikasikan prevalensi obesitas cukup besar dalam dataset ini.\n",
    "\n",
    "Jadi,\n",
    "* Jumlah orang **terbanyak ada di kategori Obesity Type I**\n",
    "Artinya, banyak orang dalam data ini mengalami obesitas tipe I.\n",
    "\n",
    "* Jumlah **paling sedikit ada di kategori Insufficient Weight** (berat badan kurang)\n",
    "Jadi, tidak banyak orang yang kekurangan berat badan.\n",
    "\n",
    "* Kategori Normal Weight (berat badan normal) tidak paling banyak\n",
    "Ini mengindikasikan bahwa **lebih banyak orang yang kelebihan berat atau obesitas dibanding yang berat badannya normal**."
   ]
  },
  {
   "cell_type": "markdown",
   "id": "38696de7",
   "metadata": {},
   "source": [
    "### **Deteksi Outliers**"
   ]
  },
  {
   "cell_type": "markdown",
   "id": "d893a492",
   "metadata": {},
   "source": [
    "#### **Visualisasi Menggunakan Boxplot**\n",
    "\n",
    "---\n",
    "\n"
   ]
  },
  {
   "cell_type": "markdown",
   "id": "0332ce60",
   "metadata": {},
   "source": [
    "**Boxplot** digunakan untuk melihat distribusi data numerik dan mengidentifikasi keberadaan **outliers**. Dengan visualisasi ini, kita bisa lebih mudah memahami sebaran data dan menentukan apakah outliers perlu ditangani atau tidak."
   ]
  },
  {
   "cell_type": "code",
   "execution_count": 83,
   "id": "d62d0be8",
   "metadata": {},
   "outputs": [
    {
     "name": "stdout",
     "output_type": "stream",
     "text": [
      "\n",
      "[INFO] Mendeteksi Outliers\n"
     ]
    }
   ],
   "source": [
    "print(\"\\n[INFO] Mendeteksi Outliers\")\n",
    "\n",
    "# Define num_cols to contain the names of numerical columns\n",
    "num_cols = df.select_dtypes(include=np.number).columns\n",
    "\n",
    "for col in num_cols:\n",
    "    Q1 = df[col].quantile(0.25)\n",
    "    Q3 = df[col].quantile(0.75)\n",
    "    IQR = Q3 - Q1\n",
    "    lower_bound = Q1 - 1.5 * IQR\n",
    "    upper_bound = Q3 + 1.5 * IQR\n",
    "    outliers = df[(df[col] < lower_bound) | (df[col] > upper_bound)][col]"
   ]
  },
  {
   "cell_type": "code",
   "execution_count": 84,
   "id": "616348a8",
   "metadata": {},
   "outputs": [],
   "source": [
    "# Ambil kolom numerik\n",
    "num_cols = df.select_dtypes(include=np.number).columns"
   ]
  },
  {
   "cell_type": "code",
   "execution_count": 85,
   "id": "dd757ae3",
   "metadata": {},
   "outputs": [],
   "source": [
    "# Pastikan hanya kolom ini yang digunakan\n",
    "kolom_numerik = ['Age', 'Weight', 'Height']"
   ]
  },
  {
   "cell_type": "code",
   "execution_count": 86,
   "id": "d72c08b7",
   "metadata": {},
   "outputs": [
    {
     "name": "stdout",
     "output_type": "stream",
     "text": [
      "\n",
      "Visualisasi SEBELUM outlier ditangani:\n"
     ]
    },
    {
     "data": {
      "image/png": "[encoded data removed]",
      "text/plain": [
       "<Figure size 800x500 with 1 Axes>"
      ]
     },
     "metadata": {},
     "output_type": "display_data"
    },
    {
     "data": {
      "image/png": "[encoded data removed]",
      "text/plain": [
       "<Figure size 800x500 with 1 Axes>"
      ]
     },
     "metadata": {},
     "output_type": "display_data"
    },
    {
     "data": {
      "image/png": "[encoded data removed]",
      "text/plain": [
       "<Figure size 800x500 with 1 Axes>"
      ]
     },
     "metadata": {},
     "output_type": "display_data"
    }
   ],
   "source": [
    "# Visualisasi boxplot sebelum outlier ditangani\n",
    "print(\"\\nVisualisasi SEBELUM outlier ditangani:\")\n",
    "\n",
    "for col in kolom_numerik:\n",
    "    if df[col].dropna().empty:\n",
    "        print(f\"Kolom {col} kosong atau hanya NaN, dilewati.\")\n",
    "        continue\n",
    "    plt.figure(figsize=(8, 5))\n",
    "    sns.boxplot(x=df[col], color='skyblue')\n",
    "    plt.title(f'Boxplot Sebelum Outlier: {col}')\n",
    "    plt.xlabel(col)\n",
    "    plt.grid(True)\n",
    "    plt.tight_layout()\n",
    "    plt.show()"
   ]
  },
  {
   "cell_type": "markdown",
   "id": "ff2a1476",
   "metadata": {},
   "source": [
    "> Berdasarkan hasil **eksplorasi data (EDA)**, dapat disimpulkan bahwa data usia, berat badan, dan tinggi badan memiliki distribusi yang tidak normal dan cenderung skewed, dengan sejumlah outlier yang perlu diperhatikan. Dataset menunjukkan ketidakseimbangan kelas pada label `NObeyesdad`, di mana beberapa kategori obesitas mendominasi. Visualisasi scatter plot mengindikasikan adanya pola pemisahan antar kelas obesitas, khususnya pada kombinasi fitur berat badan dan tinggi badan yang berkaitan erat dengan BMI. Insight ini menunjukkan bahwa fitur-fitur numerik seperti berat, tinggi, dan usia sangat berpengaruh dalam membedakan kelas obesitas, serta perlu penanganan khusus pada outlier dan ketidakseimbangan data sebelum dilakukan modeling lebih lanjut."
   ]
  },
  {
   "cell_type": "markdown",
   "id": "8ddc1720",
   "metadata": {},
   "source": [
    "----"
   ]
  },
  {
   "cell_type": "markdown",
   "id": "eab87a6f",
   "metadata": {},
   "source": [
    "## **DATA PREPROCESSING**"
   ]
  },
  {
   "cell_type": "markdown",
   "id": "ebe2244f",
   "metadata": {},
   "source": [
    "**Data preprocessing** adalah proses awal dalam analisis data atau machine learning yang bertujuan untuk membersihkan, memformat, dan mempersiapkan data mentah agar bisa digunakan secara efektif dalam pemodelan atau analisis. Data mentah sering kali mengandung noise, missing values, format tidak konsisten, atau outlier yang dapat memengaruhi hasil model jika tidak ditangani."
   ]
  },
  {
   "cell_type": "markdown",
   "id": "44fe2eae",
   "metadata": {},
   "source": [
    "### **Menangani Missing Value**"
   ]
  },
  {
   "cell_type": "markdown",
   "id": "a41931e2",
   "metadata": {},
   "source": [
    "**Missing value** (nilai yang hilang) adalah sel atau entri dalam dataset yang tidak memiliki data atau bernilai kosong. Dalam file `.csv` atau data frame Python (Pandas), ini sering terlihat sebagai `NaN`, `None`, atau hanya sel kosong.\n",
    "\n",
    "Menangani **missing value** adalah langkah penting pertama dalam preprocessing data. Tanpa ini, analisis dan model yang dibangun berisiko bias, error, atau tidak valid. Pilih metode penanganan berdasarkan jenis data, jumlah missing, dan tujuan analisis."
   ]
  },
  {
   "cell_type": "markdown",
   "id": "5bda3472",
   "metadata": {},
   "source": [
    "#### **Mengganti Tanda `'?'` dengan `NaN`**\n",
    "\n",
    "---\n",
    "\n"
   ]
  },
  {
   "cell_type": "markdown",
   "id": "96048714",
   "metadata": {},
   "source": [
    "Beberapa dataset menandai nilai kosong atau tidak diketahui dengan simbol `'?'`, bukan `NaN`. Karena Python mengenali NaN sebagai `missing value`, kita perlu mengganti tanda `'?'` menjadi `np.nan`. **Tujuannya**, agar Python dan library analisis bisa mengenali nilai kosong secara standar."
   ]
  },
  {
   "cell_type": "code",
   "execution_count": 87,
   "id": "1ba6e24f",
   "metadata": {},
   "outputs": [],
   "source": [
    "# Mengganti tanda '?' dengan NaN\n",
    "df.replace('?', np.nan, inplace=True)"
   ]
  },
  {
   "cell_type": "markdown",
   "id": "586cdb13",
   "metadata": {},
   "source": [
    "#### **Menghapus Data Duplikat**\n",
    "\n",
    "---\n",
    "\n"
   ]
  },
  {
   "cell_type": "code",
   "execution_count": 88,
   "id": "d3d85066",
   "metadata": {},
   "outputs": [
    {
     "name": "stdout",
     "output_type": "stream",
     "text": [
      "Jumlah data duplikat sebelum dihapus: 18\n",
      "Jumlah data duplikat setelah dihapus: 0\n"
     ]
    }
   ],
   "source": [
    "# Cek dan hapus data duplikat\n",
    "print(\"Jumlah data duplikat sebelum dihapus:\", df.duplicated().sum())\n",
    "\n",
    "df.drop_duplicates(inplace=True)\n",
    "\n",
    "print(\"Jumlah data duplikat setelah dihapus:\", df.duplicated().sum())"
   ]
  },
  {
   "cell_type": "markdown",
   "id": "b9ded652",
   "metadata": {},
   "source": [
    "* `df.drop_duplicates()` menghapus semua baris yang terduplikasi dan hanya menyisakan baris pertama dari setiap duplikat.\n",
    "\n",
    "* Hasilnya disimpan kembali ke variabel `df`, sehingga dataframe sekarang sudah bersih dari duplikasi."
   ]
  },
  {
   "cell_type": "markdown",
   "id": "c31db404",
   "metadata": {},
   "source": [
    "#### **Konversi Numerik**\n",
    "\n",
    "---\n",
    "\n"
   ]
  },
  {
   "cell_type": "code",
   "execution_count": 89,
   "id": "e1f786a5",
   "metadata": {},
   "outputs": [],
   "source": [
    "df['Age'] = pd.to_numeric(df['Age'], errors='coerce')\n",
    "df['Weight'] = pd.to_numeric(df['Weight'], errors='coerce')\n",
    "df['Height'] = pd.to_numeric(df['Height'], errors='coerce')\n",
    "df.dropna(inplace=True)"
   ]
  },
  {
   "cell_type": "code",
   "execution_count": 90,
   "id": "5661be5a",
   "metadata": {},
   "outputs": [],
   "source": [
    "# Identifikasi Kategorikal dan Numerik\n",
    "num_cols = df.select_dtypes(include=np.number).columns.tolist()\n",
    "cat_cols = df.select_dtypes(include='object').drop(columns='NObeyesdad').columns.tolist()"
   ]
  },
  {
   "cell_type": "markdown",
   "id": "03211e24",
   "metadata": {},
   "source": [
    "#### **Data Imputation**\n",
    "\n",
    "---\n",
    "\n"
   ]
  },
  {
   "cell_type": "code",
   "execution_count": 91,
   "id": "c589eb1b",
   "metadata": {},
   "outputs": [],
   "source": [
    "# Imputasi Data Sebelum Encoding\n",
    "imputer_num = SimpleImputer(strategy='mean')\n",
    "df[num_cols] = imputer_num.fit_transform(df[num_cols])\n",
    "\n",
    "imputer_cat = SimpleImputer(strategy='most_frequent')\n",
    "df[cat_cols] = imputer_cat.fit_transform(df[cat_cols])"
   ]
  },
  {
   "cell_type": "markdown",
   "id": "fa6861ea",
   "metadata": {},
   "source": [
    "#### **Menangani Outlier dan Mengganti Outlier dengan Batas Bawah/Atas**\n",
    "\n",
    "---\n",
    "\n"
   ]
  },
  {
   "cell_type": "markdown",
   "id": "4e877d24",
   "metadata": {},
   "source": [
    "**Outlier** adalah nilai yang menyimpang jauh dari nilai-nilai lain dalam dataset. Outlier bisa mempengaruhi distribusi data dan kinerja model prediksi. Salah satu cara umum untuk menangani outlier adalah dengan **mengganti nilai ekstrem menggunakan batas bawah dan atas dari IQR (*Interquartile Range*)**."
   ]
  },
  {
   "cell_type": "code",
   "execution_count": 92,
   "id": "eefe64fa",
   "metadata": {},
   "outputs": [],
   "source": [
    "# Menangani Outlier\n",
    "for col in num_cols:\n",
    "    Q1 = df[col].quantile(0.25)\n",
    "    Q3 = df[col].quantile(0.75)\n",
    "    IQR = Q3 - Q1\n",
    "    lower_bound = Q1 - 1.5 * IQR\n",
    "    upper_bound = Q3 + 1.5 * IQR\n",
    "    df[col] = np.where(df[col] < lower_bound, lower_bound, df[col])\n",
    "    df[col] = np.where(df[col] > upper_bound, upper_bound, df[col])"
   ]
  },
  {
   "cell_type": "markdown",
   "id": "b4c8d4fe",
   "metadata": {},
   "source": [
    "**Penjelasan**\n",
    "\n",
    "* `Q1` dan `Q3` adalah kuartil pertama dan ketiga dari distribusi data.\n",
    "\n",
    "* `IQR` adalah rentang antar-kuartil.\n",
    "\n",
    "* Nilai di bawah lower_bound dan di atas `upper_bound` dianggap outlier, dan diganti dengan nilai batasnya masing-masing."
   ]
  },
  {
   "cell_type": "markdown",
   "id": "2e3ba883",
   "metadata": {},
   "source": [
    "#### **Visualisasi Setelah Mengganti Outliers**"
   ]
  },
  {
   "cell_type": "code",
   "execution_count": 93,
   "id": "d3212370",
   "metadata": {},
   "outputs": [
    {
     "name": "stdout",
     "output_type": "stream",
     "text": [
      "\n",
      "Visualisasi SETELAH outlier ditangani:\n"
     ]
    },
    {
     "data": {
      "image/png": "[encoded data removed]",
      "text/plain": [
       "<Figure size 800x500 with 1 Axes>"
      ]
     },
     "metadata": {},
     "output_type": "display_data"
    },
    {
     "data": {
      "image/png": "[encoded data removed]",
      "text/plain": [
       "<Figure size 800x500 with 1 Axes>"
      ]
     },
     "metadata": {},
     "output_type": "display_data"
    },
    {
     "data": {
      "image/png": "[encoded data removed]",
      "text/plain": [
       "<Figure size 800x500 with 1 Axes>"
      ]
     },
     "metadata": {},
     "output_type": "display_data"
    }
   ],
   "source": [
    "print(\"\\nVisualisasi SETELAH outlier ditangani:\")\n",
    "\n",
    "# Use the original df DataFrame which has been modified in place\n",
    "for col in ['Age', 'Weight', 'Height']:\n",
    "    # Check if the column exists and is not empty after dropping NaNs (though dropna() won't remove anything here if no NaNs exist)\n",
    "    # A more robust check might be needed if NaNs were introduced, but based on previous steps, there shouldn't be any.\n",
    "    # Let's simplify the check assuming no NaNs were introduced by outlier handling.\n",
    "    if col not in df.columns or df[col].empty:\n",
    "        print(f\"Kolom {col} tidak ada atau kosong, dilewati.\")\n",
    "        continue\n",
    "\n",
    "    plt.figure(figsize=(8, 5))\n",
    "    # Use df[col] directly as it contains the data after outlier handling\n",
    "    sns.boxplot(x=df[col], color='lightgreen')\n",
    "    plt.title(f'Boxplot Setelah Outlier: {col}')\n",
    "    plt.xlabel(col)\n",
    "    plt.grid(True)\n",
    "    plt.tight_layout()\n",
    "    plt.show()"
   ]
  },
  {
   "cell_type": "markdown",
   "id": "9638d80e",
   "metadata": {},
   "source": [
    "#### **Transformasi Data**\n",
    "\n",
    "----"
   ]
  },
  {
   "cell_type": "markdown",
   "id": "22f62b81",
   "metadata": {},
   "source": [
    "**Transformasi data** adalah proses mengubah data mentah menjadi format yang lebih sesuai untuk analisis atau pemodelan machine learning. Proses ini mencakup berbagai teknik seperti encoding data kategorikal menjadi numerik, normalisasi data agar berada pada skala yang sama. Dengan demikian, transformasi data merupakan langkah penting dalam tahap preprocessing yang dapat meningkatkan akurasi dan efisiensi model secara keseluruhan."
   ]
  },
  {
   "cell_type": "markdown",
   "id": "cd050db0",
   "metadata": {},
   "source": [
    "#### **Pisah Fitur dan Target**\n",
    "\n",
    "----"
   ]
  },
  {
   "cell_type": "markdown",
   "id": "298137c8",
   "metadata": {},
   "source": [
    "Digunakan untuk memisahkan fitur (X) dan target/label (y) dari dataset sebelum model dilatih."
   ]
  },
  {
   "cell_type": "code",
   "execution_count": 94,
   "id": "e7ffd962",
   "metadata": {},
   "outputs": [],
   "source": [
    "X = df.drop(columns='NObeyesdad')\n",
    "y = df['NObeyesdad']"
   ]
  },
  {
   "cell_type": "markdown",
   "id": "ccc92b11",
   "metadata": {},
   "source": [
    "#### **One-Hot Encoding**\n",
    "\n",
    "----"
   ]
  },
  {
   "cell_type": "markdown",
   "id": "1e9f4149",
   "metadata": {},
   "source": [
    "**One-Hot Encoding** adalah teknik untuk mengubah data kategorikal menjadi format numerik agar bisa diproses oleh model machine learning."
   ]
  },
  {
   "cell_type": "markdown",
   "id": "1c195573",
   "metadata": {},
   "source": [
    "Untuk memproses **data kategorikal**, kita perlu mengubahnya menjadi bentuk **numerik** karena algoritma *machine learning* biasanya hanya bekerja dengan angka."
   ]
  },
  {
   "cell_type": "code",
   "execution_count": 95,
   "id": "9de4de95",
   "metadata": {},
   "outputs": [],
   "source": [
    "# One-Hot Encoding\n",
    "X = pd.get_dummies(X, columns=cat_cols)"
   ]
  },
  {
   "cell_type": "markdown",
   "id": "7a89a561",
   "metadata": {},
   "source": [
    "#### **Normalisasi**\n",
    "\n",
    "----"
   ]
  },
  {
   "cell_type": "markdown",
   "id": "3928abc2",
   "metadata": {},
   "source": [
    "Untuk melakukan normalisasi (scaling) pada fitur numerik, yaitu menyesuaikan skala semua nilai numerik agar memiliki distribusi standar."
   ]
  },
  {
   "cell_type": "code",
   "execution_count": 96,
   "id": "33e05b5a",
   "metadata": {},
   "outputs": [],
   "source": [
    "# Normalisasi\n",
    "scaler = StandardScaler()\n",
    "X[num_cols] = scaler.fit_transform(X[num_cols])"
   ]
  },
  {
   "cell_type": "code",
   "execution_count": 97,
   "id": "d15985a7",
   "metadata": {},
   "outputs": [],
   "source": [
    "# Simpan Kolom untuk Streamlit\n",
    "feature_columns = X.columns"
   ]
  },
  {
   "cell_type": "markdown",
   "id": "76100162",
   "metadata": {},
   "source": [
    "#### **Menangani Ketidakseimbangan Data dengan SMOTE**\n",
    "\n",
    "----"
   ]
  },
  {
   "cell_type": "markdown",
   "id": "3c348ba9",
   "metadata": {},
   "source": [
    "Ketika data target (label) tidak seimbang, model cenderung bias ke kelas mayoritas. SMOTE **(*Synthetic Minority Over-sampling Technique*)** digunakan untuk membuat salinan sintetis dari kelas minoritas."
   ]
  },
  {
   "cell_type": "code",
   "execution_count": 98,
   "id": "8f86ebb9",
   "metadata": {},
   "outputs": [
    {
     "name": "stdout",
     "output_type": "stream",
     "text": [
      "X shape: (1793, 4381)\n",
      "y shape: (1793,)\n"
     ]
    }
   ],
   "source": [
    "print(\"X shape:\", X.shape)\n",
    "print(\"y shape:\", y.shape)"
   ]
  },
  {
   "cell_type": "code",
   "execution_count": 99,
   "id": "f8956584",
   "metadata": {},
   "outputs": [],
   "source": [
    "from imblearn.over_sampling import SMOTE\n",
    "\n",
    "# Inisialisasi SMOTE\n",
    "smote = SMOTE(random_state=42)\n",
    "\n",
    "# Terapkan SMOTE pada data X dan y\n",
    "X_bal, y_bal = smote.fit_resample(X, y)"
   ]
  },
  {
   "cell_type": "markdown",
   "id": "4d9e9de7",
   "metadata": {},
   "source": [
    "#### **Split Data**\n",
    "\n",
    "----"
   ]
  },
  {
   "cell_type": "markdown",
   "id": "57e2fb31",
   "metadata": {},
   "source": [
    "**Split Data** digunakan untuk membagi data menjadi dua bagian: data untuk melatih model (training) dan data untuk mengujinya (testing)."
   ]
  },
  {
   "cell_type": "code",
   "execution_count": 100,
   "id": "dc68cffe",
   "metadata": {},
   "outputs": [],
   "source": [
    "X_train, X_test, y_train, y_test = train_test_split(X_bal, y_bal, test_size=0.2, random_state=42)"
   ]
  },
  {
   "cell_type": "markdown",
   "id": "1660d78a",
   "metadata": {},
   "source": [
    "#### **Pemodelan dan Evaluasi**\n",
    "\n",
    "----"
   ]
  },
  {
   "cell_type": "markdown",
   "id": "a9b37d5f",
   "metadata": {},
   "source": [
    "#### **Support Vector Machine (SVM)**"
   ]
  },
  {
   "cell_type": "code",
   "execution_count": 101,
   "id": "b7be30e0",
   "metadata": {},
   "outputs": [],
   "source": [
    "from sklearn.svm import SVC\n",
    "import time\n",
    "\n",
    "svm_model = SVC(kernel='rbf', random_state=42)\n",
    "start_time = time.time()\n",
    "svm_model.fit(X_train, y_train)\n",
    "svm_time = time.time() - start_time\n",
    "svm_pred = svm_model.predict(X_test)"
   ]
  },
  {
   "cell_type": "markdown",
   "id": "a74c8a53",
   "metadata": {},
   "source": [
    "#### **Random Forest**"
   ]
  },
  {
   "cell_type": "code",
   "execution_count": 102,
   "id": "900fcef6",
   "metadata": {},
   "outputs": [],
   "source": [
    "from sklearn.ensemble import RandomForestClassifier\n",
    "\n",
    "rf_model = RandomForestClassifier(random_state=42)\n",
    "start_time = time.time()\n",
    "rf_model.fit(X_train, y_train)\n",
    "rf_time = time.time() - start_time\n",
    "rf_pred = rf_model.predict(X_test)"
   ]
  },
  {
   "cell_type": "markdown",
   "id": "c5386ec8",
   "metadata": {},
   "source": [
    "#### **K-Nearest Neighbors (KNN)**"
   ]
  },
  {
   "cell_type": "code",
   "execution_count": 103,
   "id": "3cc5e34e",
   "metadata": {},
   "outputs": [],
   "source": [
    "from sklearn.neighbors import KNeighborsClassifier\n",
    "\n",
    "knn_model = KNeighborsClassifier(n_neighbors=5)\n",
    "start_time = time.time()\n",
    "knn_model.fit(X_train, y_train)\n",
    "knn_time = time.time() - start_time\n",
    "knn_pred = knn_model.predict(X_test)"
   ]
  },
  {
   "cell_type": "markdown",
   "id": "ca0598cd",
   "metadata": {},
   "source": [
    "#### **Decision Tree**"
   ]
  },
  {
   "cell_type": "code",
   "execution_count": 104,
   "id": "b6c0acad",
   "metadata": {},
   "outputs": [],
   "source": [
    "from sklearn.tree import DecisionTreeClassifier\n",
    "\n",
    "dt_model = DecisionTreeClassifier()\n",
    "start_time = time.time()\n",
    "dt_model.fit(X_train, y_train)\n",
    "dt_time = time.time() - start_time\n",
    "dt_pred = dt_model.predict(X_test)"
   ]
  },
  {
   "cell_type": "markdown",
   "id": "81c43f0f",
   "metadata": {},
   "source": [
    "#### **Logistic Regression**"
   ]
  },
  {
   "cell_type": "code",
   "execution_count": 105,
   "id": "97637426",
   "metadata": {},
   "outputs": [],
   "source": [
    "from sklearn.linear_model import LogisticRegression # Import LogisticRegression\n",
    "\n",
    "lr_model = LogisticRegression(max_iter=1000)  # max_iter ditingkatkan agar konvergen\n",
    "start_time = time.time()\n",
    "lr_model.fit(X_train, y_train)\n",
    "lr_time = time.time() - start_time\n",
    "lr_pred = lr_model.predict(X_test)"
   ]
  },
  {
   "cell_type": "markdown",
   "id": "c6ceddef",
   "metadata": {},
   "source": [
    "#### **Evaluasi Model**"
   ]
  },
  {
   "cell_type": "code",
   "execution_count": 106,
   "id": "4d79801e",
   "metadata": {},
   "outputs": [
    {
     "name": "stdout",
     "output_type": "stream",
     "text": [
      "\n",
      "Model: SVM\n",
      "Accuracy: 0.9\n",
      "Classification Report:\n",
      "                      precision    recall  f1-score   support\n",
      "\n",
      "Insufficient_Weight       0.98      0.94      0.96        65\n",
      "      Normal_Weight       0.81      0.94      0.87        62\n",
      "     Obesity_Type_I       0.93      0.84      0.88        68\n",
      "    Obesity_Type_II       0.86      0.98      0.92        61\n",
      "   Obesity_Type_III       1.00      1.00      1.00        59\n",
      " Overweight_Level_I       0.84      0.78      0.81        60\n",
      "Overweight_Level_II       0.90      0.83      0.86        65\n",
      "\n",
      "           accuracy                           0.90       440\n",
      "          macro avg       0.90      0.90      0.90       440\n",
      "       weighted avg       0.90      0.90      0.90       440\n",
      "\n",
      "Confusion Matrix:\n",
      " [[61  4  0  0  0  0  0]\n",
      " [ 1 58  0  0  0  3  0]\n",
      " [ 0  0 57  6  0  2  3]\n",
      " [ 0  0  1 60  0  0  0]\n",
      " [ 0  0  0  0 59  0  0]\n",
      " [ 0  7  0  3  0 47  3]\n",
      " [ 0  3  3  1  0  4 54]]\n",
      "\n",
      "Model: Random Forest\n",
      "Accuracy: 0.9090909090909091\n",
      "Classification Report:\n",
      "                      precision    recall  f1-score   support\n",
      "\n",
      "Insufficient_Weight       0.98      0.95      0.97        65\n",
      "      Normal_Weight       0.70      0.92      0.80        62\n",
      "     Obesity_Type_I       0.91      0.91      0.91        68\n",
      "    Obesity_Type_II       1.00      0.98      0.99        61\n",
      "   Obesity_Type_III       1.00      1.00      1.00        59\n",
      " Overweight_Level_I       0.89      0.82      0.85        60\n",
      "Overweight_Level_II       0.94      0.78      0.86        65\n",
      "\n",
      "           accuracy                           0.91       440\n",
      "          macro avg       0.92      0.91      0.91       440\n",
      "       weighted avg       0.92      0.91      0.91       440\n",
      "\n",
      "Confusion Matrix:\n",
      " [[62  3  0  0  0  0  0]\n",
      " [ 1 57  0  0  0  3  1]\n",
      " [ 0  5 62  0  0  1  0]\n",
      " [ 0  0  1 60  0  0  0]\n",
      " [ 0  0  0  0 59  0  0]\n",
      " [ 0  8  1  0  0 49  2]\n",
      " [ 0  8  4  0  0  2 51]]\n",
      "\n",
      "Model: KNN\n",
      "Accuracy: 0.8795454545454545\n",
      "Classification Report:\n",
      "                      precision    recall  f1-score   support\n",
      "\n",
      "Insufficient_Weight       0.91      0.95      0.93        65\n",
      "      Normal_Weight       0.70      0.84      0.76        62\n",
      "     Obesity_Type_I       0.88      0.93      0.90        68\n",
      "    Obesity_Type_II       1.00      0.93      0.97        61\n",
      "   Obesity_Type_III       0.92      1.00      0.96        59\n",
      " Overweight_Level_I       0.88      0.77      0.82        60\n",
      "Overweight_Level_II       0.91      0.74      0.81        65\n",
      "\n",
      "           accuracy                           0.88       440\n",
      "          macro avg       0.89      0.88      0.88       440\n",
      "       weighted avg       0.89      0.88      0.88       440\n",
      "\n",
      "Confusion Matrix:\n",
      " [[62  3  0  0  0  0  0]\n",
      " [ 3 52  3  0  0  3  1]\n",
      " [ 0  2 63  0  1  0  2]\n",
      " [ 0  0  1 57  1  0  2]\n",
      " [ 0  0  0  0 59  0  0]\n",
      " [ 3  9  0  0  2 46  0]\n",
      " [ 0  8  5  0  1  3 48]]\n",
      "\n",
      "Model: Decision Tree\n",
      "Accuracy: 0.9159090909090909\n",
      "Classification Report:\n",
      "                      precision    recall  f1-score   support\n",
      "\n",
      "Insufficient_Weight       0.88      0.97      0.92        65\n",
      "      Normal_Weight       0.85      0.71      0.77        62\n",
      "     Obesity_Type_I       1.00      0.93      0.96        68\n",
      "    Obesity_Type_II       0.95      0.98      0.97        61\n",
      "   Obesity_Type_III       0.98      1.00      0.99        59\n",
      " Overweight_Level_I       0.87      0.87      0.87        60\n",
      "Overweight_Level_II       0.89      0.95      0.92        65\n",
      "\n",
      "           accuracy                           0.92       440\n",
      "          macro avg       0.92      0.92      0.91       440\n",
      "       weighted avg       0.92      0.92      0.91       440\n",
      "\n",
      "Confusion Matrix:\n",
      " [[63  2  0  0  0  0  0]\n",
      " [ 9 44  0  0  0  6  3]\n",
      " [ 0  0 63  2  0  1  2]\n",
      " [ 0  0  0 60  1  0  0]\n",
      " [ 0  0  0  0 59  0  0]\n",
      " [ 0  5  0  0  0 52  3]\n",
      " [ 0  1  0  1  0  1 62]]\n",
      "\n",
      "Model: Logistic Regression\n",
      "Accuracy: 0.8363636363636363\n",
      "Classification Report:\n",
      "                      precision    recall  f1-score   support\n",
      "\n",
      "Insufficient_Weight       0.92      0.94      0.93        65\n",
      "      Normal_Weight       0.77      0.89      0.83        62\n",
      "     Obesity_Type_I       0.79      0.68      0.73        68\n",
      "    Obesity_Type_II       0.79      0.93      0.86        61\n",
      "   Obesity_Type_III       1.00      1.00      1.00        59\n",
      " Overweight_Level_I       0.84      0.72      0.77        60\n",
      "Overweight_Level_II       0.75      0.72      0.73        65\n",
      "\n",
      "           accuracy                           0.84       440\n",
      "          macro avg       0.84      0.84      0.84       440\n",
      "       weighted avg       0.84      0.84      0.83       440\n",
      "\n",
      "Confusion Matrix:\n",
      " [[61  4  0  0  0  0  0]\n",
      " [ 4 55  0  0  0  2  1]\n",
      " [ 0  2 46 11  0  2  7]\n",
      " [ 0  0  3 57  0  0  1]\n",
      " [ 0  0  0  0 59  0  0]\n",
      " [ 1  6  0  3  0 43  7]\n",
      " [ 0  4  9  1  0  4 47]]\n"
     ]
    }
   ],
   "source": [
    "from sklearn.metrics import accuracy_score, classification_report, confusion_matrix\n",
    "\n",
    "# Fungsi evaluasi\n",
    "def evaluate_model(y_true, y_pred, model_name):\n",
    "    print(f\"\\nModel: {model_name}\")\n",
    "    print(\"Accuracy:\", accuracy_score(y_true, y_pred))\n",
    "    print(\"Classification Report:\\n\", classification_report(y_true, y_pred))\n",
    "    print(\"Confusion Matrix:\\n\", confusion_matrix(y_true, y_pred))\n",
    "\n",
    "# Evaluasi model-model\n",
    "evaluate_model(y_test, svm_pred, \"SVM\")\n",
    "evaluate_model(y_test, rf_pred, \"Random Forest\")\n",
    "evaluate_model(y_test, knn_pred, \"KNN\")\n",
    "evaluate_model(y_test, dt_pred, \"Decision Tree\")\n",
    "evaluate_model(y_test, lr_pred, \"Logistic Regression\")"
   ]
  },
  {
   "cell_type": "markdown",
   "id": "7a15d159",
   "metadata": {},
   "source": [
    "#### **Visualisasi Perbandingan Performa**"
   ]
  },
  {
   "cell_type": "code",
   "execution_count": 107,
   "id": "0b03bdee",
   "metadata": {},
   "outputs": [],
   "source": [
    "import time\n",
    "\n",
    "start = time.time()\n",
    "dt_model.fit(X_train, y_train)\n",
    "dt_time = time.time() - start\n",
    "\n",
    "start = time.time()\n",
    "lr_model.fit(X_train, y_train)\n",
    "lr_time = time.time() - start"
   ]
  },
  {
   "cell_type": "code",
   "execution_count": 108,
   "id": "eb756ec4",
   "metadata": {},
   "outputs": [
    {
     "data": {
      "image/png": "[encoded data removed]",
      "text/plain": [
       "<Figure size 1200x500 with 2 Axes>"
      ]
     },
     "metadata": {},
     "output_type": "display_data"
    }
   ],
   "source": [
    "import matplotlib.pyplot as plt\n",
    "from sklearn.metrics import accuracy_score\n",
    "\n",
    "models = ['SVM', 'Random Forest', 'KNN', 'Decision Tree', 'Logistic Regression']\n",
    "accuracies = [\n",
    "    accuracy_score(y_test, svm_pred),\n",
    "    accuracy_score(y_test, rf_pred),\n",
    "    accuracy_score(y_test, knn_pred),\n",
    "    accuracy_score(y_test, dt_pred),\n",
    "    accuracy_score(y_test, lr_pred)\n",
    "]\n",
    "\n",
    "times = [svm_time, rf_time, knn_time, dt_time, lr_time]\n",
    "\n",
    "plt.figure(figsize=(12, 5))\n",
    "\n",
    "# Grafik Akurasi\n",
    "plt.subplot(1, 2, 1)\n",
    "plt.bar(models, accuracies, color=['skyblue', 'lightgreen', 'salmon', 'orange', 'purple'])\n",
    "plt.title(\"Perbandingan Akurasi Model\")\n",
    "plt.ylabel(\"Akurasi\")\n",
    "\n",
    "# Grafik Waktu Training\n",
    "plt.subplot(1, 2, 2)\n",
    "plt.bar(models, times, color=['blue', 'green', 'red', 'darkorange', 'indigo'])\n",
    "plt.title(\"Perbandingan Waktu Training\")\n",
    "plt.ylabel(\"Detik\")\n",
    "\n",
    "plt.tight_layout()\n",
    "plt.show()"
   ]
  },
  {
   "cell_type": "markdown",
   "id": "e0d9e122",
   "metadata": {},
   "source": [
    "Dari hasil evaluasi lima model klasifikasi—SVM, Random Forest, KNN, Decision Tree, dan Logistic Regression—dapat disimpulkan beberapa hal sebagai berikut:\n",
    "\n",
    "* **Performa Akurasi**\n",
    "\n",
    "  Berdasarkan hasil pengujian, model Decision Tree menunjukkan performa akurasi terbaik dibandingkan keempat model lainnya. Disusul oleh Random Forest dan SVM yang juga menghasilkan akurasi tinggi dan cukup stabil. Meskipun K-Nearest Neighbors (KNN) memberikan hasil yang sedikit lebih rendah, performanya masih tergolong baik. Sementara itu, Logistic Regression menempati posisi terakhir dalam hal akurasi, dengan nilai yang relatif lebih rendah dibandingkan model lainnya. Hal ini mengindikasikan bahwa model berbasis pohon keputusan lebih unggul dalam mempelajari pola dari data yang digunakan.\n",
    "\n",
    "* **Waktu Training**\n",
    "\n",
    "  Dari sisi waktu training, Decision Tree dan Logistic Regression merupakan model yang paling cepat untuk dilatih. Sementara itu, SVM dan Random Dalam hal efisiensi waktu pelatihan, terdapat perbedaan signifikan antar model. SVM merupakan model dengan waktu pelatihan paling lama, tercatat mencapai lebih dari 70 detik. Sebaliknya, Decision Tree dan KNN mampu menyelesaikan pelatihan dengan waktu yang sangat cepat, bahkan nyaris instan. Random Forest dan Logistic Regression berada di posisi menengah, dengan waktu pelatihan yang tidak terlalu lama namun tetap lebih tinggi dibandingkan Decision Tree dan KNN. Perbedaan ini penting dipertimbangkan terutama untuk kebutuhan implementasi sistem real-time atau dengan keterbatasan sumber daya komputasi.\n",
    "\n",
    "* **Pemilihan Model**\n",
    "\n",
    "  Dalam memilih model terbaik, perlu mempertimbangkan kombinasi antara akurasi dan efisiensi waktu pelatihan. Decision Tree menjadi pilihan paling seimbang karena mampu memberikan akurasi tinggi dengan waktu pelatihan yang sangat cepat. Random Forest juga dapat dipilih jika akurasi lebih diutamakan dan waktu pelatihan yang sedikit lebih lama masih dapat ditoleransi. Di sisi lain, Logistic Regression dapat digunakan untuk kasus sederhana yang membutuhkan pelatihan cepat meski dengan akurasi yang lebih rendah. Sementara itu, penggunaan SVM sebaiknya dipertimbangkan kembali, khususnya jika diterapkan pada dataset besar, mengingat waktu pelatihannya yang sangat lama.\n",
    "\n",
    "* **Rekomendasi**\n",
    "\n",
    "  Rekomendasi akhir dalam pemilihan model sebaiknya disesuaikan dengan kebutuhan dan karakteristik aplikasi. Jika tujuan utama adalah memperoleh model dengan akurasi tinggi dan pelatihan cepat, maka Decision Tree merupakan pilihan ideal. Untuk implementasi yang membutuhkan interpretabilitas serta efisiensi pelatihan, Logistic Regression dan KNN bisa menjadi alternatif yang layak. Sedangkan Random Forest cocok diterapkan pada proyek yang menekankan pada ketepatan prediksi meskipun dengan waktu pelatihan yang sedikit lebih besar. SVM hanya disarankan jika dilakukan tuning hyperparameter yang optimal dan sumber daya komputasi memadai."
   ]
  },
  {
   "cell_type": "markdown",
   "id": "e6ceea18",
   "metadata": {},
   "source": [
    "Saya memilih model **Decision Tree** karena mampu memberikan akurasi tertinggi di antara semua model yang diuji, sekaligus memiliki waktu pelatihan yang sangat cepat. Keunggulan ini menjadikan Decision Tree ideal untuk digunakan dalam sistem yang membutuhkan prediksi akurat namun tetap efisien secara komputasi. Selain itu, struktur model yang mudah dipahami membuatnya lebih interpretable dibanding model lain seperti Random Forest atau SVM. Kombinasi antara kinerja yang baik, efisiensi waktu, dan kemudahan interpretasi menjadikan Decision Tree sebagai pilihan terbaik dalam proyek ini."
   ]
  },
  {
   "cell_type": "markdown",
   "id": "941542d0",
   "metadata": {},
   "source": [
    "### **Hyperparameter Tuning**\n",
    "\n",
    "----"
   ]
  },
  {
   "cell_type": "markdown",
   "id": "63af1d7f",
   "metadata": {},
   "source": [
    "#### **Hyperparameter Tuning: Random Forest (GridSearchCV)**\n",
    "\n",
    "----"
   ]
  },
  {
   "cell_type": "markdown",
   "id": "ad302ae2",
   "metadata": {},
   "source": [
    "Pada tahap ini dilakukan proses **hyperparameter tuning** terhadap algoritma **Decision Tree** dengan menggunakan metode GridSearchCV. Teknik ini mengevaluasi berbagai kombinasi parameter secara sistematis untuk menemukan konfigurasi terbaik yang menghasilkan akurasi tertinggi melalui validasi silang. Parameter yang diuji meliputi jumlah pohon (`n_estimators`), kedalaman maksimum pohon (`max_depth`), jumlah minimum sampel untuk split (`min_samples_split`), dan jumlah minimum sampel di daun pohon (`min_samples_leaf`). Dengan konfigurasi `cv=5`, GridSearchCV melakukan `5-fold cross-validation` untuk setiap kombinasi parameter, sehingga hasil tuning yang diperoleh lebih andal dan tidak bergantung pada subset data tertentu."
   ]
  },
  {
   "cell_type": "code",
   "execution_count": 109,
   "id": "e7264bb2",
   "metadata": {},
   "outputs": [],
   "source": [
    "from sklearn.model_selection import GridSearchCV\n",
    "from sklearn.tree import DecisionTreeClassifier\n",
    "\n",
    "# Definisi parameter grid untuk Decision Tree\n",
    "param_grid = {\n",
    "    'max_depth': [10, None],\n",
    "    'min_samples_split': [2, 5],\n",
    "    'criterion': ['gini', 'entropy']\n",
    "}\n",
    "\n",
    "# Inisialisasi GridSearchCV\n",
    "grid_search = GridSearchCV(\n",
    "    estimator=DecisionTreeClassifier(random_state=42),\n",
    "    param_grid=param_grid,\n",
    "    cv=5,\n",
    "    scoring='accuracy',\n",
    "    n_jobs=-1,\n",
    "    verbose=1\n",
    ")"
   ]
  },
  {
   "cell_type": "code",
   "execution_count": 110,
   "id": "54b2c673",
   "metadata": {},
   "outputs": [
    {
     "name": "stdout",
     "output_type": "stream",
     "text": [
      "Fitting 5 folds for each of 8 candidates, totalling 40 fits\n"
     ]
    },
    {
     "data": {
      "text/html": [
       "<style>#sk-container-id-4 {\n",
       "  /* Definition of color scheme common for light and dark mode */\n",
       "  --sklearn-color-text: black;\n",
       "  --sklearn-color-line: gray;\n",
       "  /* Definition of color scheme for unfitted estimators */\n",
       "  --sklearn-color-unfitted-level-0: #fff5e6;\n",
       "  --sklearn-color-unfitted-level-1: #f6e4d2;\n",
       "  --sklearn-color-unfitted-level-2: #ffe0b3;\n",
       "  --sklearn-color-unfitted-level-3: chocolate;\n",
       "  /* Definition of color scheme for fitted estimators */\n",
       "  --sklearn-color-fitted-level-0: #f0f8ff;\n",
       "  --sklearn-color-fitted-level-1: #d4ebff;\n",
       "  --sklearn-color-fitted-level-2: #b3dbfd;\n",
       "  --sklearn-color-fitted-level-3: cornflowerblue;\n",
       "\n",
       "  /* Specific color for light theme */\n",
       "  --sklearn-color-text-on-default-background: var(--sg-text-color, var(--theme-code-foreground, var(--jp-content-font-color1, black)));\n",
       "  --sklearn-color-background: var(--sg-background-color, var(--theme-background, var(--jp-layout-color0, white)));\n",
       "  --sklearn-color-border-box: var(--sg-text-color, var(--theme-code-foreground, var(--jp-content-font-color1, black)));\n",
       "  --sklearn-color-icon: #696969;\n",
       "\n",
       "  @media (prefers-color-scheme: dark) {\n",
       "    /* Redefinition of color scheme for dark theme */\n",
       "    --sklearn-color-text-on-default-background: var(--sg-text-color, var(--theme-code-foreground, var(--jp-content-font-color1, white)));\n",
       "    --sklearn-color-background: var(--sg-background-color, var(--theme-background, var(--jp-layout-color0, #111)));\n",
       "    --sklearn-color-border-box: var(--sg-text-color, var(--theme-code-foreground, var(--jp-content-font-color1, white)));\n",
       "    --sklearn-color-icon: #878787;\n",
       "  }\n",
       "}\n",
       "\n",
       "#sk-container-id-4 {\n",
       "  color: var(--sklearn-color-text);\n",
       "}\n",
       "\n",
       "#sk-container-id-4 pre {\n",
       "  padding: 0;\n",
       "}\n",
       "\n",
       "#sk-container-id-4 input.sk-hidden--visually {\n",
       "  border: 0;\n",
       "  clip: rect(1px 1px 1px 1px);\n",
       "  clip: rect(1px, 1px, 1px, 1px);\n",
       "  height: 1px;\n",
       "  margin: -1px;\n",
       "  overflow: hidden;\n",
       "  padding: 0;\n",
       "  position: absolute;\n",
       "  width: 1px;\n",
       "}\n",
       "\n",
       "#sk-container-id-4 div.sk-dashed-wrapped {\n",
       "  border: 1px dashed var(--sklearn-color-line);\n",
       "  margin: 0 0.4em 0.5em 0.4em;\n",
       "  box-sizing: border-box;\n",
       "  padding-bottom: 0.4em;\n",
       "  background-color: var(--sklearn-color-background);\n",
       "}\n",
       "\n",
       "#sk-container-id-4 div.sk-container {\n",
       "  /* jupyter's `normalize.less` sets `[hidden] { display: none; }`\n",
       "     but bootstrap.min.css set `[hidden] { display: none !important; }`\n",
       "     so we also need the `!important` here to be able to override the\n",
       "     default hidden behavior on the sphinx rendered scikit-learn.org.\n",
       "     See: https://github.com/scikit-learn/scikit-learn/issues/21755 */\n",
       "  display: inline-block !important;\n",
       "  position: relative;\n",
       "}\n",
       "\n",
       "#sk-container-id-4 div.sk-text-repr-fallback {\n",
       "  display: none;\n",
       "}\n",
       "\n",
       "div.sk-parallel-item,\n",
       "div.sk-serial,\n",
       "div.sk-item {\n",
       "  /* draw centered vertical line to link estimators */\n",
       "  background-image: linear-gradient(var(--sklearn-color-text-on-default-background), var(--sklearn-color-text-on-default-background));\n",
       "  background-size: 2px 100%;\n",
       "  background-repeat: no-repeat;\n",
       "  background-position: center center;\n",
       "}\n",
       "\n",
       "/* Parallel-specific style estimator block */\n",
       "\n",
       "#sk-container-id-4 div.sk-parallel-item::after {\n",
       "  content: \"\";\n",
       "  width: 100%;\n",
       "  border-bottom: 2px solid var(--sklearn-color-text-on-default-background);\n",
       "  flex-grow: 1;\n",
       "}\n",
       "\n",
       "#sk-container-id-4 div.sk-parallel {\n",
       "  display: flex;\n",
       "  align-items: stretch;\n",
       "  justify-content: center;\n",
       "  background-color: var(--sklearn-color-background);\n",
       "  position: relative;\n",
       "}\n",
       "\n",
       "#sk-container-id-4 div.sk-parallel-item {\n",
       "  display: flex;\n",
       "  flex-direction: column;\n",
       "}\n",
       "\n",
       "#sk-container-id-4 div.sk-parallel-item:first-child::after {\n",
       "  align-self: flex-end;\n",
       "  width: 50%;\n",
       "}\n",
       "\n",
       "#sk-container-id-4 div.sk-parallel-item:last-child::after {\n",
       "  align-self: flex-start;\n",
       "  width: 50%;\n",
       "}\n",
       "\n",
       "#sk-container-id-4 div.sk-parallel-item:only-child::after {\n",
       "  width: 0;\n",
       "}\n",
       "\n",
       "/* Serial-specific style estimator block */\n",
       "\n",
       "#sk-container-id-4 div.sk-serial {\n",
       "  display: flex;\n",
       "  flex-direction: column;\n",
       "  align-items: center;\n",
       "  background-color: var(--sklearn-color-background);\n",
       "  padding-right: 1em;\n",
       "  padding-left: 1em;\n",
       "}\n",
       "\n",
       "\n",
       "/* Toggleable style: style used for estimator/Pipeline/ColumnTransformer box that is\n",
       "clickable and can be expanded/collapsed.\n",
       "- Pipeline and ColumnTransformer use this feature and define the default style\n",
       "- Estimators will overwrite some part of the style using the `sk-estimator` class\n",
       "*/\n",
       "\n",
       "/* Pipeline and ColumnTransformer style (default) */\n",
       "\n",
       "#sk-container-id-4 div.sk-toggleable {\n",
       "  /* Default theme specific background. It is overwritten whether we have a\n",
       "  specific estimator or a Pipeline/ColumnTransformer */\n",
       "  background-color: var(--sklearn-color-background);\n",
       "}\n",
       "\n",
       "/* Toggleable label */\n",
       "#sk-container-id-4 label.sk-toggleable__label {\n",
       "  cursor: pointer;\n",
       "  display: block;\n",
       "  width: 100%;\n",
       "  margin-bottom: 0;\n",
       "  padding: 0.5em;\n",
       "  box-sizing: border-box;\n",
       "  text-align: center;\n",
       "}\n",
       "\n",
       "#sk-container-id-4 label.sk-toggleable__label-arrow:before {\n",
       "  /* Arrow on the left of the label */\n",
       "  content: \"▸\";\n",
       "  float: left;\n",
       "  margin-right: 0.25em;\n",
       "  color: var(--sklearn-color-icon);\n",
       "}\n",
       "\n",
       "#sk-container-id-4 label.sk-toggleable__label-arrow:hover:before {\n",
       "  color: var(--sklearn-color-text);\n",
       "}\n",
       "\n",
       "/* Toggleable content - dropdown */\n",
       "\n",
       "#sk-container-id-4 div.sk-toggleable__content {\n",
       "  max-height: 0;\n",
       "  max-width: 0;\n",
       "  overflow: hidden;\n",
       "  text-align: left;\n",
       "  /* unfitted */\n",
       "  background-color: var(--sklearn-color-unfitted-level-0);\n",
       "}\n",
       "\n",
       "#sk-container-id-4 div.sk-toggleable__content.fitted {\n",
       "  /* fitted */\n",
       "  background-color: var(--sklearn-color-fitted-level-0);\n",
       "}\n",
       "\n",
       "#sk-container-id-4 div.sk-toggleable__content pre {\n",
       "  margin: 0.2em;\n",
       "  border-radius: 0.25em;\n",
       "  color: var(--sklearn-color-text);\n",
       "  /* unfitted */\n",
       "  background-color: var(--sklearn-color-unfitted-level-0);\n",
       "}\n",
       "\n",
       "#sk-container-id-4 div.sk-toggleable__content.fitted pre {\n",
       "  /* unfitted */\n",
       "  background-color: var(--sklearn-color-fitted-level-0);\n",
       "}\n",
       "\n",
       "#sk-container-id-4 input.sk-toggleable__control:checked~div.sk-toggleable__content {\n",
       "  /* Expand drop-down */\n",
       "  max-height: 200px;\n",
       "  max-width: 100%;\n",
       "  overflow: auto;\n",
       "}\n",
       "\n",
       "#sk-container-id-4 input.sk-toggleable__control:checked~label.sk-toggleable__label-arrow:before {\n",
       "  content: \"▾\";\n",
       "}\n",
       "\n",
       "/* Pipeline/ColumnTransformer-specific style */\n",
       "\n",
       "#sk-container-id-4 div.sk-label input.sk-toggleable__control:checked~label.sk-toggleable__label {\n",
       "  color: var(--sklearn-color-text);\n",
       "  background-color: var(--sklearn-color-unfitted-level-2);\n",
       "}\n",
       "\n",
       "#sk-container-id-4 div.sk-label.fitted input.sk-toggleable__control:checked~label.sk-toggleable__label {\n",
       "  background-color: var(--sklearn-color-fitted-level-2);\n",
       "}\n",
       "\n",
       "/* Estimator-specific style */\n",
       "\n",
       "/* Colorize estimator box */\n",
       "#sk-container-id-4 div.sk-estimator input.sk-toggleable__control:checked~label.sk-toggleable__label {\n",
       "  /* unfitted */\n",
       "  background-color: var(--sklearn-color-unfitted-level-2);\n",
       "}\n",
       "\n",
       "#sk-container-id-4 div.sk-estimator.fitted input.sk-toggleable__control:checked~label.sk-toggleable__label {\n",
       "  /* fitted */\n",
       "  background-color: var(--sklearn-color-fitted-level-2);\n",
       "}\n",
       "\n",
       "#sk-container-id-4 div.sk-label label.sk-toggleable__label,\n",
       "#sk-container-id-4 div.sk-label label {\n",
       "  /* The background is the default theme color */\n",
       "  color: var(--sklearn-color-text-on-default-background);\n",
       "}\n",
       "\n",
       "/* On hover, darken the color of the background */\n",
       "#sk-container-id-4 div.sk-label:hover label.sk-toggleable__label {\n",
       "  color: var(--sklearn-color-text);\n",
       "  background-color: var(--sklearn-color-unfitted-level-2);\n",
       "}\n",
       "\n",
       "/* Label box, darken color on hover, fitted */\n",
       "#sk-container-id-4 div.sk-label.fitted:hover label.sk-toggleable__label.fitted {\n",
       "  color: var(--sklearn-color-text);\n",
       "  background-color: var(--sklearn-color-fitted-level-2);\n",
       "}\n",
       "\n",
       "/* Estimator label */\n",
       "\n",
       "#sk-container-id-4 div.sk-label label {\n",
       "  font-family: monospace;\n",
       "  font-weight: bold;\n",
       "  display: inline-block;\n",
       "  line-height: 1.2em;\n",
       "}\n",
       "\n",
       "#sk-container-id-4 div.sk-label-container {\n",
       "  text-align: center;\n",
       "}\n",
       "\n",
       "/* Estimator-specific */\n",
       "#sk-container-id-4 div.sk-estimator {\n",
       "  font-family: monospace;\n",
       "  border: 1px dotted var(--sklearn-color-border-box);\n",
       "  border-radius: 0.25em;\n",
       "  box-sizing: border-box;\n",
       "  margin-bottom: 0.5em;\n",
       "  /* unfitted */\n",
       "  background-color: var(--sklearn-color-unfitted-level-0);\n",
       "}\n",
       "\n",
       "#sk-container-id-4 div.sk-estimator.fitted {\n",
       "  /* fitted */\n",
       "  background-color: var(--sklearn-color-fitted-level-0);\n",
       "}\n",
       "\n",
       "/* on hover */\n",
       "#sk-container-id-4 div.sk-estimator:hover {\n",
       "  /* unfitted */\n",
       "  background-color: var(--sklearn-color-unfitted-level-2);\n",
       "}\n",
       "\n",
       "#sk-container-id-4 div.sk-estimator.fitted:hover {\n",
       "  /* fitted */\n",
       "  background-color: var(--sklearn-color-fitted-level-2);\n",
       "}\n",
       "\n",
       "/* Specification for estimator info (e.g. \"i\" and \"?\") */\n",
       "\n",
       "/* Common style for \"i\" and \"?\" */\n",
       "\n",
       ".sk-estimator-doc-link,\n",
       "a:link.sk-estimator-doc-link,\n",
       "a:visited.sk-estimator-doc-link {\n",
       "  float: right;\n",
       "  font-size: smaller;\n",
       "  line-height: 1em;\n",
       "  font-family: monospace;\n",
       "  background-color: var(--sklearn-color-background);\n",
       "  border-radius: 1em;\n",
       "  height: 1em;\n",
       "  width: 1em;\n",
       "  text-decoration: none !important;\n",
       "  margin-left: 1ex;\n",
       "  /* unfitted */\n",
       "  border: var(--sklearn-color-unfitted-level-1) 1pt solid;\n",
       "  color: var(--sklearn-color-unfitted-level-1);\n",
       "}\n",
       "\n",
       ".sk-estimator-doc-link.fitted,\n",
       "a:link.sk-estimator-doc-link.fitted,\n",
       "a:visited.sk-estimator-doc-link.fitted {\n",
       "  /* fitted */\n",
       "  border: var(--sklearn-color-fitted-level-1) 1pt solid;\n",
       "  color: var(--sklearn-color-fitted-level-1);\n",
       "}\n",
       "\n",
       "/* On hover */\n",
       "div.sk-estimator:hover .sk-estimator-doc-link:hover,\n",
       ".sk-estimator-doc-link:hover,\n",
       "div.sk-label-container:hover .sk-estimator-doc-link:hover,\n",
       ".sk-estimator-doc-link:hover {\n",
       "  /* unfitted */\n",
       "  background-color: var(--sklearn-color-unfitted-level-3);\n",
       "  color: var(--sklearn-color-background);\n",
       "  text-decoration: none;\n",
       "}\n",
       "\n",
       "div.sk-estimator.fitted:hover .sk-estimator-doc-link.fitted:hover,\n",
       ".sk-estimator-doc-link.fitted:hover,\n",
       "div.sk-label-container:hover .sk-estimator-doc-link.fitted:hover,\n",
       ".sk-estimator-doc-link.fitted:hover {\n",
       "  /* fitted */\n",
       "  background-color: var(--sklearn-color-fitted-level-3);\n",
       "  color: var(--sklearn-color-background);\n",
       "  text-decoration: none;\n",
       "}\n",
       "\n",
       "/* Span, style for the box shown on hovering the info icon */\n",
       ".sk-estimator-doc-link span {\n",
       "  display: none;\n",
       "  z-index: 9999;\n",
       "  position: relative;\n",
       "  font-weight: normal;\n",
       "  right: .2ex;\n",
       "  padding: .5ex;\n",
       "  margin: .5ex;\n",
       "  width: min-content;\n",
       "  min-width: 20ex;\n",
       "  max-width: 50ex;\n",
       "  color: var(--sklearn-color-text);\n",
       "  box-shadow: 2pt 2pt 4pt #999;\n",
       "  /* unfitted */\n",
       "  background: var(--sklearn-color-unfitted-level-0);\n",
       "  border: .5pt solid var(--sklearn-color-unfitted-level-3);\n",
       "}\n",
       "\n",
       ".sk-estimator-doc-link.fitted span {\n",
       "  /* fitted */\n",
       "  background: var(--sklearn-color-fitted-level-0);\n",
       "  border: var(--sklearn-color-fitted-level-3);\n",
       "}\n",
       "\n",
       ".sk-estimator-doc-link:hover span {\n",
       "  display: block;\n",
       "}\n",
       "\n",
       "/* \"?\"-specific style due to the `<a>` HTML tag */\n",
       "\n",
       "#sk-container-id-4 a.estimator_doc_link {\n",
       "  float: right;\n",
       "  font-size: 1rem;\n",
       "  line-height: 1em;\n",
       "  font-family: monospace;\n",
       "  background-color: var(--sklearn-color-background);\n",
       "  border-radius: 1rem;\n",
       "  height: 1rem;\n",
       "  width: 1rem;\n",
       "  text-decoration: none;\n",
       "  /* unfitted */\n",
       "  color: var(--sklearn-color-unfitted-level-1);\n",
       "  border: var(--sklearn-color-unfitted-level-1) 1pt solid;\n",
       "}\n",
       "\n",
       "#sk-container-id-4 a.estimator_doc_link.fitted {\n",
       "  /* fitted */\n",
       "  border: var(--sklearn-color-fitted-level-1) 1pt solid;\n",
       "  color: var(--sklearn-color-fitted-level-1);\n",
       "}\n",
       "\n",
       "/* On hover */\n",
       "#sk-container-id-4 a.estimator_doc_link:hover {\n",
       "  /* unfitted */\n",
       "  background-color: var(--sklearn-color-unfitted-level-3);\n",
       "  color: var(--sklearn-color-background);\n",
       "  text-decoration: none;\n",
       "}\n",
       "\n",
       "#sk-container-id-4 a.estimator_doc_link.fitted:hover {\n",
       "  /* fitted */\n",
       "  background-color: var(--sklearn-color-fitted-level-3);\n",
       "}\n",
       "</style><div id=\"sk-container-id-4\" class=\"sk-top-container\"><div class=\"sk-text-repr-fallback\"><pre>GridSearchCV(cv=5, estimator=DecisionTreeClassifier(random_state=42), n_jobs=-1,\n",
       "             param_grid={&#x27;criterion&#x27;: [&#x27;gini&#x27;, &#x27;entropy&#x27;],\n",
       "                         &#x27;max_depth&#x27;: [10, None], &#x27;min_samples_split&#x27;: [2, 5]},\n",
       "             scoring=&#x27;accuracy&#x27;, verbose=1)</pre><b>In a Jupyter environment, please rerun this cell to show the HTML representation or trust the notebook. <br />On GitHub, the HTML representation is unable to render, please try loading this page with nbviewer.org.</b></div><div class=\"sk-container\" hidden><div class=\"sk-item sk-dashed-wrapped\"><div class=\"sk-label-container\"><div class=\"sk-label fitted sk-toggleable\"><input class=\"sk-toggleable__control sk-hidden--visually\" id=\"sk-estimator-id-10\" type=\"checkbox\" ><label for=\"sk-estimator-id-10\" class=\"sk-toggleable__label fitted sk-toggleable__label-arrow fitted\">&nbsp;&nbsp;GridSearchCV<a class=\"sk-estimator-doc-link fitted\" rel=\"noreferrer\" target=\"_blank\" href=\"https://scikit-learn.org/1.5/modules/generated/sklearn.model_selection.GridSearchCV.html\">?<span>Documentation for GridSearchCV</span></a><span class=\"sk-estimator-doc-link fitted\">i<span>Fitted</span></span></label><div class=\"sk-toggleable__content fitted\"><pre>GridSearchCV(cv=5, estimator=DecisionTreeClassifier(random_state=42), n_jobs=-1,\n",
       "             param_grid={&#x27;criterion&#x27;: [&#x27;gini&#x27;, &#x27;entropy&#x27;],\n",
       "                         &#x27;max_depth&#x27;: [10, None], &#x27;min_samples_split&#x27;: [2, 5]},\n",
       "             scoring=&#x27;accuracy&#x27;, verbose=1)</pre></div> </div></div><div class=\"sk-parallel\"><div class=\"sk-parallel-item\"><div class=\"sk-item\"><div class=\"sk-label-container\"><div class=\"sk-label fitted sk-toggleable\"><input class=\"sk-toggleable__control sk-hidden--visually\" id=\"sk-estimator-id-11\" type=\"checkbox\" ><label for=\"sk-estimator-id-11\" class=\"sk-toggleable__label fitted sk-toggleable__label-arrow fitted\">best_estimator_: DecisionTreeClassifier</label><div class=\"sk-toggleable__content fitted\"><pre>DecisionTreeClassifier(criterion=&#x27;entropy&#x27;, max_depth=10, random_state=42)</pre></div> </div></div><div class=\"sk-serial\"><div class=\"sk-item\"><div class=\"sk-estimator fitted sk-toggleable\"><input class=\"sk-toggleable__control sk-hidden--visually\" id=\"sk-estimator-id-12\" type=\"checkbox\" ><label for=\"sk-estimator-id-12\" class=\"sk-toggleable__label fitted sk-toggleable__label-arrow fitted\">&nbsp;DecisionTreeClassifier<a class=\"sk-estimator-doc-link fitted\" rel=\"noreferrer\" target=\"_blank\" href=\"https://scikit-learn.org/1.5/modules/generated/sklearn.tree.DecisionTreeClassifier.html\">?<span>Documentation for DecisionTreeClassifier</span></a></label><div class=\"sk-toggleable__content fitted\"><pre>DecisionTreeClassifier(criterion=&#x27;entropy&#x27;, max_depth=10, random_state=42)</pre></div> </div></div></div></div></div></div></div></div></div>"
      ],
      "text/plain": [
       "GridSearchCV(cv=5, estimator=DecisionTreeClassifier(random_state=42), n_jobs=-1,\n",
       "             param_grid={'criterion': ['gini', 'entropy'],\n",
       "                         'max_depth': [10, None], 'min_samples_split': [2, 5]},\n",
       "             scoring='accuracy', verbose=1)"
      ]
     },
     "execution_count": 110,
     "metadata": {},
     "output_type": "execute_result"
    }
   ],
   "source": [
    "grid_search.fit(X_train, y_train)"
   ]
  },
  {
   "cell_type": "markdown",
   "id": "da728188",
   "metadata": {},
   "source": [
    "#### **Latih Ulang dengan Parameter Terbaik**\n",
    "\n",
    "----"
   ]
  },
  {
   "cell_type": "markdown",
   "id": "20517cc4",
   "metadata": {},
   "source": [
    "Setelah **GridSearchCV** menemukan kombinasi parameter terbaik, model Decision Tree kemudian dilatih ulang menggunakan konfigurasi tersebut. Model hasil tuning diperoleh dari atribut `.best_estimator_`, yang sudah teruji memberikan akurasi tertinggi pada data pelatihan selama proses validasi silang. Pelatihan ulang ini dilakukan dengan data latih (`X_train` dan `y_train`) yang sama, tetapi menggunakan parameter optimal. Tujuan dari tahap ini adalah untuk menghasilkan model akhir yang siap diuji pada data baru dan mampu memberikan performa terbaik dalam klasifikasi obesitas."
   ]
  },
  {
   "cell_type": "code",
   "execution_count": 111,
   "id": "ae91987d",
   "metadata": {},
   "outputs": [
    {
     "name": "stdout",
     "output_type": "stream",
     "text": [
      "Parameter terbaik: {'criterion': 'entropy', 'max_depth': 10, 'min_samples_split': 2}\n"
     ]
    }
   ],
   "source": [
    "print(\"Parameter terbaik:\", grid_search.best_params_)"
   ]
  },
  {
   "cell_type": "code",
   "execution_count": 112,
   "id": "b2371719",
   "metadata": {},
   "outputs": [],
   "source": [
    "# Model terbaik dari hasil tuning\n",
    "best_dt = grid_search.best_estimator_\n",
    "\n",
    "# # Latih ulang model terbaik (sebenarnya sudah dilatih saat GridSearchCV.fit, tapi ini untuk memastikan)\n",
    "# best_dt.fit(X_train, y_train)\n",
    "\n",
    "# Prediksi ulang dengan model yang sudah dituning\n",
    "dt_pred_tuned = best_dt.predict(X_test)"
   ]
  },
  {
   "cell_type": "markdown",
   "id": "c0907538",
   "metadata": {},
   "source": [
    "#### **Evaluasi Model Sebelum & Sesudah Tuning**\n",
    "\n",
    "----"
   ]
  },
  {
   "cell_type": "markdown",
   "id": "b18f892d",
   "metadata": {},
   "source": [
    "**Evaluasi model** dilakukan dengan membandingkan performa prediksi antara model Decision Tree sebelum dan sesudah tuning. Metode evaluasi menggunakan metrik akurasi dan `classification report` yang mencakup `precision`, `recall`, `f1-score`, serta jumlah dukungan (support) untuk tiap kelas obesitas. Perbandingan ini bertujuan untuk melihat seberapa besar peningkatan performa yang diperoleh setelah parameter model dioptimalkan, serta untuk memastikan bahwa model tidak hanya unggul dalam satu kelas tertentu, tetapi memberikan hasil yang seimbang di seluruh kelas."
   ]
  },
  {
   "cell_type": "code",
   "execution_count": 113,
   "id": "676b0e3c",
   "metadata": {},
   "outputs": [
    {
     "name": "stdout",
     "output_type": "stream",
     "text": [
      "Decision Tree (Sebelum Tuning)\n",
      "Accuracy: 0.9159090909090909\n",
      "\n",
      "Decision Tree (Setelah Tuning)\n",
      "Accuracy: 0.9386363636363636\n",
      "                     precision    recall  f1-score   support\n",
      "\n",
      "Insufficient_Weight       0.94      0.98      0.96        65\n",
      "      Normal_Weight       0.91      0.85      0.88        62\n",
      "     Obesity_Type_I       0.96      0.96      0.96        68\n",
      "    Obesity_Type_II       0.94      0.98      0.96        61\n",
      "   Obesity_Type_III       0.98      1.00      0.99        59\n",
      " Overweight_Level_I       0.91      0.87      0.89        60\n",
      "Overweight_Level_II       0.92      0.92      0.92        65\n",
      "\n",
      "           accuracy                           0.94       440\n",
      "          macro avg       0.94      0.94      0.94       440\n",
      "       weighted avg       0.94      0.94      0.94       440\n",
      "\n"
     ]
    }
   ],
   "source": [
    "from sklearn.metrics import accuracy_score, classification_report\n",
    "\n",
    "# Evaluasi sebelum tuning\n",
    "print(\"Decision Tree (Sebelum Tuning)\")\n",
    "print(\"Accuracy:\", accuracy_score(y_test, dt_pred))\n",
    "\n",
    "# Evaluasi sesudah tuning\n",
    "print(\"\\nDecision Tree (Setelah Tuning)\")\n",
    "print(\"Accuracy:\", accuracy_score(y_test, dt_pred_tuned))\n",
    "print(classification_report(y_test, dt_pred_tuned))"
   ]
  },
  {
   "cell_type": "markdown",
   "id": "55afd549",
   "metadata": {},
   "source": [
    "#### **Visualisasi Perbandingan Performa**\n",
    "\n",
    "----"
   ]
  },
  {
   "cell_type": "code",
   "execution_count": 114,
   "id": "63dbc05c",
   "metadata": {},
   "outputs": [
    {
     "data": {
      "image/png": "[encoded data removed]",
      "text/plain": [
       "<Figure size 600x400 with 1 Axes>"
      ]
     },
     "metadata": {},
     "output_type": "display_data"
    }
   ],
   "source": [
    "import matplotlib.pyplot as plt\n",
    "from sklearn.metrics import accuracy_score\n",
    "\n",
    "# Hitung akurasi sebelum dan sesudah tuning Decision Tree\n",
    "acc_before = accuracy_score(y_test, dt_pred)\n",
    "acc_after = accuracy_score(y_test, dt_pred_tuned)\n",
    "\n",
    "# Visualisasi\n",
    "plt.figure(figsize=(6, 4))\n",
    "plt.bar(['Sebelum Tuning', 'Setelah Tuning'], [acc_before, acc_after], color=['salmon', 'seagreen'])\n",
    "plt.ylim(0.8, 1)\n",
    "plt.title('Perbandingan Akurasi Decision Tree')\n",
    "plt.ylabel('Akurasi')\n",
    "plt.grid(True, linestyle='--', alpha=0.6)\n",
    "plt.show()"
   ]
  },
  {
   "cell_type": "markdown",
   "id": "0cabb8e0",
   "metadata": {},
   "source": [
    "**Kesimpulan :**\n",
    "\n",
    "Berdasarkan visualisasi pada grafik Perbandingan Akurasi Decision Tree, dapat disimpulkan bahwa proses hyperparameter tuning memberikan dampak positif terhadap kinerja model. Terlihat adanya peningkatan akurasi setelah tuning dilakukan, dari sebelumnya sekitar 91% menjadi lebih dari 93%. Hal ini menunjukkan bahwa pemilihan parameter yang optimal melalui GridSearchCV berhasil meningkatkan kemampuan model dalam mempelajari pola dari data secara lebih efektif. Dengan demikian, tuning model merupakan langkah penting dalam pipeline machine learning untuk mencapai performa prediksi yang maksimal."
   ]
  },
  {
   "cell_type": "code",
   "execution_count": 116,
   "id": "627b6995",
   "metadata": {},
   "outputs": [],
   "source": [
    "import pickle\n",
    "\n",
    "# Simpan Model, Scaler, dan Fitur\n",
    "with open('dt_model.sav', 'wb') as f:\n",
    "    pickle.dump(dt_model, f)\n",
    "\n",
    "with open('scaler.pkl', 'wb') as f:\n",
    "    pickle.dump(scaler, f)\n",
    "\n",
    "with open('feature_columns.pkl', 'wb') as f:\n",
    "    pickle.dump(feature_columns.tolist(), f)\n",
    "\n",
    "# Simpan Kolom Numerik Saat Scaler Fit\n",
    "with open('numerical_columns.pkl', 'wb') as f:\n",
    "    pickle.dump(num_cols, f)"
   ]
  }
 ],
 "metadata": {
  "kernelspec": {
   "display_name": "base",
   "language": "python",
   "name": "python3"
  },
  "language_info": {
   "codemirror_mode": {
    "name": "ipython",
    "version": 3
   },
   "file_extension": ".py",
   "mimetype": "text/x-python",
   "name": "python",
   "nbconvert_exporter": "python",
   "pygments_lexer": "ipython3",
   "version": "3.12.7"
  }
 },
 "nbformat": 4,
 "nbformat_minor": 5
}
